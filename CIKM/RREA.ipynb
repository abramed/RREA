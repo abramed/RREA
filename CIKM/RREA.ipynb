{
  "cells": [
    {
      "cell_type": "markdown",
      "metadata": {
        "id": "view-in-github",
        "colab_type": "text"
      },
      "source": [
        "<a href=\"https://colab.research.google.com/github/abramed/RREA/blob/master/CIKM/RREA.ipynb\" target=\"_parent\"><img src=\"https://colab.research.google.com/assets/colab-badge.svg\" alt=\"Open In Colab\"/></a>"
      ]
    },
    {
      "cell_type": "code",
      "source": [
        "!git clone https://github.com/abramed/RREA.git"
      ],
      "metadata": {
        "colab": {
          "base_uri": "https://localhost:8080/"
        },
        "id": "av-COlYKCPcq",
        "outputId": "74a5809a-c9f3-45b3-aae8-2c1a0eae888e"
      },
      "execution_count": 1,
      "outputs": [
        {
          "output_type": "stream",
          "name": "stdout",
          "text": [
            "Cloning into 'RREA'...\n",
            "remote: Enumerating objects: 68, done.\u001b[K\n",
            "remote: Counting objects: 100% (68/68), done.\u001b[K\n",
            "remote: Compressing objects: 100% (66/66), done.\u001b[K\n",
            "remote: Total 68 (delta 21), reused 0 (delta 0), pack-reused 0\u001b[K\n",
            "Unpacking objects: 100% (68/68), 6.07 MiB | 3.18 MiB/s, done.\n"
          ]
        }
      ]
    },
    {
      "cell_type": "code",
      "source": [
        "%cd /content/RREA/CIKM"
      ],
      "metadata": {
        "colab": {
          "base_uri": "https://localhost:8080/"
        },
        "id": "pi1DhS5hCW8Z",
        "outputId": "e847cd09-bd21-4d63-eb52-75593c9cfb77"
      },
      "execution_count": 2,
      "outputs": [
        {
          "output_type": "stream",
          "name": "stdout",
          "text": [
            "/content/RREA/CIKM\n"
          ]
        }
      ]
    },
    {
      "cell_type": "code",
      "source": [
        "\n",
        "import tensorflow.compat.v1 as tf\n",
        "\n",
        "config = tf.ConfigProto()\n",
        "\n",
        "config.gpu_options.allow_growth=True  \n",
        "sess = tf.Session(config=config)  "
      ],
      "metadata": {
        "id": "-8HT4VaIM7xe"
      },
      "execution_count": 3,
      "outputs": []
    },
    {
      "cell_type": "code",
      "execution_count": 4,
      "metadata": {
        "colab": {
          "base_uri": "https://localhost:8080/",
          "height": 35
        },
        "id": "rr6oH5OVCHPI",
        "outputId": "7e8a87fc-d1c5-4a00-f3a2-d3e8362d3802"
      },
      "outputs": [
        {
          "output_type": "execute_result",
          "data": {
            "text/plain": [
              "' os.environ[\"CUDA_VISIBLE_DEVICES\"] = \"0\"\\nos.environ[\"TF_CPP_MIN_LOG_LEVEL\"]=\"2\"\\ntf.compat.v1.logging.set_verbosity(tf.compat.v1.logging.ERROR) '"
            ],
            "application/vnd.google.colaboratory.intrinsic+json": {
              "type": "string"
            }
          },
          "metadata": {},
          "execution_count": 4
        }
      ],
      "source": [
        "import warnings\n",
        "warnings.filterwarnings('ignore')\n",
        "\n",
        "import os\n",
        "import random\n",
        "import keras\n",
        "from tqdm import *\n",
        "import numpy as np\n",
        "from utils import *\n",
        "from CSLS import *\n",
        "import keras.backend as K\n",
        "from keras.layers import *\n",
        "from layer import NR_GraphAttention\n",
        "\n",
        "''' os.environ[\"CUDA_VISIBLE_DEVICES\"] = \"0\"\n",
        "os.environ[\"TF_CPP_MIN_LOG_LEVEL\"]=\"2\"\n",
        "tf.compat.v1.logging.set_verbosity(tf.compat.v1.logging.ERROR) '''\n",
        "\n",
        "#config = tf.ConfigProto()\n",
        "#config.gpu_options.allow_growth=True  \n",
        "#sess = tf.Session(config=config)  "
      ]
    },
    {
      "cell_type": "code",
      "execution_count": 5,
      "metadata": {
        "colab": {
          "base_uri": "https://localhost:8080/"
        },
        "id": "0alF2twXCHPM",
        "outputId": "db8fea9b-95e5-4a70-e4c8-64985827a26d"
      },
      "outputs": [
        {
          "output_type": "stream",
          "name": "stdout",
          "text": [
            "38960 3025\n"
          ]
        },
        {
          "output_type": "execute_result",
          "data": {
            "text/plain": [
              "((4500, 2),\n",
              " (10500, 2),\n",
              " (259545, 2),\n",
              " (331112, 2),\n",
              " (331112,),\n",
              " (38960, 38960),\n",
              " (38960, 6050))"
            ]
          },
          "metadata": {},
          "execution_count": 5
        }
      ],
      "source": [
        "lang = 'zh'\n",
        "train_pair,dev_pair,adj_matrix,r_index,r_val,adj_features,rel_features = load_data('data/%s_en/'%lang,train_ratio=0.30)\n",
        "adj_matrix = np.stack(adj_matrix.nonzero(),axis = 1)\n",
        "rel_matrix,rel_val = np.stack(rel_features.nonzero(),axis = 1),rel_features.data\n",
        "ent_matrix,ent_val = np.stack(adj_features.nonzero(),axis = 1),adj_features.data\n",
        "\n",
        "\n",
        "train_pair.shape,dev_pair.shape,adj_matrix.shape,r_index.shape,r_val.shape,adj_features.shape,rel_features.shape"
      ]
    },
    {
      "cell_type": "code",
      "execution_count": 6,
      "metadata": {
        "id": "ofbOnviPCHPN"
      },
      "outputs": [],
      "source": [
        "node_size = adj_features.shape[0]\n",
        "rel_size = rel_features.shape[1]\n",
        "triple_size = len(adj_matrix)\n",
        "batch_size = node_size\n",
        "\n",
        "\n",
        "class TokenEmbedding(keras.layers.Embedding):\n",
        "    \"\"\"Embedding layer with weights returned.\"\"\"\n",
        "\n",
        "    def compute_output_shape(self, input_shape):\n",
        "        return self.input_dim, self.output_dim\n",
        "\n",
        "    def compute_mask(self, inputs, mask=None):\n",
        "        return None\n",
        "\n",
        "    def call(self, inputs):\n",
        "        return self.embeddings\n",
        "    \n",
        "def get_embedding():\n",
        "    inputs = [adj_matrix,r_index,r_val,rel_matrix,ent_matrix]\n",
        "    inputs = [np.expand_dims(item,axis=0) for item in inputs]\n",
        "    return get_emb.predict_on_batch(inputs)\n",
        "\n",
        "def test(wrank = None):\n",
        "    vec = get_embedding()\n",
        "    return  get_hits(vec,dev_pair,wrank=wrank)\n",
        "\n",
        "def CSLS_test(thread_number = 16, csls=10,accurate = True):\n",
        "    vec = get_embedding()\n",
        "    Lvec = np.array([vec[e1] for e1, e2 in dev_pair])\n",
        "    Rvec = np.array([vec[e2] for e1, e2 in dev_pair])\n",
        "    Lvec = Lvec / np.linalg.norm(Lvec,axis=-1,keepdims=True)\n",
        "    Rvec = Rvec / np.linalg.norm(Rvec,axis=-1,keepdims=True)\n",
        "    eval_alignment_by_sim_mat(Lvec, Rvec, [1, 5, 10], thread_number, csls=csls, accurate=accurate)\n",
        "    return None\n",
        "\n",
        "def get_train_set(batch_size = batch_size):\n",
        "    negative_ratio =  batch_size // len(train_pair) + 1\n",
        "    train_set = np.reshape(np.repeat(np.expand_dims(train_pair,axis=0),axis=0,repeats=negative_ratio),newshape=(-1,2))\n",
        "    np.random.shuffle(train_set); train_set = train_set[:batch_size]\n",
        "    train_set = np.concatenate([train_set,np.random.randint(0,node_size,train_set.shape)],axis = -1)\n",
        "    return train_set\n",
        "\n",
        "def get_trgat(node_size,rel_size,node_hidden,rel_hidden,triple_size,n_attn_heads = 2,dropout_rate = 0,gamma = 3,lr = 0.005,depth = 2):\n",
        "    adj_input = Input(shape=(None,2))\n",
        "    index_input = Input(shape=(None,2),dtype='int64')\n",
        "    val_input = Input(shape = (None,))\n",
        "    rel_adj = Input(shape=(None,2))\n",
        "    ent_adj = Input(shape=(None,2))\n",
        "    \n",
        "    ent_emb = TokenEmbedding(node_size,node_hidden,trainable = True)(val_input) \n",
        "    rel_emb = TokenEmbedding(rel_size,node_hidden,trainable = True)(val_input)\n",
        "    \n",
        "    def avg(tensor,size):\n",
        "        adj = K.cast(K.squeeze(tensor[0],axis = 0),dtype = \"int64\")   \n",
        "        adj = tf.SparseTensor(indices=adj, values=tf.ones_like(adj[:,0],dtype = 'float32'), dense_shape=(node_size,size)) \n",
        "        adj = tf.compat.v1.sparse_softmax(adj) \n",
        "        return tf.compat.v1.sparse_tensor_dense_matmul(adj,tensor[1])\n",
        "    \n",
        "    opt = [rel_emb,adj_input,index_input,val_input]\n",
        "    ent_feature = Lambda(avg,arguments={'size':node_size})([ent_adj,ent_emb])\n",
        "    rel_feature = Lambda(avg,arguments={'size':rel_size})([rel_adj,rel_emb])\n",
        "    \n",
        "    encoder = NR_GraphAttention(node_size,activation=\"relu\",\n",
        "                                       rel_size = rel_size,\n",
        "                                       depth = depth,\n",
        "                                       attn_heads=n_attn_heads,\n",
        "                                       triple_size = triple_size,\n",
        "                                       attn_heads_reduction='average',   \n",
        "                                       dropout_rate=dropout_rate)\n",
        "    \n",
        "    out_feature = Concatenate(-1)([encoder([ent_feature]+opt),encoder([rel_feature]+opt)])\n",
        "    out_feature = Dropout(dropout_rate)(out_feature)\n",
        "    \n",
        "    alignment_input = Input(shape=(None,4))\n",
        "    find = Lambda(lambda x:K.gather(reference=x[0],indices=K.cast(K.squeeze(x[1],axis=0), 'int32')))([out_feature,alignment_input])\n",
        "    \n",
        "    def align_loss(tensor):\n",
        "        def _cosine(x):\n",
        "            dot1 = K.batch_dot(x[0], x[1], axes=1)\n",
        "            dot2 = K.batch_dot(x[0], x[0], axes=1)\n",
        "            dot3 = K.batch_dot(x[1], x[1], axes=1)\n",
        "            max_ = K.maximum(K.sqrt(dot2 * dot3), K.epsilon())\n",
        "            return dot1 / max_\n",
        "        \n",
        "        def l1(ll,rr):\n",
        "            return K.sum(K.abs(ll-rr),axis=-1,keepdims=True)\n",
        "        \n",
        "        def l2(ll,rr):\n",
        "            return K.sum(K.square(ll-rr),axis=-1,keepdims=True)\n",
        "        \n",
        "        l,r,fl,fr = [tensor[:,0,:],tensor[:,1,:],tensor[:,2 ,:],tensor[:,3,:]]\n",
        "        loss = K.relu(gamma + l1(l,r) - l1(l,fr)) + K.relu(gamma + l1(l,r) - l1(fl,r))\n",
        "        return tf.reduce_sum(loss,keepdims=True) / (batch_size)\n",
        "    \n",
        "    loss = Lambda(align_loss)(find)\n",
        "    \n",
        "    inputs = [adj_input,index_input,val_input,rel_adj,ent_adj]\n",
        "    train_model = keras.Model(inputs = inputs + [alignment_input],outputs = loss)\n",
        "    train_model.compile(loss=lambda y_true,y_pred: y_pred,optimizer=keras.optimizers.RMSprop(lr))\n",
        "    \n",
        "    feature_model = keras.Model(inputs = inputs,outputs = out_feature)\n",
        "    return train_model,feature_model"
      ]
    },
    {
      "cell_type": "code",
      "execution_count": 7,
      "metadata": {
        "scrolled": true,
        "colab": {
          "base_uri": "https://localhost:8080/"
        },
        "id": "cbqIOlQ3CHPP",
        "outputId": "9ba2959a-e9bb-4374-fdcd-3fba4dceeb05"
      },
      "outputs": [
        {
          "output_type": "stream",
          "name": "stdout",
          "text": [
            "Model: \"model\"\n",
            "__________________________________________________________________________________________________\n",
            " Layer (type)                   Output Shape         Param #     Connected to                     \n",
            "==================================================================================================\n",
            " input_3 (InputLayer)           [(None, None)]       0           []                               \n",
            "                                                                                                  \n",
            " input_5 (InputLayer)           [(None, None, 2)]    0           []                               \n",
            "                                                                                                  \n",
            " token_embedding (TokenEmbeddin  (38960, 100)        3896000     ['input_3[0][0]']                \n",
            " g)                                                                                               \n",
            "                                                                                                  \n",
            " token_embedding_1 (TokenEmbedd  (6050, 100)         605000      ['input_3[0][0]']                \n",
            " ing)                                                                                             \n",
            "                                                                                                  \n",
            " input_4 (InputLayer)           [(None, None, 2)]    0           []                               \n",
            "                                                                                                  \n",
            " lambda (Lambda)                (38960, 100)         0           ['input_5[0][0]',                \n",
            "                                                                  'token_embedding[0][0]']        \n",
            "                                                                                                  \n",
            " input_1 (InputLayer)           [(None, None, 2)]    0           []                               \n",
            "                                                                                                  \n",
            " input_2 (InputLayer)           [(None, None, 2)]    0           []                               \n",
            "                                                                                                  \n",
            " lambda_1 (Lambda)              (38960, 100)         0           ['input_4[0][0]',                \n",
            "                                                                  'token_embedding_1[0][0]']      \n",
            "                                                                                                  \n",
            " nr__graph_attention (NR_GraphA  (38960, 300)        600         ['lambda[0][0]',                 \n",
            " ttention)                                                        'token_embedding_1[0][0]',      \n",
            "                                                                  'input_1[0][0]',                \n",
            "                                                                  'input_2[0][0]',                \n",
            "                                                                  'input_3[0][0]',                \n",
            "                                                                  'lambda_1[0][0]',               \n",
            "                                                                  'token_embedding_1[0][0]',      \n",
            "                                                                  'input_1[0][0]',                \n",
            "                                                                  'input_2[0][0]',                \n",
            "                                                                  'input_3[0][0]']                \n",
            "                                                                                                  \n",
            " concatenate (Concatenate)      (38960, 600)         0           ['nr__graph_attention[0][0]',    \n",
            "                                                                  'nr__graph_attention[1][0]']    \n",
            "                                                                                                  \n",
            " dropout (Dropout)              (38960, 600)         0           ['concatenate[0][0]']            \n",
            "                                                                                                  \n",
            " input_6 (InputLayer)           [(None, None, 4)]    0           []                               \n",
            "                                                                                                  \n",
            " lambda_2 (Lambda)              (None, 4, 600)       0           ['dropout[0][0]',                \n",
            "                                                                  'input_6[0][0]']                \n",
            "                                                                                                  \n",
            " lambda_3 (Lambda)              (1, 1)               0           ['lambda_2[0][0]']               \n",
            "                                                                                                  \n",
            "==================================================================================================\n",
            "Total params: 4,501,600\n",
            "Trainable params: 4,501,600\n",
            "Non-trainable params: 0\n",
            "__________________________________________________________________________________________________\n"
          ]
        },
        {
          "output_type": "execute_result",
          "data": {
            "text/plain": [
              "<keras.engine.functional.Functional at 0x7fedc73458e0>"
            ]
          },
          "metadata": {},
          "execution_count": 7
        }
      ],
      "source": [
        "model,get_emb = get_trgat(dropout_rate=0.30,node_size=node_size,rel_size=rel_size,n_attn_heads = 1,depth=2,gamma =3,node_hidden=100,rel_hidden = 100,triple_size = triple_size)\n",
        "model.summary(); initial_weights = model.get_weights()\n",
        "\n",
        "get_emb"
      ]
    },
    {
      "cell_type": "code",
      "source": [],
      "metadata": {
        "id": "nodjwkLZX8ja"
      },
      "execution_count": null,
      "outputs": []
    },
    {
      "cell_type": "code",
      "execution_count": null,
      "metadata": {
        "scrolled": true,
        "colab": {
          "base_uri": "https://localhost:8080/",
          "height": 749
        },
        "id": "Ungav4IrCHPQ",
        "outputId": "8a56b725-42a9-4d94-ab93-039312c4feac"
      },
      "outputs": [
        {
          "output_type": "stream",
          "name": "stdout",
          "text": [
            "iteration 0 start.\n"
          ]
        },
        {
          "output_type": "stream",
          "name": "stderr",
          "text": [
            "\r  0%|          | 0/1200 [00:00<?, ?it/s]WARNING:tensorflow:\n",
            "The following Variables were used a Lambda layer's call (lambda_1), but\n",
            "are not present in its tracked objects:\n",
            "  <tf.Variable 'token_embedding_1/embeddings:0' shape=(6050, 100) dtype=float32>\n",
            "It is possible that this is intended behavior, but it is more likely\n",
            "an omission. This is a strong indication that this layer should be\n",
            "formulated as a subclassed Layer rather than a Lambda layer.\n",
            "WARNING:tensorflow:\n",
            "The following Variables were used a Lambda layer's call (lambda), but\n",
            "are not present in its tracked objects:\n",
            "  <tf.Variable 'token_embedding/embeddings:0' shape=(38960, 100) dtype=float32>\n",
            "It is possible that this is intended behavior, but it is more likely\n",
            "an omission. This is a strong indication that this layer should be\n",
            "formulated as a subclassed Layer rather than a Lambda layer.\n",
            "WARNING:tensorflow:From /usr/local/lib/python3.9/dist-packages/tensorflow/python/autograph/pyct/static_analysis/liveness.py:83: Analyzer.lamba_check (from tensorflow.python.autograph.pyct.static_analysis.liveness) is deprecated and will be removed after 2023-09-23.\n",
            "Instructions for updating:\n",
            "Lambda fuctions will be no more assumed to be used in the statement where they are used, or at least in the same block. https://github.com/tensorflow/tensorflow/issues/56089\n",
            "  1%|▏         | 15/1200 [00:12<16:48,  1.18it/s]\n"
          ]
        },
        {
          "output_type": "error",
          "ename": "KeyboardInterrupt",
          "evalue": "ignored",
          "traceback": [
            "\u001b[0;31m---------------------------------------------------------------------------\u001b[0m",
            "\u001b[0;31mKeyboardInterrupt\u001b[0m                         Traceback (most recent call last)",
            "\u001b[0;32m<ipython-input-11-0ceade09d121>\u001b[0m in \u001b[0;36m<module>\u001b[0;34m\u001b[0m\n\u001b[1;32m     11\u001b[0m         \u001b[0minputs\u001b[0m \u001b[0;34m=\u001b[0m \u001b[0;34m[\u001b[0m\u001b[0madj_matrix\u001b[0m\u001b[0;34m,\u001b[0m\u001b[0mr_index\u001b[0m\u001b[0;34m,\u001b[0m\u001b[0mr_val\u001b[0m\u001b[0;34m,\u001b[0m\u001b[0mrel_matrix\u001b[0m\u001b[0;34m,\u001b[0m\u001b[0ment_matrix\u001b[0m\u001b[0;34m,\u001b[0m\u001b[0mtrain_set\u001b[0m\u001b[0;34m]\u001b[0m\u001b[0;34m\u001b[0m\u001b[0;34m\u001b[0m\u001b[0m\n\u001b[1;32m     12\u001b[0m         \u001b[0minputs\u001b[0m \u001b[0;34m=\u001b[0m \u001b[0;34m[\u001b[0m\u001b[0mnp\u001b[0m\u001b[0;34m.\u001b[0m\u001b[0mexpand_dims\u001b[0m\u001b[0;34m(\u001b[0m\u001b[0mitem\u001b[0m\u001b[0;34m,\u001b[0m\u001b[0maxis\u001b[0m\u001b[0;34m=\u001b[0m\u001b[0;36m0\u001b[0m\u001b[0;34m)\u001b[0m \u001b[0;32mfor\u001b[0m \u001b[0mitem\u001b[0m \u001b[0;32min\u001b[0m \u001b[0minputs\u001b[0m\u001b[0;34m]\u001b[0m\u001b[0;34m\u001b[0m\u001b[0;34m\u001b[0m\u001b[0m\n\u001b[0;32m---> 13\u001b[0;31m         \u001b[0mmodel\u001b[0m\u001b[0;34m.\u001b[0m\u001b[0mtrain_on_batch\u001b[0m\u001b[0;34m(\u001b[0m\u001b[0minputs\u001b[0m\u001b[0;34m,\u001b[0m\u001b[0mnp\u001b[0m\u001b[0;34m.\u001b[0m\u001b[0mzeros\u001b[0m\u001b[0;34m(\u001b[0m\u001b[0;34m(\u001b[0m\u001b[0;36m1\u001b[0m\u001b[0;34m,\u001b[0m\u001b[0;36m1\u001b[0m\u001b[0;34m)\u001b[0m\u001b[0;34m)\u001b[0m\u001b[0;34m)\u001b[0m\u001b[0;34m\u001b[0m\u001b[0;34m\u001b[0m\u001b[0m\n\u001b[0m\u001b[1;32m     14\u001b[0m         \u001b[0;32mif\u001b[0m \u001b[0mi\u001b[0m\u001b[0;34m%\u001b[0m\u001b[0;36m300\u001b[0m \u001b[0;34m==\u001b[0m \u001b[0;36m299\u001b[0m\u001b[0;34m:\u001b[0m\u001b[0;34m\u001b[0m\u001b[0;34m\u001b[0m\u001b[0m\n\u001b[1;32m     15\u001b[0m             \u001b[0mCSLS_test\u001b[0m\u001b[0;34m(\u001b[0m\u001b[0;34m)\u001b[0m\u001b[0;34m\u001b[0m\u001b[0;34m\u001b[0m\u001b[0m\n",
            "\u001b[0;32m/usr/local/lib/python3.9/dist-packages/keras/engine/training.py\u001b[0m in \u001b[0;36mtrain_on_batch\u001b[0;34m(self, x, y, sample_weight, class_weight, reset_metrics, return_dict)\u001b[0m\n\u001b[1;32m   2476\u001b[0m             )\n\u001b[1;32m   2477\u001b[0m             \u001b[0mself\u001b[0m\u001b[0;34m.\u001b[0m\u001b[0mtrain_function\u001b[0m \u001b[0;34m=\u001b[0m \u001b[0mself\u001b[0m\u001b[0;34m.\u001b[0m\u001b[0mmake_train_function\u001b[0m\u001b[0;34m(\u001b[0m\u001b[0;34m)\u001b[0m\u001b[0;34m\u001b[0m\u001b[0;34m\u001b[0m\u001b[0m\n\u001b[0;32m-> 2478\u001b[0;31m             \u001b[0mlogs\u001b[0m \u001b[0;34m=\u001b[0m \u001b[0mself\u001b[0m\u001b[0;34m.\u001b[0m\u001b[0mtrain_function\u001b[0m\u001b[0;34m(\u001b[0m\u001b[0miterator\u001b[0m\u001b[0;34m)\u001b[0m\u001b[0;34m\u001b[0m\u001b[0;34m\u001b[0m\u001b[0m\n\u001b[0m\u001b[1;32m   2479\u001b[0m \u001b[0;34m\u001b[0m\u001b[0m\n\u001b[1;32m   2480\u001b[0m         \u001b[0mlogs\u001b[0m \u001b[0;34m=\u001b[0m \u001b[0mtf_utils\u001b[0m\u001b[0;34m.\u001b[0m\u001b[0msync_to_numpy_or_python_type\u001b[0m\u001b[0;34m(\u001b[0m\u001b[0mlogs\u001b[0m\u001b[0;34m)\u001b[0m\u001b[0;34m\u001b[0m\u001b[0;34m\u001b[0m\u001b[0m\n",
            "\u001b[0;32m/usr/local/lib/python3.9/dist-packages/tensorflow/python/util/traceback_utils.py\u001b[0m in \u001b[0;36merror_handler\u001b[0;34m(*args, **kwargs)\u001b[0m\n\u001b[1;32m    148\u001b[0m     \u001b[0mfiltered_tb\u001b[0m \u001b[0;34m=\u001b[0m \u001b[0;32mNone\u001b[0m\u001b[0;34m\u001b[0m\u001b[0;34m\u001b[0m\u001b[0m\n\u001b[1;32m    149\u001b[0m     \u001b[0;32mtry\u001b[0m\u001b[0;34m:\u001b[0m\u001b[0;34m\u001b[0m\u001b[0;34m\u001b[0m\u001b[0m\n\u001b[0;32m--> 150\u001b[0;31m       \u001b[0;32mreturn\u001b[0m \u001b[0mfn\u001b[0m\u001b[0;34m(\u001b[0m\u001b[0;34m*\u001b[0m\u001b[0margs\u001b[0m\u001b[0;34m,\u001b[0m \u001b[0;34m**\u001b[0m\u001b[0mkwargs\u001b[0m\u001b[0;34m)\u001b[0m\u001b[0;34m\u001b[0m\u001b[0;34m\u001b[0m\u001b[0m\n\u001b[0m\u001b[1;32m    151\u001b[0m     \u001b[0;32mexcept\u001b[0m \u001b[0mException\u001b[0m \u001b[0;32mas\u001b[0m \u001b[0me\u001b[0m\u001b[0;34m:\u001b[0m\u001b[0;34m\u001b[0m\u001b[0;34m\u001b[0m\u001b[0m\n\u001b[1;32m    152\u001b[0m       \u001b[0mfiltered_tb\u001b[0m \u001b[0;34m=\u001b[0m \u001b[0m_process_traceback_frames\u001b[0m\u001b[0;34m(\u001b[0m\u001b[0me\u001b[0m\u001b[0;34m.\u001b[0m\u001b[0m__traceback__\u001b[0m\u001b[0;34m)\u001b[0m\u001b[0;34m\u001b[0m\u001b[0;34m\u001b[0m\u001b[0m\n",
            "\u001b[0;32m/usr/local/lib/python3.9/dist-packages/tensorflow/python/eager/polymorphic_function/polymorphic_function.py\u001b[0m in \u001b[0;36m__call__\u001b[0;34m(self, *args, **kwds)\u001b[0m\n\u001b[1;32m    878\u001b[0m \u001b[0;34m\u001b[0m\u001b[0m\n\u001b[1;32m    879\u001b[0m       \u001b[0;32mwith\u001b[0m \u001b[0mOptionalXlaContext\u001b[0m\u001b[0;34m(\u001b[0m\u001b[0mself\u001b[0m\u001b[0;34m.\u001b[0m\u001b[0m_jit_compile\u001b[0m\u001b[0;34m)\u001b[0m\u001b[0;34m:\u001b[0m\u001b[0;34m\u001b[0m\u001b[0;34m\u001b[0m\u001b[0m\n\u001b[0;32m--> 880\u001b[0;31m         \u001b[0mresult\u001b[0m \u001b[0;34m=\u001b[0m \u001b[0mself\u001b[0m\u001b[0;34m.\u001b[0m\u001b[0m_call\u001b[0m\u001b[0;34m(\u001b[0m\u001b[0;34m*\u001b[0m\u001b[0margs\u001b[0m\u001b[0;34m,\u001b[0m \u001b[0;34m**\u001b[0m\u001b[0mkwds\u001b[0m\u001b[0;34m)\u001b[0m\u001b[0;34m\u001b[0m\u001b[0;34m\u001b[0m\u001b[0m\n\u001b[0m\u001b[1;32m    881\u001b[0m \u001b[0;34m\u001b[0m\u001b[0m\n\u001b[1;32m    882\u001b[0m       \u001b[0mnew_tracing_count\u001b[0m \u001b[0;34m=\u001b[0m \u001b[0mself\u001b[0m\u001b[0;34m.\u001b[0m\u001b[0mexperimental_get_tracing_count\u001b[0m\u001b[0;34m(\u001b[0m\u001b[0;34m)\u001b[0m\u001b[0;34m\u001b[0m\u001b[0;34m\u001b[0m\u001b[0m\n",
            "\u001b[0;32m/usr/local/lib/python3.9/dist-packages/tensorflow/python/eager/polymorphic_function/polymorphic_function.py\u001b[0m in \u001b[0;36m_call\u001b[0;34m(self, *args, **kwds)\u001b[0m\n\u001b[1;32m    910\u001b[0m       \u001b[0;31m# In this case we have created variables on the first call, so we run the\u001b[0m\u001b[0;34m\u001b[0m\u001b[0;34m\u001b[0m\u001b[0m\n\u001b[1;32m    911\u001b[0m       \u001b[0;31m# defunned version which is guaranteed to never create variables.\u001b[0m\u001b[0;34m\u001b[0m\u001b[0;34m\u001b[0m\u001b[0m\n\u001b[0;32m--> 912\u001b[0;31m       \u001b[0;32mreturn\u001b[0m \u001b[0mself\u001b[0m\u001b[0;34m.\u001b[0m\u001b[0m_no_variable_creation_fn\u001b[0m\u001b[0;34m(\u001b[0m\u001b[0;34m*\u001b[0m\u001b[0margs\u001b[0m\u001b[0;34m,\u001b[0m \u001b[0;34m**\u001b[0m\u001b[0mkwds\u001b[0m\u001b[0;34m)\u001b[0m  \u001b[0;31m# pylint: disable=not-callable\u001b[0m\u001b[0;34m\u001b[0m\u001b[0;34m\u001b[0m\u001b[0m\n\u001b[0m\u001b[1;32m    913\u001b[0m     \u001b[0;32melif\u001b[0m \u001b[0mself\u001b[0m\u001b[0;34m.\u001b[0m\u001b[0m_variable_creation_fn\u001b[0m \u001b[0;32mis\u001b[0m \u001b[0;32mnot\u001b[0m \u001b[0;32mNone\u001b[0m\u001b[0;34m:\u001b[0m\u001b[0;34m\u001b[0m\u001b[0;34m\u001b[0m\u001b[0m\n\u001b[1;32m    914\u001b[0m       \u001b[0;31m# Release the lock early so that multiple threads can perform the call\u001b[0m\u001b[0;34m\u001b[0m\u001b[0;34m\u001b[0m\u001b[0m\n",
            "\u001b[0;32m/usr/local/lib/python3.9/dist-packages/tensorflow/python/eager/polymorphic_function/tracing_compiler.py\u001b[0m in \u001b[0;36m__call__\u001b[0;34m(self, *args, **kwargs)\u001b[0m\n\u001b[1;32m    132\u001b[0m       (concrete_function,\n\u001b[1;32m    133\u001b[0m        filtered_flat_args) = self._maybe_define_function(args, kwargs)\n\u001b[0;32m--> 134\u001b[0;31m     return concrete_function._call_flat(\n\u001b[0m\u001b[1;32m    135\u001b[0m         filtered_flat_args, captured_inputs=concrete_function.captured_inputs)  # pylint: disable=protected-access\n\u001b[1;32m    136\u001b[0m \u001b[0;34m\u001b[0m\u001b[0m\n",
            "\u001b[0;32m/usr/local/lib/python3.9/dist-packages/tensorflow/python/eager/polymorphic_function/monomorphic_function.py\u001b[0m in \u001b[0;36m_call_flat\u001b[0;34m(self, args, captured_inputs, cancellation_manager)\u001b[0m\n\u001b[1;32m   1743\u001b[0m         and executing_eagerly):\n\u001b[1;32m   1744\u001b[0m       \u001b[0;31m# No tape is watching; skip to running the function.\u001b[0m\u001b[0;34m\u001b[0m\u001b[0;34m\u001b[0m\u001b[0m\n\u001b[0;32m-> 1745\u001b[0;31m       return self._build_call_outputs(self._inference_function.call(\n\u001b[0m\u001b[1;32m   1746\u001b[0m           ctx, args, cancellation_manager=cancellation_manager))\n\u001b[1;32m   1747\u001b[0m     forward_backward = self._select_forward_and_backward_functions(\n",
            "\u001b[0;32m/usr/local/lib/python3.9/dist-packages/tensorflow/python/eager/polymorphic_function/monomorphic_function.py\u001b[0m in \u001b[0;36mcall\u001b[0;34m(self, ctx, args, cancellation_manager)\u001b[0m\n\u001b[1;32m    376\u001b[0m       \u001b[0;32mwith\u001b[0m \u001b[0m_InterpolateFunctionError\u001b[0m\u001b[0;34m(\u001b[0m\u001b[0mself\u001b[0m\u001b[0;34m)\u001b[0m\u001b[0;34m:\u001b[0m\u001b[0;34m\u001b[0m\u001b[0;34m\u001b[0m\u001b[0m\n\u001b[1;32m    377\u001b[0m         \u001b[0;32mif\u001b[0m \u001b[0mcancellation_manager\u001b[0m \u001b[0;32mis\u001b[0m \u001b[0;32mNone\u001b[0m\u001b[0;34m:\u001b[0m\u001b[0;34m\u001b[0m\u001b[0;34m\u001b[0m\u001b[0m\n\u001b[0;32m--> 378\u001b[0;31m           outputs = execute.execute(\n\u001b[0m\u001b[1;32m    379\u001b[0m               \u001b[0mstr\u001b[0m\u001b[0;34m(\u001b[0m\u001b[0mself\u001b[0m\u001b[0;34m.\u001b[0m\u001b[0msignature\u001b[0m\u001b[0;34m.\u001b[0m\u001b[0mname\u001b[0m\u001b[0;34m)\u001b[0m\u001b[0;34m,\u001b[0m\u001b[0;34m\u001b[0m\u001b[0;34m\u001b[0m\u001b[0m\n\u001b[1;32m    380\u001b[0m               \u001b[0mnum_outputs\u001b[0m\u001b[0;34m=\u001b[0m\u001b[0mself\u001b[0m\u001b[0;34m.\u001b[0m\u001b[0m_num_outputs\u001b[0m\u001b[0;34m,\u001b[0m\u001b[0;34m\u001b[0m\u001b[0;34m\u001b[0m\u001b[0m\n",
            "\u001b[0;32m/usr/local/lib/python3.9/dist-packages/tensorflow/python/eager/execute.py\u001b[0m in \u001b[0;36mquick_execute\u001b[0;34m(op_name, num_outputs, inputs, attrs, ctx, name)\u001b[0m\n\u001b[1;32m     50\u001b[0m   \u001b[0;32mtry\u001b[0m\u001b[0;34m:\u001b[0m\u001b[0;34m\u001b[0m\u001b[0;34m\u001b[0m\u001b[0m\n\u001b[1;32m     51\u001b[0m     \u001b[0mctx\u001b[0m\u001b[0;34m.\u001b[0m\u001b[0mensure_initialized\u001b[0m\u001b[0;34m(\u001b[0m\u001b[0;34m)\u001b[0m\u001b[0;34m\u001b[0m\u001b[0;34m\u001b[0m\u001b[0m\n\u001b[0;32m---> 52\u001b[0;31m     tensors = pywrap_tfe.TFE_Py_Execute(ctx._handle, device_name, op_name,\n\u001b[0m\u001b[1;32m     53\u001b[0m                                         inputs, attrs, num_outputs)\n\u001b[1;32m     54\u001b[0m   \u001b[0;32mexcept\u001b[0m \u001b[0mcore\u001b[0m\u001b[0;34m.\u001b[0m\u001b[0m_NotOkStatusException\u001b[0m \u001b[0;32mas\u001b[0m \u001b[0me\u001b[0m\u001b[0;34m:\u001b[0m\u001b[0;34m\u001b[0m\u001b[0;34m\u001b[0m\u001b[0m\n",
            "\u001b[0;31mKeyboardInterrupt\u001b[0m: "
          ]
        }
      ],
      "source": [
        "rest_set_1 = [e1 for e1, e2 in dev_pair]\n",
        "rest_set_2 = [e2 for e1, e2 in dev_pair]\n",
        "np.random.shuffle(rest_set_1)\n",
        "np.random.shuffle(rest_set_2)\n",
        "\n",
        "epoch = 1200\n",
        "for turn in range(2):\n",
        "    print(\"iteration %d start.\"%turn)\n",
        "    for i in trange(epoch):\n",
        "        train_set = get_train_set()\n",
        "        inputs = [adj_matrix,r_index,r_val,rel_matrix,ent_matrix,train_set]\n",
        "        inputs = [np.expand_dims(item,axis=0) for item in inputs]\n",
        "        model.train_on_batch(inputs,np.zeros((1,1)))\n",
        "        if i%300 == 299:\n",
        "            CSLS_test()\n",
        "       \n",
        "\n",
        "    new_pair = []\n",
        "    vec = get_embedding()\n",
        "    Lvec = np.array([vec[e] for e in rest_set_1])\n",
        "    Rvec = np.array([vec[e] for e in rest_set_2])\n",
        "    Lvec = Lvec / np.linalg.norm(Lvec,axis=-1,keepdims=True)\n",
        "    Rvec = Rvec / np.linalg.norm(Rvec,axis=-1,keepdims=True)\n",
        "    A,_ = eval_alignment_by_sim_mat(Lvec, Rvec, [1, 5, 10], 16,10,False,False)\n",
        "    B,_= eval_alignment_by_sim_mat(Rvec, Lvec,[1, 5, 10], 16,10,True,False)\n",
        "    A = sorted(list(A)); B = sorted(list(B))\n",
        "    for a,b in A:\n",
        "        if  B[b][1] == a:\n",
        "            new_pair.append([rest_set_1[a],rest_set_2[b]])\n",
        "    print(\"generate new semi-pairs: %d.\" % len(new_pair))\n",
        "    \n",
        "    train_pair = np.concatenate([train_pair,np.array(new_pair)],axis = 0)\n",
        "    for e1,e2 in new_pair:\n",
        "        if e1 in rest_set_1:\n",
        "            rest_set_1.remove(e1) \n",
        "        \n",
        "    for e1,e2 in new_pair:\n",
        "        if e2 in rest_set_2:\n",
        "            rest_set_2.remove(e2) \n",
        "   \n",
        "    "
      ]
    },
    {
      "cell_type": "code",
      "source": [
        "model.save('model_weights.tf')"
      ],
      "metadata": {
        "id": "8RPsKD9iHoM0",
        "colab": {
          "base_uri": "https://localhost:8080/"
        },
        "outputId": "ec2f1abf-3978-4ea1-f5cb-23ddcf313d6f"
      },
      "execution_count": null,
      "outputs": [
        {
          "output_type": "stream",
          "name": "stderr",
          "text": [
            "WARNING:tensorflow:\n",
            "The following Variables were used a Lambda layer's call (lambda_1), but\n",
            "are not present in its tracked objects:\n",
            "  <tf.Variable 'token_embedding_1/embeddings:0' shape=(6050, 100) dtype=float32>\n",
            "It is possible that this is intended behavior, but it is more likely\n",
            "an omission. This is a strong indication that this layer should be\n",
            "formulated as a subclassed Layer rather than a Lambda layer.\n",
            "WARNING:tensorflow:\n",
            "The following Variables were used a Lambda layer's call (lambda), but\n",
            "are not present in its tracked objects:\n",
            "  <tf.Variable 'token_embedding/embeddings:0' shape=(38960, 100) dtype=float32>\n",
            "It is possible that this is intended behavior, but it is more likely\n",
            "an omission. This is a strong indication that this layer should be\n",
            "formulated as a subclassed Layer rather than a Lambda layer.\n"
          ]
        }
      ]
    },
    {
      "cell_type": "code",
      "source": [
        "get_emb.save('get_emb.tf')"
      ],
      "metadata": {
        "id": "6LyenbeWgDp8"
      },
      "execution_count": null,
      "outputs": []
    },
    {
      "cell_type": "code",
      "source": [
        "from google.colab import drive\n",
        "drive.mount('/content/drive')"
      ],
      "metadata": {
        "colab": {
          "base_uri": "https://localhost:8080/"
        },
        "id": "B4GVSAsmw0no",
        "outputId": "367b0436-66da-40c9-db56-dd5675d6df48"
      },
      "execution_count": 8,
      "outputs": [
        {
          "output_type": "stream",
          "name": "stdout",
          "text": [
            "Mounted at /content/drive\n"
          ]
        }
      ]
    },
    {
      "cell_type": "code",
      "source": [
        "get_emb.load_weights(\"/content/drive/MyDrive/research project/code source/rrea/weight/get_emb.tf\")"
      ],
      "metadata": {
        "colab": {
          "base_uri": "https://localhost:8080/"
        },
        "id": "s2nun3y9CsCZ",
        "outputId": "ed7d6e1b-eecf-4dfe-8746-3bb5ac8f8f6a"
      },
      "execution_count": 9,
      "outputs": [
        {
          "output_type": "execute_result",
          "data": {
            "text/plain": [
              "<tensorflow.python.checkpoint.checkpoint.CheckpointLoadStatus at 0x7feec223f7c0>"
            ]
          },
          "metadata": {},
          "execution_count": 9
        }
      ]
    },
    {
      "cell_type": "code",
      "source": [
        "rest_set_1 = [e1 for e1, e2 in dev_pair]\n",
        "rest_set_2 = [e2 for e1, e2 in dev_pair]\n",
        "np.random.shuffle(rest_set_1)\n",
        "np.random.shuffle(rest_set_2)"
      ],
      "metadata": {
        "id": "odZgdESADLt-"
      },
      "execution_count": null,
      "outputs": []
    },
    {
      "cell_type": "code",
      "source": [
        "from sklearn.decomposition import PCA\n",
        "import matplotlib.pyplot as plt\n",
        "\n",
        "# get embeddings\n",
        "vec = get_embedding()\n",
        "Lvec = np.array([vec[e] for e in rest_set_1])\n",
        "Rvec = np.array([vec[e] for e in rest_set_2])\n",
        "\n",
        "# apply PCA to reduce dimensionality to 2D\n",
        "pca = PCA(n_components=2)\n",
        "Lvec_pca = pca.fit_transform(Lvec)\n",
        "Rvec_pca = pca.fit_transform(Rvec)\n",
        "\n",
        "# plot embeddings\n",
        "fig, ax = plt.subplots()\n",
        "ax.scatter(Lvec_pca[:, 0], Lvec_pca[:, 1], label='rest_set_1')\n",
        "ax.scatter(Rvec_pca[:, 0], Rvec_pca[:, 1], label='rest_set_2')\n",
        "ax.legend()\n",
        "plt.show()"
      ],
      "metadata": {
        "id": "jIEmmyEpbCo8",
        "outputId": "e7e8f61e-6f33-4f7e-c56a-7f26c3c9ae5e",
        "colab": {
          "base_uri": "https://localhost:8080/",
          "height": 265
        }
      },
      "execution_count": null,
      "outputs": [
        {
          "output_type": "display_data",
          "data": {
            "text/plain": [
              "<Figure size 432x288 with 1 Axes>"
            ],
            "image/png": "[encoded data removed]"
          },
          "metadata": {
            "needs_background": "light"
          }
        }
      ]
    },
    {
      "cell_type": "code",
      "source": [
        "from sklearn.decomposition import PCA\n",
        "import matplotlib.pyplot as plt\n",
        "\n",
        "# get embeddings\n",
        "vec = get_embedding()\n",
        "\n",
        "# apply PCA to reduce dimensionality to 2D\n",
        "pca = PCA(n_components=2)\n",
        "vec_pca = pca.fit_transform(Lvec)\n",
        "# plot embeddings\n",
        "fig, ax = plt.subplots()\n",
        "ax.scatter(vec_pca[:, 0], vec_pca[:, 1])\n",
        "ax.legend()\n",
        "plt.show()"
      ],
      "metadata": {
        "colab": {
          "base_uri": "https://localhost:8080/",
          "height": 491
        },
        "id": "s37T7R20Dfcq",
        "outputId": "ec579a57-b43e-4099-b42f-aeb720ff58ef"
      },
      "execution_count": null,
      "outputs": [
        {
          "output_type": "stream",
          "name": "stderr",
          "text": [
            "WARNING:tensorflow:\n",
            "The following Variables were used a Lambda layer's call (lambda_1), but\n",
            "are not present in its tracked objects:\n",
            "  <tf.Variable 'token_embedding_1/embeddings:0' shape=(6050, 100) dtype=float32>\n",
            "It is possible that this is intended behavior, but it is more likely\n",
            "an omission. This is a strong indication that this layer should be\n",
            "formulated as a subclassed Layer rather than a Lambda layer.\n",
            "WARNING:tensorflow:\n",
            "The following Variables were used a Lambda layer's call (lambda), but\n",
            "are not present in its tracked objects:\n",
            "  <tf.Variable 'token_embedding/embeddings:0' shape=(38960, 100) dtype=float32>\n",
            "It is possible that this is intended behavior, but it is more likely\n",
            "an omission. This is a strong indication that this layer should be\n",
            "formulated as a subclassed Layer rather than a Lambda layer.\n"
          ]
        },
        {
          "output_type": "error",
          "ename": "NameError",
          "evalue": "ignored",
          "traceback": [
            "\u001b[0;31m---------------------------------------------------------------------------\u001b[0m",
            "\u001b[0;31mNameError\u001b[0m                                 Traceback (most recent call last)",
            "\u001b[0;32m<ipython-input-10-0b238e9edbc5>\u001b[0m in \u001b[0;36m<module>\u001b[0;34m\u001b[0m\n\u001b[1;32m      7\u001b[0m \u001b[0;31m# apply PCA to reduce dimensionality to 2D\u001b[0m\u001b[0;34m\u001b[0m\u001b[0;34m\u001b[0m\u001b[0m\n\u001b[1;32m      8\u001b[0m \u001b[0mpca\u001b[0m \u001b[0;34m=\u001b[0m \u001b[0mPCA\u001b[0m\u001b[0;34m(\u001b[0m\u001b[0mn_components\u001b[0m\u001b[0;34m=\u001b[0m\u001b[0;36m2\u001b[0m\u001b[0;34m)\u001b[0m\u001b[0;34m\u001b[0m\u001b[0;34m\u001b[0m\u001b[0m\n\u001b[0;32m----> 9\u001b[0;31m \u001b[0mvec_pca\u001b[0m \u001b[0;34m=\u001b[0m \u001b[0mpca\u001b[0m\u001b[0;34m.\u001b[0m\u001b[0mfit_transform\u001b[0m\u001b[0;34m(\u001b[0m\u001b[0mLvec\u001b[0m\u001b[0;34m)\u001b[0m\u001b[0;34m\u001b[0m\u001b[0;34m\u001b[0m\u001b[0m\n\u001b[0m\u001b[1;32m     10\u001b[0m \u001b[0;31m# plot embeddings\u001b[0m\u001b[0;34m\u001b[0m\u001b[0;34m\u001b[0m\u001b[0m\n\u001b[1;32m     11\u001b[0m \u001b[0mfig\u001b[0m\u001b[0;34m,\u001b[0m \u001b[0max\u001b[0m \u001b[0;34m=\u001b[0m \u001b[0mplt\u001b[0m\u001b[0;34m.\u001b[0m\u001b[0msubplots\u001b[0m\u001b[0;34m(\u001b[0m\u001b[0;34m)\u001b[0m\u001b[0;34m\u001b[0m\u001b[0;34m\u001b[0m\u001b[0m\n",
            "\u001b[0;31mNameError\u001b[0m: name 'Lvec' is not defined"
          ]
        }
      ]
    },
    {
      "cell_type": "code",
      "source": [
        "import numpy as np\n",
        "\n",
        "batch_size = 100\n",
        "vec_batches = np.array_split(vec, len(vec) // batch_size)\n"
      ],
      "metadata": {
        "id": "cyzKGEYx_50G"
      },
      "execution_count": null,
      "outputs": []
    },
    {
      "cell_type": "code",
      "source": [
        "from sklearn.metrics.pairwise import cosine_similarity\n",
        "\n",
        "threshold = 0.8\n",
        "similar_nodes = []\n",
        "\n",
        "for vec_batch in vec_batches:\n",
        "    similarities = cosine_similarity(vec_batch)\n",
        "    for i in range(len(similarities)):\n",
        "        for j in range(i+1, len(similarities)):\n",
        "            if similarities[i][j] > threshold:\n",
        "                similar_nodes.append((i, j))"
      ],
      "metadata": {
        "id": "Pl3Oc_JSADiM"
      },
      "execution_count": null,
      "outputs": []
    },
    {
      "cell_type": "code",
      "source": [
        "\n",
        "from  tqdm.auto import tqdm\n",
        "\n",
        "threshold = 0.8\n",
        "similar_nodes = []\n",
        "for v in tqdm(range(len(vec_batches))):\n",
        "    vec_batch=vec_batches[v]\n",
        "    similarities = sim_handler(vec_batch, vec_batch, k=10, nums_threads=4)\n",
        "    for i in range(len(similarities)):\n",
        "        for j in range(i+1, len(similarities)):\n",
        "            if similarities[i][j] > threshold:\n",
        "                similar_nodes.append((i, j)) "
      ],
      "metadata": {
        "id": "2CAMo6BdI4ze",
        "outputId": "0d5c3b1f-18dd-4cdf-d901-4f0b4fbb3e50",
        "colab": {
          "base_uri": "https://localhost:8080/",
          "height": 886,
          "referenced_widgets": [
            "914058e90b294415a24a63f8002424dd",
            "0dc52ada6da943a29c036708be4d97c4",
            "a4f56e7ff86a44a290c96be1a6aed933",
            "fde7d82a61734a78bd48fe33ede6bb57",
            "6f84424b4c1747569f6a336f2fbf1afa",
            "63050e9d96e34a1c93af8a6238b9200d",
            "35836df3bb1946b88d7f20e6e0d8032f",
            "b44083ed7bda40c7a3bc0a5944a62f57",
            "f1a0d355b6f840219a94b2ee74a6a79b",
            "02087e2286c94a82a8dc163126cd49e7",
            "6a4202183d7a4849a40267de4d77a609"
          ]
        }
      },
      "execution_count": null,
      "outputs": [
        {
          "output_type": "display_data",
          "data": {
            "text/plain": [
              "  0%|          | 0/389 [00:00<?, ?it/s]"
            ],
            "application/vnd.jupyter.widget-view+json": {
              "version_major": 2,
              "version_minor": 0,
              "model_id": "914058e90b294415a24a63f8002424dd"
            }
          },
          "metadata": {}
        },
        {
          "output_type": "stream",
          "name": "stderr",
          "text": [
            "Process ForkPoolWorker-253:\n",
            "Process ForkPoolWorker-255:\n",
            "Traceback (most recent call last):\n",
            "  File \"/usr/lib/python3.9/multiprocessing/process.py\", line 315, in _bootstrap\n",
            "    self.run()\n",
            "  File \"/usr/lib/python3.9/multiprocessing/process.py\", line 108, in run\n",
            "    self._target(*self._args, **self._kwargs)\n",
            "Traceback (most recent call last):\n",
            "  File \"/usr/lib/python3.9/multiprocessing/process.py\", line 315, in _bootstrap\n",
            "    self.run()\n",
            "KeyboardInterrupt\n",
            "  File \"/usr/lib/python3.9/multiprocessing/process.py\", line 108, in run\n",
            "    self._target(*self._args, **self._kwargs)\n",
            "  File \"/usr/lib/python3.9/multiprocessing/pool.py\", line 114, in worker\n",
            "    task = get()\n",
            "  File \"/usr/lib/python3.9/multiprocessing/queues.py\", line 364, in get\n",
            "    with self._rlock:\n",
            "  File \"/usr/lib/python3.9/multiprocessing/synchronize.py\", line 95, in __enter__\n",
            "    return self._semlock.__enter__()\n",
            "KeyboardInterrupt\n",
            "  File \"/usr/lib/python3.9/multiprocessing/pool.py\", line 114, in worker\n",
            "    task = get()\n",
            "  File \"/usr/lib/python3.9/multiprocessing/queues.py\", line 364, in get\n",
            "    with self._rlock:\n",
            "  File \"/usr/lib/python3.9/multiprocessing/synchronize.py\", line 95, in __enter__\n",
            "    return self._semlock.__enter__()\n"
          ]
        },
        {
          "output_type": "error",
          "ename": "KeyboardInterrupt",
          "evalue": "ignored",
          "traceback": [
            "\u001b[0;31m---------------------------------------------------------------------------\u001b[0m",
            "\u001b[0;31mKeyboardInterrupt\u001b[0m                         Traceback (most recent call last)",
            "\u001b[0;32m<ipython-input-12-d060a99e9124>\u001b[0m in \u001b[0;36m<module>\u001b[0;34m\u001b[0m\n\u001b[1;32m      5\u001b[0m \u001b[0;32mfor\u001b[0m \u001b[0mv\u001b[0m \u001b[0;32min\u001b[0m \u001b[0mtqdm\u001b[0m\u001b[0;34m(\u001b[0m\u001b[0mrange\u001b[0m\u001b[0;34m(\u001b[0m\u001b[0mlen\u001b[0m\u001b[0;34m(\u001b[0m\u001b[0mvec_batches\u001b[0m\u001b[0;34m)\u001b[0m\u001b[0;34m)\u001b[0m\u001b[0;34m)\u001b[0m\u001b[0;34m:\u001b[0m\u001b[0;34m\u001b[0m\u001b[0;34m\u001b[0m\u001b[0m\n\u001b[1;32m      6\u001b[0m     \u001b[0mvec_batch\u001b[0m\u001b[0;34m=\u001b[0m\u001b[0mvec_batches\u001b[0m\u001b[0;34m[\u001b[0m\u001b[0mv\u001b[0m\u001b[0;34m]\u001b[0m\u001b[0;34m\u001b[0m\u001b[0;34m\u001b[0m\u001b[0m\n\u001b[0;32m----> 7\u001b[0;31m     \u001b[0msimilarities\u001b[0m \u001b[0;34m=\u001b[0m \u001b[0msim_handler\u001b[0m\u001b[0;34m(\u001b[0m\u001b[0mvec_batch\u001b[0m\u001b[0;34m,\u001b[0m \u001b[0mvec_batch\u001b[0m\u001b[0;34m,\u001b[0m \u001b[0mk\u001b[0m\u001b[0;34m=\u001b[0m\u001b[0;36m10\u001b[0m\u001b[0;34m,\u001b[0m \u001b[0mnums_threads\u001b[0m\u001b[0;34m=\u001b[0m\u001b[0;36m4\u001b[0m\u001b[0;34m)\u001b[0m\u001b[0;34m\u001b[0m\u001b[0;34m\u001b[0m\u001b[0m\n\u001b[0m\u001b[1;32m      8\u001b[0m     \u001b[0;32mfor\u001b[0m \u001b[0mi\u001b[0m \u001b[0;32min\u001b[0m \u001b[0mrange\u001b[0m\u001b[0;34m(\u001b[0m\u001b[0mlen\u001b[0m\u001b[0;34m(\u001b[0m\u001b[0msimilarities\u001b[0m\u001b[0;34m)\u001b[0m\u001b[0;34m)\u001b[0m\u001b[0;34m:\u001b[0m\u001b[0;34m\u001b[0m\u001b[0;34m\u001b[0m\u001b[0m\n\u001b[1;32m      9\u001b[0m         \u001b[0;32mfor\u001b[0m \u001b[0mj\u001b[0m \u001b[0;32min\u001b[0m \u001b[0mrange\u001b[0m\u001b[0;34m(\u001b[0m\u001b[0mi\u001b[0m\u001b[0;34m+\u001b[0m\u001b[0;36m1\u001b[0m\u001b[0;34m,\u001b[0m \u001b[0mlen\u001b[0m\u001b[0;34m(\u001b[0m\u001b[0msimilarities\u001b[0m\u001b[0;34m)\u001b[0m\u001b[0;34m)\u001b[0m\u001b[0;34m:\u001b[0m\u001b[0;34m\u001b[0m\u001b[0;34m\u001b[0m\u001b[0m\n",
            "\u001b[0;32m/content/RREA/CIKM/CSLS.py\u001b[0m in \u001b[0;36msim_handler\u001b[0;34m(embed1, embed2, k, nums_threads)\u001b[0m\n\u001b[1;32m    254\u001b[0m         \u001b[0;32mreturn\u001b[0m \u001b[0msim_mat\u001b[0m\u001b[0;34m\u001b[0m\u001b[0;34m\u001b[0m\u001b[0m\n\u001b[1;32m    255\u001b[0m     \u001b[0mcsls1\u001b[0m \u001b[0;34m=\u001b[0m \u001b[0mCSLS_sim\u001b[0m\u001b[0;34m(\u001b[0m\u001b[0msim_mat\u001b[0m\u001b[0;34m,\u001b[0m \u001b[0mk\u001b[0m\u001b[0;34m,\u001b[0m \u001b[0mnums_threads\u001b[0m\u001b[0;34m)\u001b[0m\u001b[0;34m\u001b[0m\u001b[0;34m\u001b[0m\u001b[0m\n\u001b[0;32m--> 256\u001b[0;31m     \u001b[0mcsls2\u001b[0m \u001b[0;34m=\u001b[0m \u001b[0mCSLS_sim\u001b[0m\u001b[0;34m(\u001b[0m\u001b[0msim_mat\u001b[0m\u001b[0;34m.\u001b[0m\u001b[0mT\u001b[0m\u001b[0;34m,\u001b[0m \u001b[0mk\u001b[0m\u001b[0;34m,\u001b[0m \u001b[0mnums_threads\u001b[0m\u001b[0;34m)\u001b[0m\u001b[0;34m\u001b[0m\u001b[0;34m\u001b[0m\u001b[0m\n\u001b[0m\u001b[1;32m    257\u001b[0m     \u001b[0;31m# for i in range(sim_mat.shape[0]):\u001b[0m\u001b[0;34m\u001b[0m\u001b[0;34m\u001b[0m\u001b[0m\n\u001b[1;32m    258\u001b[0m     \u001b[0;31m#     for j in range(sim_mat.shape[1]):\u001b[0m\u001b[0;34m\u001b[0m\u001b[0;34m\u001b[0m\u001b[0m\n",
            "\u001b[0;32m/content/RREA/CIKM/CSLS.py\u001b[0m in \u001b[0;36mCSLS_sim\u001b[0;34m(sim_mat1, k, nums_threads)\u001b[0m\n\u001b[1;32m    236\u001b[0m         \u001b[0mreses\u001b[0m\u001b[0;34m.\u001b[0m\u001b[0mappend\u001b[0m\u001b[0;34m(\u001b[0m\u001b[0mpool\u001b[0m\u001b[0;34m.\u001b[0m\u001b[0mapply_async\u001b[0m\u001b[0;34m(\u001b[0m\u001b[0mcal_csls_sim\u001b[0m\u001b[0;34m,\u001b[0m \u001b[0;34m(\u001b[0m\u001b[0msim_mat1\u001b[0m\u001b[0;34m[\u001b[0m\u001b[0mtask\u001b[0m\u001b[0;34m,\u001b[0m \u001b[0;34m:\u001b[0m\u001b[0;34m]\u001b[0m\u001b[0;34m,\u001b[0m \u001b[0mk\u001b[0m\u001b[0;34m)\u001b[0m\u001b[0;34m)\u001b[0m\u001b[0;34m)\u001b[0m\u001b[0;34m\u001b[0m\u001b[0;34m\u001b[0m\u001b[0m\n\u001b[1;32m    237\u001b[0m     \u001b[0mpool\u001b[0m\u001b[0;34m.\u001b[0m\u001b[0mclose\u001b[0m\u001b[0;34m(\u001b[0m\u001b[0;34m)\u001b[0m\u001b[0;34m\u001b[0m\u001b[0;34m\u001b[0m\u001b[0m\n\u001b[0;32m--> 238\u001b[0;31m     \u001b[0mpool\u001b[0m\u001b[0;34m.\u001b[0m\u001b[0mjoin\u001b[0m\u001b[0;34m(\u001b[0m\u001b[0;34m)\u001b[0m\u001b[0;34m\u001b[0m\u001b[0;34m\u001b[0m\u001b[0m\n\u001b[0m\u001b[1;32m    239\u001b[0m     \u001b[0msim_values\u001b[0m \u001b[0;34m=\u001b[0m \u001b[0;32mNone\u001b[0m\u001b[0;34m\u001b[0m\u001b[0;34m\u001b[0m\u001b[0m\n\u001b[1;32m    240\u001b[0m     \u001b[0;32mfor\u001b[0m \u001b[0mres\u001b[0m \u001b[0;32min\u001b[0m \u001b[0mreses\u001b[0m\u001b[0;34m:\u001b[0m\u001b[0;34m\u001b[0m\u001b[0;34m\u001b[0m\u001b[0m\n",
            "\u001b[0;32m/usr/lib/python3.9/multiprocessing/pool.py\u001b[0m in \u001b[0;36mjoin\u001b[0;34m(self)\u001b[0m\n\u001b[1;32m    664\u001b[0m         \u001b[0mself\u001b[0m\u001b[0;34m.\u001b[0m\u001b[0m_result_handler\u001b[0m\u001b[0;34m.\u001b[0m\u001b[0mjoin\u001b[0m\u001b[0;34m(\u001b[0m\u001b[0;34m)\u001b[0m\u001b[0;34m\u001b[0m\u001b[0;34m\u001b[0m\u001b[0m\n\u001b[1;32m    665\u001b[0m         \u001b[0;32mfor\u001b[0m \u001b[0mp\u001b[0m \u001b[0;32min\u001b[0m \u001b[0mself\u001b[0m\u001b[0;34m.\u001b[0m\u001b[0m_pool\u001b[0m\u001b[0;34m:\u001b[0m\u001b[0;34m\u001b[0m\u001b[0;34m\u001b[0m\u001b[0m\n\u001b[0;32m--> 666\u001b[0;31m             \u001b[0mp\u001b[0m\u001b[0;34m.\u001b[0m\u001b[0mjoin\u001b[0m\u001b[0;34m(\u001b[0m\u001b[0;34m)\u001b[0m\u001b[0;34m\u001b[0m\u001b[0;34m\u001b[0m\u001b[0m\n\u001b[0m\u001b[1;32m    667\u001b[0m \u001b[0;34m\u001b[0m\u001b[0m\n\u001b[1;32m    668\u001b[0m     \u001b[0;34m@\u001b[0m\u001b[0mstaticmethod\u001b[0m\u001b[0;34m\u001b[0m\u001b[0;34m\u001b[0m\u001b[0m\n",
            "\u001b[0;32m/usr/lib/python3.9/multiprocessing/process.py\u001b[0m in \u001b[0;36mjoin\u001b[0;34m(self, timeout)\u001b[0m\n\u001b[1;32m    147\u001b[0m         \u001b[0;32massert\u001b[0m \u001b[0mself\u001b[0m\u001b[0;34m.\u001b[0m\u001b[0m_parent_pid\u001b[0m \u001b[0;34m==\u001b[0m \u001b[0mos\u001b[0m\u001b[0;34m.\u001b[0m\u001b[0mgetpid\u001b[0m\u001b[0;34m(\u001b[0m\u001b[0;34m)\u001b[0m\u001b[0;34m,\u001b[0m \u001b[0;34m'can only join a child process'\u001b[0m\u001b[0;34m\u001b[0m\u001b[0;34m\u001b[0m\u001b[0m\n\u001b[1;32m    148\u001b[0m         \u001b[0;32massert\u001b[0m \u001b[0mself\u001b[0m\u001b[0;34m.\u001b[0m\u001b[0m_popen\u001b[0m \u001b[0;32mis\u001b[0m \u001b[0;32mnot\u001b[0m \u001b[0;32mNone\u001b[0m\u001b[0;34m,\u001b[0m \u001b[0;34m'can only join a started process'\u001b[0m\u001b[0;34m\u001b[0m\u001b[0;34m\u001b[0m\u001b[0m\n\u001b[0;32m--> 149\u001b[0;31m         \u001b[0mres\u001b[0m \u001b[0;34m=\u001b[0m \u001b[0mself\u001b[0m\u001b[0;34m.\u001b[0m\u001b[0m_popen\u001b[0m\u001b[0;34m.\u001b[0m\u001b[0mwait\u001b[0m\u001b[0;34m(\u001b[0m\u001b[0mtimeout\u001b[0m\u001b[0;34m)\u001b[0m\u001b[0;34m\u001b[0m\u001b[0;34m\u001b[0m\u001b[0m\n\u001b[0m\u001b[1;32m    150\u001b[0m         \u001b[0;32mif\u001b[0m \u001b[0mres\u001b[0m \u001b[0;32mis\u001b[0m \u001b[0;32mnot\u001b[0m \u001b[0;32mNone\u001b[0m\u001b[0;34m:\u001b[0m\u001b[0;34m\u001b[0m\u001b[0;34m\u001b[0m\u001b[0m\n\u001b[1;32m    151\u001b[0m             \u001b[0m_children\u001b[0m\u001b[0;34m.\u001b[0m\u001b[0mdiscard\u001b[0m\u001b[0;34m(\u001b[0m\u001b[0mself\u001b[0m\u001b[0;34m)\u001b[0m\u001b[0;34m\u001b[0m\u001b[0;34m\u001b[0m\u001b[0m\n",
            "\u001b[0;32m/usr/lib/python3.9/multiprocessing/popen_fork.py\u001b[0m in \u001b[0;36mwait\u001b[0;34m(self, timeout)\u001b[0m\n\u001b[1;32m     41\u001b[0m                     \u001b[0;32mreturn\u001b[0m \u001b[0;32mNone\u001b[0m\u001b[0;34m\u001b[0m\u001b[0;34m\u001b[0m\u001b[0m\n\u001b[1;32m     42\u001b[0m             \u001b[0;31m# This shouldn't block if wait() returned successfully.\u001b[0m\u001b[0;34m\u001b[0m\u001b[0;34m\u001b[0m\u001b[0m\n\u001b[0;32m---> 43\u001b[0;31m             \u001b[0;32mreturn\u001b[0m \u001b[0mself\u001b[0m\u001b[0;34m.\u001b[0m\u001b[0mpoll\u001b[0m\u001b[0;34m(\u001b[0m\u001b[0mos\u001b[0m\u001b[0;34m.\u001b[0m\u001b[0mWNOHANG\u001b[0m \u001b[0;32mif\u001b[0m \u001b[0mtimeout\u001b[0m \u001b[0;34m==\u001b[0m \u001b[0;36m0.0\u001b[0m \u001b[0;32melse\u001b[0m \u001b[0;36m0\u001b[0m\u001b[0;34m)\u001b[0m\u001b[0;34m\u001b[0m\u001b[0;34m\u001b[0m\u001b[0m\n\u001b[0m\u001b[1;32m     44\u001b[0m         \u001b[0;32mreturn\u001b[0m \u001b[0mself\u001b[0m\u001b[0;34m.\u001b[0m\u001b[0mreturncode\u001b[0m\u001b[0;34m\u001b[0m\u001b[0;34m\u001b[0m\u001b[0m\n\u001b[1;32m     45\u001b[0m \u001b[0;34m\u001b[0m\u001b[0m\n",
            "\u001b[0;32m/usr/lib/python3.9/multiprocessing/popen_fork.py\u001b[0m in \u001b[0;36mpoll\u001b[0;34m(self, flag)\u001b[0m\n\u001b[1;32m     25\u001b[0m         \u001b[0;32mif\u001b[0m \u001b[0mself\u001b[0m\u001b[0;34m.\u001b[0m\u001b[0mreturncode\u001b[0m \u001b[0;32mis\u001b[0m \u001b[0;32mNone\u001b[0m\u001b[0;34m:\u001b[0m\u001b[0;34m\u001b[0m\u001b[0;34m\u001b[0m\u001b[0m\n\u001b[1;32m     26\u001b[0m             \u001b[0;32mtry\u001b[0m\u001b[0;34m:\u001b[0m\u001b[0;34m\u001b[0m\u001b[0;34m\u001b[0m\u001b[0m\n\u001b[0;32m---> 27\u001b[0;31m                 \u001b[0mpid\u001b[0m\u001b[0;34m,\u001b[0m \u001b[0msts\u001b[0m \u001b[0;34m=\u001b[0m \u001b[0mos\u001b[0m\u001b[0;34m.\u001b[0m\u001b[0mwaitpid\u001b[0m\u001b[0;34m(\u001b[0m\u001b[0mself\u001b[0m\u001b[0;34m.\u001b[0m\u001b[0mpid\u001b[0m\u001b[0;34m,\u001b[0m \u001b[0mflag\u001b[0m\u001b[0;34m)\u001b[0m\u001b[0;34m\u001b[0m\u001b[0;34m\u001b[0m\u001b[0m\n\u001b[0m\u001b[1;32m     28\u001b[0m             \u001b[0;32mexcept\u001b[0m \u001b[0mOSError\u001b[0m\u001b[0;34m:\u001b[0m\u001b[0;34m\u001b[0m\u001b[0;34m\u001b[0m\u001b[0m\n\u001b[1;32m     29\u001b[0m                 \u001b[0;31m# Child process not yet created. See #1731717\u001b[0m\u001b[0;34m\u001b[0m\u001b[0;34m\u001b[0m\u001b[0m\n",
            "\u001b[0;31mKeyboardInterrupt\u001b[0m: "
          ]
        }
      ]
    },
    {
      "cell_type": "code",
      "source": [
        "similar_nodes_dict = {}\n",
        "\n",
        "for node_pair in similar_nodes:\n",
        "    node1, node2 = node_pair\n",
        "    if node1 not in similar_nodes_dict:\n",
        "        similar_nodes_dict[node1] = set()\n",
        "    if node2 not in similar_nodes_dict:\n",
        "        similar_nodes_dict[node2] = set()\n",
        "    similar_nodes_dict[node1].add(node2)\n",
        "    similar_nodes_dict[node2].add(node1)"
      ],
      "metadata": {
        "id": "J3rG24R5EZlv"
      },
      "execution_count": null,
      "outputs": []
    },
    {
      "cell_type": "code",
      "source": [
        "len(similar_nodes_dict.keys())\n",
        "len(similar_nodes)"
      ],
      "metadata": {
        "colab": {
          "base_uri": "https://localhost:8080/"
        },
        "id": "dNJtqL7TG68n",
        "outputId": "5dfb414a-adf5-4e3a-9864-8ce94fc0d1f8"
      },
      "execution_count": null,
      "outputs": [
        {
          "output_type": "execute_result",
          "data": {
            "text/plain": [
              "2506"
            ]
          },
          "metadata": {},
          "execution_count": 35
        }
      ]
    },
    {
      "cell_type": "code",
      "source": [
        "import matplotlib.pyplot as plt\n",
        "\n",
        "\n",
        "colors = ['b', 'g', 'r', 'c', 'm', 'y', 'k']  # You can customize the colors\n",
        "\n",
        "fig, ax = plt.subplots()\n",
        "\n",
        "for i, node in enumerate(similar_nodes_dict.keys()):\n",
        "    embedding = vec_pca[node]\n",
        "    group = -1  # Assign a default group number\n",
        "    for j, (group_nodes, nodes_set) in enumerate(similar_nodes_dict.items()):\n",
        "        if node in nodes_set:\n",
        "            group = j\n",
        "            break\n",
        "    color = colors[group % len(colors)]  # Choose a color for the group\n",
        "    ax.scatter(embedding[0], embedding[1], color=color)\n",
        "\n",
        "plt.show()"
      ],
      "metadata": {
        "colab": {
          "base_uri": "https://localhost:8080/",
          "height": 265
        },
        "id": "o_CJJR_AEzMH",
        "outputId": "8c845e8f-0da2-40b5-ba7d-1c3851d06542"
      },
      "execution_count": null,
      "outputs": [
        {
          "output_type": "display_data",
          "data": {
            "text/plain": [
              "<Figure size 432x288 with 1 Axes>"
            ],
            "image/png": "[encoded data removed]"
          },
          "metadata": {
            "needs_background": "light"
          }
        }
      ]
    },
    {
      "cell_type": "code",
      "source": [
        "lang=\"data/zh_en/\"\n",
        "entity1,rel1,triples1 = load_triples(lang + 'triples_1')\n",
        "adj_matrix,r_index,r_val,adj_features,rel_features = get_matrix(triples1,entity1,rel1)\n",
        "adj_matrix = np.stack(adj_matrix.nonzero(),axis = 1)\n",
        "rel_matrix,rel_val = np.stack(rel_features.nonzero(),axis = 1),rel_features.data\n",
        "ent_matrix,ent_val = np.stack(adj_features.nonzero(),axis = 1),adj_features.data\n",
        "adj_matrix.shape"
      ],
      "metadata": {
        "id": "BOcjjdlKFjka",
        "colab": {
          "base_uri": "https://localhost:8080/"
        },
        "outputId": "9c27d6c1-309a-45bf-fe6a-122c248490b9"
      },
      "execution_count": null,
      "outputs": [
        {
          "output_type": "stream",
          "name": "stdout",
          "text": [
            "29888 1702\n"
          ]
        },
        {
          "output_type": "execute_result",
          "data": {
            "text/plain": [
              "(112774, 2)"
            ]
          },
          "metadata": {},
          "execution_count": 26
        }
      ]
    },
    {
      "cell_type": "code",
      "source": [
        "lang=\"data/zh_en/\"\n",
        "entity2,rel2,triples2 = load_triples(lang + 'triples_2')\n",
        "adj_matrix,r_index,r_val,adj_features,rel_features = get_matrix(triples2,entity2,rel2)\n",
        "adj_matrix = np.stack(adj_matrix.nonzero(),axis = 1)\n",
        "rel_matrix,rel_val = np.stack(rel_features.nonzero(),axis = 1),rel_features.data\n",
        "ent_matrix,ent_val = np.stack(adj_features.nonzero(),axis = 1),adj_features.data\n",
        "adj_matrix.shape"
      ],
      "metadata": {
        "colab": {
          "base_uri": "https://localhost:8080/"
        },
        "id": "KdKrFXLkeiJ8",
        "outputId": "b8515b8b-6da0-46ad-d37b-ae9ded285851"
      },
      "execution_count": 10,
      "outputs": [
        {
          "output_type": "stream",
          "name": "stdout",
          "text": [
            "38960 3025\n"
          ]
        },
        {
          "output_type": "execute_result",
          "data": {
            "text/plain": [
              "(146771, 2)"
            ]
          },
          "metadata": {},
          "execution_count": 10
        }
      ]
    },
    {
      "cell_type": "code",
      "source": [
        "node_size = adj_features.shape[0]\n",
        "rel_size = rel_features.shape[1]\n",
        "triple_size = len(adj_matrix)\n",
        "batch_size = node_size\n",
        "node_size,rel_size,triple_size,batch_size"
      ],
      "metadata": {
        "colab": {
          "base_uri": "https://localhost:8080/"
        },
        "id": "j0KhODJpgNau",
        "outputId": "80b3c83e-5e3e-4847-f934-291a23c356c9"
      },
      "execution_count": 11,
      "outputs": [
        {
          "output_type": "execute_result",
          "data": {
            "text/plain": [
              "(38960, 6050, 146771, 38960)"
            ]
          },
          "metadata": {},
          "execution_count": 11
        }
      ]
    },
    {
      "cell_type": "code",
      "source": [
        "model,get_emb = get_trgat(dropout_rate=0.30,node_size=node_size,rel_size=rel_size,n_attn_heads = 1,depth=2,gamma =3,node_hidden=100,rel_hidden = 100,triple_size = triple_size)\n",
        "model.summary(); initial_weights = model.get_weights()\n"
      ],
      "metadata": {
        "colab": {
          "base_uri": "https://localhost:8080/"
        },
        "id": "avE78vl6gUQb",
        "outputId": "d7bd3901-fdcd-4035-94f8-b5ecafc9d29d"
      },
      "execution_count": 12,
      "outputs": [
        {
          "output_type": "stream",
          "name": "stdout",
          "text": [
            "Model: \"model_2\"\n",
            "__________________________________________________________________________________________________\n",
            " Layer (type)                   Output Shape         Param #     Connected to                     \n",
            "==================================================================================================\n",
            " input_9 (InputLayer)           [(None, None)]       0           []                               \n",
            "                                                                                                  \n",
            " input_11 (InputLayer)          [(None, None, 2)]    0           []                               \n",
            "                                                                                                  \n",
            " token_embedding_2 (TokenEmbedd  (38960, 100)        3896000     ['input_9[0][0]']                \n",
            " ing)                                                                                             \n",
            "                                                                                                  \n",
            " token_embedding_3 (TokenEmbedd  (6050, 100)         605000      ['input_9[0][0]']                \n",
            " ing)                                                                                             \n",
            "                                                                                                  \n",
            " input_10 (InputLayer)          [(None, None, 2)]    0           []                               \n",
            "                                                                                                  \n",
            " lambda_4 (Lambda)              (38960, 100)         0           ['input_11[0][0]',               \n",
            "                                                                  'token_embedding_2[0][0]']      \n",
            "                                                                                                  \n",
            " input_7 (InputLayer)           [(None, None, 2)]    0           []                               \n",
            "                                                                                                  \n",
            " input_8 (InputLayer)           [(None, None, 2)]    0           []                               \n",
            "                                                                                                  \n",
            " lambda_5 (Lambda)              (38960, 100)         0           ['input_10[0][0]',               \n",
            "                                                                  'token_embedding_3[0][0]']      \n",
            "                                                                                                  \n",
            " nr__graph_attention_1 (NR_Grap  (38960, 300)        600         ['lambda_4[0][0]',               \n",
            " hAttention)                                                      'token_embedding_3[0][0]',      \n",
            "                                                                  'input_7[0][0]',                \n",
            "                                                                  'input_8[0][0]',                \n",
            "                                                                  'input_9[0][0]',                \n",
            "                                                                  'lambda_5[0][0]',               \n",
            "                                                                  'token_embedding_3[0][0]',      \n",
            "                                                                  'input_7[0][0]',                \n",
            "                                                                  'input_8[0][0]',                \n",
            "                                                                  'input_9[0][0]']                \n",
            "                                                                                                  \n",
            " concatenate_1 (Concatenate)    (38960, 600)         0           ['nr__graph_attention_1[0][0]',  \n",
            "                                                                  'nr__graph_attention_1[1][0]']  \n",
            "                                                                                                  \n",
            " dropout_1 (Dropout)            (38960, 600)         0           ['concatenate_1[0][0]']          \n",
            "                                                                                                  \n",
            " input_12 (InputLayer)          [(None, None, 4)]    0           []                               \n",
            "                                                                                                  \n",
            " lambda_6 (Lambda)              (None, 4, 600)       0           ['dropout_1[0][0]',              \n",
            "                                                                  'input_12[0][0]']               \n",
            "                                                                                                  \n",
            " lambda_7 (Lambda)              (1, 1)               0           ['lambda_6[0][0]']               \n",
            "                                                                                                  \n",
            "==================================================================================================\n",
            "Total params: 4,501,600\n",
            "Trainable params: 4,501,600\n",
            "Non-trainable params: 0\n",
            "__________________________________________________________________________________________________\n"
          ]
        }
      ]
    },
    {
      "cell_type": "code",
      "source": [
        "get_emb.load_weights(\"/content/drive/MyDrive/research project/code source/rrea/weight/get_emb.tf\")"
      ],
      "metadata": {
        "colab": {
          "base_uri": "https://localhost:8080/"
        },
        "id": "LiIp-HNYgXUL",
        "outputId": "2b0b1603-cfd1-480d-bfbe-5ae2c31d481e"
      },
      "execution_count": 13,
      "outputs": [
        {
          "output_type": "execute_result",
          "data": {
            "text/plain": [
              "<tensorflow.python.checkpoint.checkpoint.CheckpointLoadStatus at 0x7feeb24fa700>"
            ]
          },
          "metadata": {},
          "execution_count": 13
        }
      ]
    },
    {
      "cell_type": "code",
      "source": [
        "\n",
        "z_en=get_embedding()\n",
        "z_en.shape"
      ],
      "metadata": {
        "colab": {
          "base_uri": "https://localhost:8080/"
        },
        "id": "gg9AzqJTaP62",
        "outputId": "02c86ddb-b547-4a8d-fd77-57c1dfe21635"
      },
      "execution_count": 14,
      "outputs": [
        {
          "output_type": "stream",
          "name": "stderr",
          "text": [
            "WARNING:tensorflow:\n",
            "The following Variables were used a Lambda layer's call (lambda_5), but\n",
            "are not present in its tracked objects:\n",
            "  <tf.Variable 'token_embedding_3/embeddings:0' shape=(6050, 100) dtype=float32>\n",
            "It is possible that this is intended behavior, but it is more likely\n",
            "an omission. This is a strong indication that this layer should be\n",
            "formulated as a subclassed Layer rather than a Lambda layer.\n",
            "WARNING:tensorflow:\n",
            "The following Variables were used a Lambda layer's call (lambda_4), but\n",
            "are not present in its tracked objects:\n",
            "  <tf.Variable 'token_embedding_2/embeddings:0' shape=(38960, 100) dtype=float32>\n",
            "It is possible that this is intended behavior, but it is more likely\n",
            "an omission. This is a strong indication that this layer should be\n",
            "formulated as a subclassed Layer rather than a Lambda layer.\n"
          ]
        },
        {
          "output_type": "execute_result",
          "data": {
            "text/plain": [
              "(38960, 600)"
            ]
          },
          "metadata": {},
          "execution_count": 14
        }
      ]
    },
    {
      "cell_type": "code",
      "source": [
        "from sklearn.decomposition import PCA\n",
        "import matplotlib.pyplot as plt\n",
        "\n",
        "\n",
        "# apply PCA to reduce dimensionality to 2D\n",
        "pca = PCA(n_components=2)\n",
        "z_en_pca = pca.fit_transform(z_en)\n",
        "# plot embeddings\n",
        "fig, ax = plt.subplots()\n",
        "ax.scatter(z_en_pca[:, 0], z_en_pca[:, 1])\n",
        "ax.legend()\n",
        "plt.show()"
      ],
      "metadata": {
        "colab": {
          "base_uri": "https://localhost:8080/",
          "height": 283
        },
        "id": "fy-xg9LjbRk2",
        "outputId": "eb1e02f5-daac-4526-c0c3-ad39dc395200"
      },
      "execution_count": 15,
      "outputs": [
        {
          "output_type": "stream",
          "name": "stderr",
          "text": [
            "WARNING:matplotlib.legend:No artists with labels found to put in legend.  Note that artists whose label start with an underscore are ignored when legend() is called with no argument.\n"
          ]
        },
        {
          "output_type": "display_data",
          "data": {
            "text/plain": [
              "<Figure size 432x288 with 1 Axes>"
            ],
            "image/png": "[encoded data removed]"
          },
          "metadata": {
            "needs_background": "light"
          }
        }
      ]
    },
    {
      "cell_type": "code",
      "source": [
        "import numpy as np\n",
        "\n",
        "batch_size = 100\n",
        "vec_batches = np.array_split(z_en, len(z_en) // batch_size)"
      ],
      "metadata": {
        "id": "dio8yn6Qlk_x"
      },
      "execution_count": 16,
      "outputs": []
    },
    {
      "cell_type": "code",
      "source": [
        "threshold = 0.8\n",
        "similar_nodes = []\n",
        "num_batches = len(vec_batches)\n",
        "\n",
        "# Intra-batch similarity\n",
        "for batch_idx in tqdm(range(num_batches)):\n",
        "    vec_batch = vec_batches[batch_idx]\n",
        "    batch_size = len(vec_batch)\n",
        "    similarities = sim_handler(vec_batch, vec_batch, k=10, nums_threads=4)\n",
        "    for i in range(batch_size):\n",
        "        for j in range(i+1, batch_size):\n",
        "            if similarities[i][j] > threshold:\n",
        "                similar_nodes.append((batch_idx*batch_size + i, batch_idx*batch_size + j))\n"
      ],
      "metadata": {
        "colab": {
          "base_uri": "https://localhost:8080/"
        },
        "id": "Y1NcCWcRu0JM",
        "outputId": "96be8307-e707-4899-a81b-c0490ff94974"
      },
      "execution_count": 17,
      "outputs": [
        {
          "output_type": "stream",
          "name": "stderr",
          "text": [
            "100%|██████████| 389/389 [03:13<00:00,  2.01it/s]\n"
          ]
        }
      ]
    },
    {
      "cell_type": "code",
      "source": [
        "similar_nodes_dict = {}\n",
        "\n",
        "for node_pair in similar_nodes:\n",
        "    node1, node2 = node_pair\n",
        "    if node1 not in similar_nodes_dict:\n",
        "        similar_nodes_dict[node1] = set()\n",
        "    if node2 not in similar_nodes_dict:\n",
        "        similar_nodes_dict[node2] = set()\n",
        "    similar_nodes_dict[node1].add(node2)\n",
        "    similar_nodes_dict[node2].add(node1)"
      ],
      "metadata": {
        "id": "BjJ_VM2Elflh"
      },
      "execution_count": 18,
      "outputs": []
    },
    {
      "cell_type": "code",
      "source": [
        "import matplotlib.pyplot as plt\n",
        "\n",
        "\n",
        "colors = ['b', 'g', 'r', 'c', 'm', 'y', 'k']  # You can customize the colors\n",
        "\n",
        "fig, ax = plt.subplots()\n",
        "\n",
        "for i, node in enumerate(similar_nodes_dict.keys()):\n",
        "    embedding = z_en_pca[node]\n",
        "    group = -1  # Assign a default group number\n",
        "    for j, (group_nodes, nodes_set) in enumerate(similar_nodes_dict.items()):\n",
        "        if node in nodes_set:\n",
        "            group = j\n",
        "            break\n",
        "    color = colors[group % len(colors)]  # Choose a color for the group\n",
        "    ax.scatter(embedding[0], embedding[1], color=color)\n",
        "\n",
        "plt.show()"
      ],
      "metadata": {
        "colab": {
          "base_uri": "https://localhost:8080/",
          "height": 265
        },
        "id": "jVq7_bdxlvTY",
        "outputId": "e09db705-68a0-4195-e829-49faba48c7ba"
      },
      "execution_count": 19,
      "outputs": [
        {
          "output_type": "display_data",
          "data": {
            "text/plain": [
              "<Figure size 432x288 with 1 Axes>"
            ],
            "image/png": "[encoded data removed]"
          },
          "metadata": {
            "needs_background": "light"
          }
        }
      ]
    },
    {
      "cell_type": "code",
      "source": [
        "my_list = np.unique([set([k, *v]) for k, v in similar_nodes_dict.items()])\n",
        "my_list.shape"
      ],
      "metadata": {
        "colab": {
          "base_uri": "https://localhost:8080/"
        },
        "id": "xa9Ud1ssaA9t",
        "outputId": "bf60f887-7946-4a3c-f5a9-f1d0c02a5a4a"
      },
      "execution_count": 20,
      "outputs": [
        {
          "output_type": "execute_result",
          "data": {
            "text/plain": [
              "(1606,)"
            ]
          },
          "metadata": {},
          "execution_count": 20
        }
      ]
    },
    {
      "cell_type": "code",
      "source": [
        "my_dict = {}\n",
        "\n",
        "# Open the file and read the data\n",
        "with open(\"/content/RREA/CIKM/data/zh_en/ent_ids_2\", \"r\") as file:\n",
        "    for line in file:\n",
        "        key, value = line.strip().split()\n",
        "        my_dict[key] = value"
      ],
      "metadata": {
        "id": "10Io160ganJ0"
      },
      "execution_count": 21,
      "outputs": []
    },
    {
      "cell_type": "code",
      "source": [
        "my_list"
      ],
      "metadata": {
        "colab": {
          "base_uri": "https://localhost:8080/"
        },
        "id": "y5I-niCbdYld",
        "outputId": "bbaf0f1e-5803-4ede-ae84-7f275b44b5c8"
      },
      "execution_count": 22,
      "outputs": [
        {
          "output_type": "execute_result",
          "data": {
            "text/plain": [
              "array([{56, 77}, {33104, 33158, 33199}, {33105, 33182}, ...,\n",
              "       {22848, 22827}, {23080, 23076}, {38890, 38892}], dtype=object)"
            ]
          },
          "metadata": {},
          "execution_count": 22
        }
      ]
    },
    {
      "cell_type": "code",
      "source": [
        "groups_labled=[]\n",
        "\n",
        "for s in my_list:\n",
        "  group=[]\n",
        "  for id in s :\n",
        "    if str(id) in my_dict.keys():\n",
        "      group.append(my_dict[str(id)])\n",
        "  if len(group)!=0:\n",
        "    groups_labled.append(set(group))\n",
        "\n",
        "groups_labled[0:10]"
      ],
      "metadata": {
        "colab": {
          "base_uri": "https://localhost:8080/"
        },
        "id": "ZuRwoZf3coc9",
        "outputId": "9c10c8a2-b591-4d89-8e2d-23e6cdadb54c"
      },
      "execution_count": 23,
      "outputs": [
        {
          "output_type": "execute_result",
          "data": {
            "text/plain": [
              "[{'http://dbpedia.org/resource/Hiroshi_Mikitani',\n",
              "  'http://dbpedia.org/resource/Jan_Tinbergen',\n",
              "  'http://dbpedia.org/resource/Nola'},\n",
              " {'http://dbpedia.org/resource/Amhara_Region',\n",
              "  'http://dbpedia.org/resource/Mohammed_Saeed_Bekheitan'},\n",
              " {'http://dbpedia.org/resource/Amhara_Region',\n",
              "  'http://dbpedia.org/resource/Mohammed_Saeed_Bekheitan',\n",
              "  'http://dbpedia.org/resource/Zheng_Long'},\n",
              " {'http://dbpedia.org/resource/Ministry_of_Housing_and_Urban-Rural_Development',\n",
              "  'http://dbpedia.org/resource/Oberlin_College'},\n",
              " {'http://dbpedia.org/resource/Oberlin_College',\n",
              "  'http://dbpedia.org/resource/Zhengzhou–Xuzhou_High-Speed_Railway'},\n",
              " {'http://dbpedia.org/resource/Hiroshi_Mikitani',\n",
              "  'http://dbpedia.org/resource/Jan_Tinbergen'},\n",
              " {'http://dbpedia.org/resource/Liu_Ye_(actor)',\n",
              "  'http://dbpedia.org/resource/Oberlin_College'},\n",
              " {'http://dbpedia.org/resource/Emperor_Rokujō',\n",
              "  'http://dbpedia.org/resource/Nenets_languages'},\n",
              " {'http://dbpedia.org/resource/Barrow_A.F.C.',\n",
              "  'http://dbpedia.org/resource/Liaocheng',\n",
              "  'http://dbpedia.org/resource/Paul_Xuereb'},\n",
              " {'http://dbpedia.org/resource/Liu_Ye_(actor)',\n",
              "  'http://dbpedia.org/resource/Ministry_of_Housing_and_Urban-Rural_Development',\n",
              "  'http://dbpedia.org/resource/Oberlin_College',\n",
              "  'http://dbpedia.org/resource/Zhengzhou–Xuzhou_High-Speed_Railway'}]"
            ]
          },
          "metadata": {},
          "execution_count": 23
        }
      ]
    },
    {
      "cell_type": "code",
      "source": [
        "from sklearn.cluster import DBSCAN\n",
        "from sklearn.manifold import TSNE\n",
        "import matplotlib.pyplot as plt\n",
        "import numpy as np\n",
        "\n",
        "\n",
        "dbscan = DBSCAN(eps=0.5, min_samples=5)\n",
        "cluster_labels = dbscan.fit_predict(z_en)\n",
        "\n",
        "# Apply t-SNE dimensionality reduction technique to reduce the dimensionality of the latent space embeddings\n",
        "embedding = z_en_pca\n",
        "\n",
        "# Plot the reduced embeddings and color code the points based on their cluster assignments\n",
        "plt.scatter(embedding[:, 0], embedding[:, 1],c=cluster_labels)\n",
        "plt.show()\n"
      ],
      "metadata": {
        "colab": {
          "base_uri": "https://localhost:8080/",
          "height": 265
        },
        "id": "VekTKRwklyrf",
        "outputId": "23a9bceb-c8e3-4a25-b133-18af7a041065"
      },
      "execution_count": null,
      "outputs": [
        {
          "output_type": "display_data",
          "data": {
            "text/plain": [
              "<Figure size 432x288 with 1 Axes>"
            ],
            "image/png": "[encoded data removed]"
          },
          "metadata": {
            "needs_background": "light"
          }
        }
      ]
    },
    {
      "cell_type": "code",
      "source": [
        "from sklearn.cluster import KMeans\n",
        "\n",
        "kmeans = KMeans(n_clusters=2, random_state=0, n_init=\"auto\")\n",
        "\n",
        "cluster_labels1 = kmeans.fit_predict(z_en)\n",
        "\n",
        "\n",
        "plt.scatter(z_en_pca[:, 0], z_en_pca[:, 1], c=cluster_labels1)\n",
        "plt.show()"
      ],
      "metadata": {
        "colab": {
          "base_uri": "https://localhost:8080/",
          "height": 265
        },
        "id": "tmPfxhc_mSDK",
        "outputId": "419a80af-62ef-4b91-ad60-ae25579df8b1"
      },
      "execution_count": 24,
      "outputs": [
        {
          "output_type": "display_data",
          "data": {
            "text/plain": [
              "<Figure size 432x288 with 1 Axes>"
            ],
            "image/png": "[encoded data removed]"
          },
          "metadata": {
            "needs_background": "light"
          }
        }
      ]
    },
    {
      "cell_type": "code",
      "source": [
        "cluster_labels1=list(cluster_labels1 )"
      ],
      "metadata": {
        "id": "tQ46kI2KpRXI"
      },
      "execution_count": null,
      "outputs": []
    },
    {
      "cell_type": "code",
      "source": [
        "cluster_0=[i for i in range(len(cluster_labels1)) if cluster_labels1[i]==0]\n",
        "cluster_1=[i for i in range(len(cluster_labels1)) if cluster_labels1[i]==1]"
      ],
      "metadata": {
        "id": "0mNwSvyIrmMl"
      },
      "execution_count": 25,
      "outputs": []
    },
    {
      "cell_type": "code",
      "source": [
        "groups_labled_0=[]\n",
        "for id in cluster_0:\n",
        "  if str(id) in my_dict:\n",
        "    groups_labled_0.append(my_dict[str(id)])\n",
        "\n",
        "\n",
        "groups_labled_0"
      ],
      "metadata": {
        "colab": {
          "base_uri": "https://localhost:8080/"
        },
        "id": "gl_K5bFtswQt",
        "outputId": "41198fdd-0a31-4172-d644-9a2fba531c40"
      },
      "execution_count": 26,
      "outputs": [
        {
          "output_type": "execute_result",
          "data": {
            "text/plain": [
              "[]"
            ]
          },
          "metadata": {},
          "execution_count": 26
        }
      ]
    },
    {
      "cell_type": "code",
      "source": [
        "groups_labled_1=[]\n",
        "for id in cluster_1:\n",
        "  if str(id) in my_dict:\n",
        "    groups_labled_1.append(my_dict[str(id)])\n",
        "\n",
        "\n",
        "groups_labled_1"
      ],
      "metadata": {
        "colab": {
          "base_uri": "https://localhost:8080/"
        },
        "id": "gMDpg8uRgDKI",
        "outputId": "d2db525c-d622-441e-d0b7-21dd39eb6e12"
      },
      "execution_count": 27,
      "outputs": [
        {
          "output_type": "execute_result",
          "data": {
            "text/plain": [
              "['http://dbpedia.org/resource/Abdullah_Gül',\n",
              " 'http://dbpedia.org/resource/Kim_Dae-jung',\n",
              " 'http://dbpedia.org/resource/National_Front_(France)',\n",
              " 'http://dbpedia.org/resource/Hong_Kong_Fourth_Division_League',\n",
              " 'http://dbpedia.org/resource/Songshan_District,_Taipei',\n",
              " 'http://dbpedia.org/resource/Ernest_King',\n",
              " 'http://dbpedia.org/resource/Sport_Club_Corinthians_Paulista',\n",
              " 'http://dbpedia.org/resource/Kingdom_of_Württemberg',\n",
              " 'http://dbpedia.org/resource/IBooks',\n",
              " 'http://dbpedia.org/resource/Joachim_Gauck',\n",
              " 'http://dbpedia.org/resource/Hohhot',\n",
              " 'http://dbpedia.org/resource/John_Wall_(basketball)',\n",
              " 'http://dbpedia.org/resource/Gastón_Ramírez',\n",
              " 'http://dbpedia.org/resource/Jesper_Grønkjær',\n",
              " 'http://dbpedia.org/resource/Laconnex',\n",
              " 'http://dbpedia.org/resource/Ernest_Rutherford',\n",
              " 'http://dbpedia.org/resource/Convair',\n",
              " 'http://dbpedia.org/resource/Federica_Mogherini',\n",
              " 'http://dbpedia.org/resource/Ahmad_Shah_Bahadur',\n",
              " 'http://dbpedia.org/resource/Yu_Hai',\n",
              " 'http://dbpedia.org/resource/Gwich’in_language',\n",
              " 'http://dbpedia.org/resource/Ignatius_of_Loyola',\n",
              " 'http://dbpedia.org/resource/Linux',\n",
              " 'http://dbpedia.org/resource/McDonnell_Douglas_F-15E_Strike_Eagle',\n",
              " 'http://dbpedia.org/resource/Itō_Hirobumi',\n",
              " 'http://dbpedia.org/resource/Cory_Booker',\n",
              " 'http://dbpedia.org/resource/Lujhu_District',\n",
              " 'http://dbpedia.org/resource/Vassiliki_Thanou-Christophilou',\n",
              " 'http://dbpedia.org/resource/Feng_Guozhang',\n",
              " 'http://dbpedia.org/resource/Perfect_Crime_(album)',\n",
              " 'http://dbpedia.org/resource/Krisztián_Németh',\n",
              " 'http://dbpedia.org/resource/Sammir',\n",
              " 'http://dbpedia.org/resource/Yampa_River',\n",
              " 'http://dbpedia.org/resource/Nicosia',\n",
              " 'http://dbpedia.org/resource/Eric_Harris_and_Dylan_Klebold',\n",
              " 'http://dbpedia.org/resource/Italo-Western_languages',\n",
              " 'http://dbpedia.org/resource/Divas_in_Distress',\n",
              " 'http://dbpedia.org/resource/Block_B',\n",
              " 'http://dbpedia.org/resource/Rong_Yiren',\n",
              " 'http://dbpedia.org/resource/Dingxi',\n",
              " 'http://dbpedia.org/resource/Cindy_Au',\n",
              " 'http://dbpedia.org/resource/Ahmad_Matin-Daftari',\n",
              " 'http://dbpedia.org/resource/Chinese_characters',\n",
              " 'http://dbpedia.org/resource/Sun_Xiang',\n",
              " 'http://dbpedia.org/resource/City_of_Rockdale',\n",
              " 'http://dbpedia.org/resource/Bukit_Jalil_National_Stadium',\n",
              " 'http://dbpedia.org/resource/Malay_language',\n",
              " 'http://dbpedia.org/resource/Esbjerg',\n",
              " 'http://dbpedia.org/resource/Walter_Gilbert',\n",
              " 'http://dbpedia.org/resource/Chris_Paul',\n",
              " 'http://dbpedia.org/resource/Moriyama-ku,_Nagoya',\n",
              " 'http://dbpedia.org/resource/Keiyō_Road',\n",
              " 'http://dbpedia.org/resource/Universal_Studios_Hollywood',\n",
              " 'http://dbpedia.org/resource/Aaron_Burr',\n",
              " 'http://dbpedia.org/resource/Kang_Min-soo',\n",
              " 'http://dbpedia.org/resource/Rudolf_Hess',\n",
              " 'http://dbpedia.org/resource/Anhui',\n",
              " 'http://dbpedia.org/resource/...Baby_One_More_Time_(song)',\n",
              " 'http://dbpedia.org/resource/Lin_Feng-jiao',\n",
              " 'http://dbpedia.org/resource/Say_Chhum',\n",
              " 'http://dbpedia.org/resource/Heathrow_Airport',\n",
              " 'http://dbpedia.org/resource/Yunfu',\n",
              " 'http://dbpedia.org/resource/Zhang_Linpeng',\n",
              " 'http://dbpedia.org/resource/Qatar_Stars_League',\n",
              " 'http://dbpedia.org/resource/Rhodesia',\n",
              " 'http://dbpedia.org/resource/Bob_Casey,_Jr.',\n",
              " 'http://dbpedia.org/resource/Alex_Lynn',\n",
              " 'http://dbpedia.org/resource/Kim_Heechul',\n",
              " 'http://dbpedia.org/resource/Samsung',\n",
              " 'http://dbpedia.org/resource/Kingdom_of_Iraq',\n",
              " 'http://dbpedia.org/resource/Alcoy,_Spain',\n",
              " 'http://dbpedia.org/resource/Igbo_language',\n",
              " 'http://dbpedia.org/resource/Napoleon',\n",
              " 'http://dbpedia.org/resource/Alexandre_Millerand',\n",
              " 'http://dbpedia.org/resource/Barnsley_F.C.',\n",
              " 'http://dbpedia.org/resource/Tokyo_Jihen',\n",
              " 'http://dbpedia.org/resource/Skoda_Xanthi_F.C.',\n",
              " \"http://dbpedia.org/resource/Lu'an\",\n",
              " 'http://dbpedia.org/resource/2012_Summer_Olympics',\n",
              " 'http://dbpedia.org/resource/Han_Seung-soo',\n",
              " 'http://dbpedia.org/resource/Carl_XVI_Gustaf_of_Sweden',\n",
              " 'http://dbpedia.org/resource/Mari_language',\n",
              " 'http://dbpedia.org/resource/Shulin_District',\n",
              " 'http://dbpedia.org/resource/Sky_(Faye_Wong_album)',\n",
              " 'http://dbpedia.org/resource/Gold_Medal_of_the_Royal_Astronomical_Society',\n",
              " 'http://dbpedia.org/resource/Doom_(series)',\n",
              " 'http://dbpedia.org/resource/Vasily_Sokolovsky',\n",
              " 'http://dbpedia.org/resource/Prince_Arthur,_Duke_of_Connaught_and_Strathearn',\n",
              " 'http://dbpedia.org/resource/Butterfly_(Kumi_Koda_song)',\n",
              " 'http://dbpedia.org/resource/Preston_North_End_F.C.',\n",
              " 'http://dbpedia.org/resource/GeForce_9_series',\n",
              " 'http://dbpedia.org/resource/Province_of_Huesca',\n",
              " 'http://dbpedia.org/resource/Think_of_Me/No_More_Tears',\n",
              " 'http://dbpedia.org/resource/Knights_Hospitaller',\n",
              " \"http://dbpedia.org/resource/Girls'_Generation_(2011_album)\",\n",
              " 'http://dbpedia.org/resource/Comcast',\n",
              " 'http://dbpedia.org/resource/Emil_Hácha',\n",
              " 'http://dbpedia.org/resource/Kurdish_Supreme_Committee',\n",
              " 'http://dbpedia.org/resource/Oromo_people',\n",
              " 'http://dbpedia.org/resource/Love_Piece',\n",
              " 'http://dbpedia.org/resource/Britney_(album)',\n",
              " 'http://dbpedia.org/resource/Muse_(band)',\n",
              " 'http://dbpedia.org/resource/Canaan_Banana',\n",
              " 'http://dbpedia.org/resource/Warringah_Council',\n",
              " 'http://dbpedia.org/resource/Marilyn_Manson_(band)',\n",
              " 'http://dbpedia.org/resource/Srinagar',\n",
              " 'http://dbpedia.org/resource/Vivendi',\n",
              " \"http://dbpedia.org/resource/Alliance_'90/The_Greens\",\n",
              " 'http://dbpedia.org/resource/Joo_Jin-mo',\n",
              " 'http://dbpedia.org/resource/Gamal_Abdel_Nasser',\n",
              " 'http://dbpedia.org/resource/Mapúa_Institute_of_Technology',\n",
              " 'http://dbpedia.org/resource/Ogikubo_Station',\n",
              " 'http://dbpedia.org/resource/Kevin_Phillips_(footballer)',\n",
              " 'http://dbpedia.org/resource/Homs',\n",
              " 'http://dbpedia.org/resource/Shu_Chang_(actress)',\n",
              " 'http://dbpedia.org/resource/My_Sugar_Cat',\n",
              " 'http://dbpedia.org/resource/Pujie',\n",
              " 'http://dbpedia.org/resource/Marlon_King',\n",
              " 'http://dbpedia.org/resource/Austria-Hungary',\n",
              " 'http://dbpedia.org/resource/2014_Asian_Games',\n",
              " 'http://dbpedia.org/resource/Samuel_Osgood',\n",
              " 'http://dbpedia.org/resource/Uyghurs',\n",
              " 'http://dbpedia.org/resource/Tomoaki_Makino',\n",
              " 'http://dbpedia.org/resource/TDM_(Macau)',\n",
              " 'http://dbpedia.org/resource/Kuybyshev_Reservoir',\n",
              " 'http://dbpedia.org/resource/Orhan_of_the_Ottoman_Empire',\n",
              " 'http://dbpedia.org/resource/Heavy_metal_music',\n",
              " 'http://dbpedia.org/resource/University_of_Toronto',\n",
              " 'http://dbpedia.org/resource/Gunnar_Thoroddsen',\n",
              " 'http://dbpedia.org/resource/Jess_Lee_(Malaysian_singer)',\n",
              " \"http://dbpedia.org/resource/Premier_of_the_People's_Republic_of_China\",\n",
              " 'http://dbpedia.org/resource/Bangkok',\n",
              " 'http://dbpedia.org/resource/Wang_Zhaoguo',\n",
              " 'http://dbpedia.org/resource/Wyoming',\n",
              " 'http://dbpedia.org/resource/Unreal_Engine',\n",
              " 'http://dbpedia.org/resource/The_Pet_Girl_of_Sakurasou',\n",
              " 'http://dbpedia.org/resource/Duran_Duran',\n",
              " 'http://dbpedia.org/resource/Luiz_Adriano',\n",
              " 'http://dbpedia.org/resource/Nord_(French_department)',\n",
              " 'http://dbpedia.org/resource/Emperor_Xiaowen_of_Northern_Wei',\n",
              " 'http://dbpedia.org/resource/Pope_Felix_I',\n",
              " \"http://dbpedia.org/resource/China_women's_national_football_team\",\n",
              " 'http://dbpedia.org/resource/RCD_Mallorca',\n",
              " 'http://dbpedia.org/resource/KAT-TUN',\n",
              " 'http://dbpedia.org/resource/Tré_Cool',\n",
              " 'http://dbpedia.org/resource/Jodie_Foster',\n",
              " 'http://dbpedia.org/resource/Amerika_(song)',\n",
              " 'http://dbpedia.org/resource/F4_(band)',\n",
              " 'http://dbpedia.org/resource/Fort_Pierce,_Florida',\n",
              " 'http://dbpedia.org/resource/Benoit_Mandelbrot',\n",
              " 'http://dbpedia.org/resource/Lyman_Spitzer',\n",
              " 'http://dbpedia.org/resource/Elva_Hsiao',\n",
              " 'http://dbpedia.org/resource/Yi_Bangja',\n",
              " 'http://dbpedia.org/resource/PFC_CSKA_Moscow',\n",
              " 'http://dbpedia.org/resource/Sae_Miyazawa',\n",
              " 'http://dbpedia.org/resource/Kiyoura_Keigo',\n",
              " 'http://dbpedia.org/resource/Sukhoi_PAK_FA',\n",
              " 'http://dbpedia.org/resource/IPad_(2nd_generation)',\n",
              " 'http://dbpedia.org/resource/Kingdom_of_Bulgaria',\n",
              " 'http://dbpedia.org/resource/Micronesian_languages',\n",
              " 'http://dbpedia.org/resource/Jaya_Bachchan',\n",
              " 'http://dbpedia.org/resource/Ildefons_Lima',\n",
              " 'http://dbpedia.org/resource/HTC_One_Mini_2',\n",
              " 'http://dbpedia.org/resource/John_Cornyn',\n",
              " 'http://dbpedia.org/resource/Junkie_XL',\n",
              " 'http://dbpedia.org/resource/Hurricane_Gordon_(1994)',\n",
              " 'http://dbpedia.org/resource/Roman_Pavlyuchenko',\n",
              " 'http://dbpedia.org/resource/Louis_St._Laurent',\n",
              " 'http://dbpedia.org/resource/Maurice,_Prince_of_Orange',\n",
              " 'http://dbpedia.org/resource/Horace_Lamb',\n",
              " 'http://dbpedia.org/resource/Lau_Kar-ho',\n",
              " 'http://dbpedia.org/resource/Xu_Xiangqian',\n",
              " 'http://dbpedia.org/resource/Ramiro_Funes_Mori',\n",
              " 'http://dbpedia.org/resource/List_of_counties_in_Tennessee',\n",
              " 'http://dbpedia.org/resource/Bii_(singer)',\n",
              " 'http://dbpedia.org/resource/Latino-Faliscan_languages',\n",
              " 'http://dbpedia.org/resource/Philip_II_of_Spain',\n",
              " 'http://dbpedia.org/resource/Doc_Rivers',\n",
              " 'http://dbpedia.org/resource/Time_(TVXQ_album)',\n",
              " 'http://dbpedia.org/resource/Lee_Teng-hui',\n",
              " 'http://dbpedia.org/resource/Li_Ka_Shing_Faculty_of_Medicine',\n",
              " 'http://dbpedia.org/resource/MŠK_Žilina',\n",
              " 'http://dbpedia.org/resource/Ranger_8',\n",
              " 'http://dbpedia.org/resource/Minangkabau_language',\n",
              " 'http://dbpedia.org/resource/A_Great_Way_to_Care',\n",
              " 'http://dbpedia.org/resource/Numerian',\n",
              " 'http://dbpedia.org/resource/Rhaeto-Romance_languages',\n",
              " 'http://dbpedia.org/resource/Esbjerg_fB',\n",
              " 'http://dbpedia.org/resource/Wales',\n",
              " 'http://dbpedia.org/resource/HTC_First',\n",
              " 'http://dbpedia.org/resource/Chiang_Pin-kung',\n",
              " 'http://dbpedia.org/resource/Wang_Guoming',\n",
              " 'http://dbpedia.org/resource/Fujisawa,_Kanagawa',\n",
              " 'http://dbpedia.org/resource/British_Virgin_Islands',\n",
              " 'http://dbpedia.org/resource/Tsubasa_(train)',\n",
              " 'http://dbpedia.org/resource/Grant_County,_Washington',\n",
              " 'http://dbpedia.org/resource/Sham_Shui_Po_SA',\n",
              " 'http://dbpedia.org/resource/Northern_Han',\n",
              " 'http://dbpedia.org/resource/Battle_of_Bunker_Hill',\n",
              " 'http://dbpedia.org/resource/Zhang_Jizhong',\n",
              " 'http://dbpedia.org/resource/Missouri',\n",
              " 'http://dbpedia.org/resource/Yu_Zhengsheng',\n",
              " 'http://dbpedia.org/resource/Lotus_(Arashi_song)',\n",
              " 'http://dbpedia.org/resource/City_of_Willoughby',\n",
              " 'http://dbpedia.org/resource/Mohun_Bagan_A.C.',\n",
              " 'http://dbpedia.org/resource/Park_Ye-jin',\n",
              " 'http://dbpedia.org/resource/Ranger_5',\n",
              " 'http://dbpedia.org/resource/University_of_Westminster',\n",
              " 'http://dbpedia.org/resource/Olusegun_Obasanjo',\n",
              " 'http://dbpedia.org/resource/Republic_of_China_(1912–49)',\n",
              " 'http://dbpedia.org/resource/Kenneth_Ma',\n",
              " 'http://dbpedia.org/resource/Erich_Honecker',\n",
              " 'http://dbpedia.org/resource/Michael_Suen',\n",
              " 'http://dbpedia.org/resource/Hu_Xia',\n",
              " 'http://dbpedia.org/resource/Frances_Perkins',\n",
              " 'http://dbpedia.org/resource/University_of_Science_and_Technology_of_China',\n",
              " 'http://dbpedia.org/resource/Shane_Stefanutto',\n",
              " 'http://dbpedia.org/resource/Microsoft_XNA',\n",
              " 'http://dbpedia.org/resource/Burning_Flame_III',\n",
              " 'http://dbpedia.org/resource/Laurent_Koscielny',\n",
              " 'http://dbpedia.org/resource/Akira_Yamaoka',\n",
              " 'http://dbpedia.org/resource/Nayef_bin_Abdul-Aziz_Al_Saud',\n",
              " 'http://dbpedia.org/resource/Louise_Élisabeth_of_France',\n",
              " 'http://dbpedia.org/resource/Choulex',\n",
              " 'http://dbpedia.org/resource/Khmer_alphabet',\n",
              " 'http://dbpedia.org/resource/Mansi_language',\n",
              " 'http://dbpedia.org/resource/Benito_Mussolini',\n",
              " 'http://dbpedia.org/resource/Choushinsei_Flashman',\n",
              " 'http://dbpedia.org/resource/Stay_by_My_Side',\n",
              " 'http://dbpedia.org/resource/Juan_Manuel_Santos',\n",
              " 'http://dbpedia.org/resource/Prince_Michael_of_Kent',\n",
              " 'http://dbpedia.org/resource/Richard_Burton',\n",
              " 'http://dbpedia.org/resource/Pope_Nicholas_IV',\n",
              " 'http://dbpedia.org/resource/Chancellor_of_Germany',\n",
              " 'http://dbpedia.org/resource/Hunan_University',\n",
              " 'http://dbpedia.org/resource/Ryoichi_Maeda',\n",
              " 'http://dbpedia.org/resource/Nguyễn_Minh_Triết',\n",
              " 'http://dbpedia.org/resource/Nick_Fitzgerald',\n",
              " 'http://dbpedia.org/resource/William_Howe,_5th_Viscount_Howe',\n",
              " 'http://dbpedia.org/resource/Victor_Moses',\n",
              " 'http://dbpedia.org/resource/Media_Go',\n",
              " 'http://dbpedia.org/resource/Pashtuns',\n",
              " 'http://dbpedia.org/resource/Strike_the_Blood',\n",
              " 'http://dbpedia.org/resource/Chung_King-fai',\n",
              " 'http://dbpedia.org/resource/Argun_River_(Asia)',\n",
              " 'http://dbpedia.org/resource/30_Rock_(season_2)',\n",
              " 'http://dbpedia.org/resource/Marek_Matějovský',\n",
              " 'http://dbpedia.org/resource/Kōfu',\n",
              " 'http://dbpedia.org/resource/William_J._Duane',\n",
              " 'http://dbpedia.org/resource/Henrik_Ibsen',\n",
              " 'http://dbpedia.org/resource/Viktor_Zubkov',\n",
              " 'http://dbpedia.org/resource/Princess_Marina_of_Greece_and_Denmark',\n",
              " 'http://dbpedia.org/resource/Nouri_al-Maliki',\n",
              " 'http://dbpedia.org/resource/Daniel_Vorländer',\n",
              " 'http://dbpedia.org/resource/Meng_Jianzhu',\n",
              " 'http://dbpedia.org/resource/X-Men',\n",
              " 'http://dbpedia.org/resource/Air_Transat_Flight_236',\n",
              " 'http://dbpedia.org/resource/Ranger_4',\n",
              " 'http://dbpedia.org/resource/Roman_Catholic_Diocese_of_Hexham_and_Newcastle',\n",
              " 'http://dbpedia.org/resource/University_of_Padua',\n",
              " 'http://dbpedia.org/resource/Vampire_Detective',\n",
              " 'http://dbpedia.org/resource/Sicilian_language',\n",
              " 'http://dbpedia.org/resource/Álvaro_Uribe',\n",
              " 'http://dbpedia.org/resource/Korea_Baseball_Organization',\n",
              " 'http://dbpedia.org/resource/Vatican_City',\n",
              " 'http://dbpedia.org/resource/Frederik_Sørensen',\n",
              " 'http://dbpedia.org/resource/Braveheart',\n",
              " 'http://dbpedia.org/resource/Piedmont',\n",
              " 'http://dbpedia.org/resource/Love_the_World',\n",
              " 'http://dbpedia.org/resource/Changshou_Yangtze_River_Bridge',\n",
              " 'http://dbpedia.org/resource/Carlos_Luz',\n",
              " \"http://dbpedia.org/resource/Don't_Don\",\n",
              " 'http://dbpedia.org/resource/Aleppo_Governorate',\n",
              " 'http://dbpedia.org/resource/George_V',\n",
              " 'http://dbpedia.org/resource/Minangkabau_people',\n",
              " 'http://dbpedia.org/resource/Carloman_of_Bavaria',\n",
              " 'http://dbpedia.org/resource/Ozzy_Osbourne',\n",
              " 'http://dbpedia.org/resource/Kim_Junsu',\n",
              " 'http://dbpedia.org/resource/Windsor,_Berkshire',\n",
              " 'http://dbpedia.org/resource/Leung_Tsz_Chun',\n",
              " \"http://dbpedia.org/resource/'Phags-pa_script\",\n",
              " 'http://dbpedia.org/resource/Nairobi',\n",
              " 'http://dbpedia.org/resource/Jacques_Chirac',\n",
              " 'http://dbpedia.org/resource/Haryana',\n",
              " 'http://dbpedia.org/resource/Willem-Alexander_of_the_Netherlands',\n",
              " 'http://dbpedia.org/resource/Superman',\n",
              " 'http://dbpedia.org/resource/Hong_Kong_Third_A_Division_League',\n",
              " 'http://dbpedia.org/resource/Roman_Empire',\n",
              " 'http://dbpedia.org/resource/Atahualpa',\n",
              " 'http://dbpedia.org/resource/Marcelo_Carrusca',\n",
              " 'http://dbpedia.org/resource/Tennessee',\n",
              " 'http://dbpedia.org/resource/Timothy_Pickering',\n",
              " 'http://dbpedia.org/resource/Mikhail_Kasyanov',\n",
              " 'http://dbpedia.org/resource/César_Azpilicueta',\n",
              " 'http://dbpedia.org/resource/Cheung_Kin_Fung',\n",
              " 'http://dbpedia.org/resource/Prince_Jaime,_Count_of_Bardi',\n",
              " 'http://dbpedia.org/resource/Suwa,_Nagano',\n",
              " 'http://dbpedia.org/resource/Auckland_Airport',\n",
              " 'http://dbpedia.org/resource/Kenix_Kwok',\n",
              " 'http://dbpedia.org/resource/IPod_Touch_(5th_generation)',\n",
              " 'http://dbpedia.org/resource/The_Bronx',\n",
              " 'http://dbpedia.org/resource/Hina_Rabbani_Khar',\n",
              " 'http://dbpedia.org/resource/Brooklyn',\n",
              " \"http://dbpedia.org/resource/Queen's_University\",\n",
              " 'http://dbpedia.org/resource/Grigol_Mgaloblishvili',\n",
              " 'http://dbpedia.org/resource/Kim_Song-Yong',\n",
              " 'http://dbpedia.org/resource/Roberto_Carlos_(footballer)',\n",
              " 'http://dbpedia.org/resource/Māori_language',\n",
              " 'http://dbpedia.org/resource/The_Rolling_Stones',\n",
              " 'http://dbpedia.org/resource/Lucas_Biglia',\n",
              " 'http://dbpedia.org/resource/Bohemian_Rhapsody',\n",
              " 'http://dbpedia.org/resource/Mark_Rutte',\n",
              " 'http://dbpedia.org/resource/Cody,_Wyoming',\n",
              " 'http://dbpedia.org/resource/Oromo_language',\n",
              " 'http://dbpedia.org/resource/Li_Yapeng',\n",
              " 'http://dbpedia.org/resource/Jetro_Willems',\n",
              " 'http://dbpedia.org/resource/Borneo',\n",
              " 'http://dbpedia.org/resource/IU_(singer)',\n",
              " 'http://dbpedia.org/resource/Qantas_Flight_32',\n",
              " 'http://dbpedia.org/resource/Airbus_A330',\n",
              " 'http://dbpedia.org/resource/Chu–Han_Contention',\n",
              " 'http://dbpedia.org/resource/Uzbekistan',\n",
              " 'http://dbpedia.org/resource/Lauda_Air',\n",
              " 'http://dbpedia.org/resource/Mazie_Hirono',\n",
              " 'http://dbpedia.org/resource/Paraguay',\n",
              " 'http://dbpedia.org/resource/David_Perdue',\n",
              " 'http://dbpedia.org/resource/ML_(programming_language)',\n",
              " 'http://dbpedia.org/resource/Victor_Cavendish,_9th_Duke_of_Devonshire',\n",
              " 'http://dbpedia.org/resource/Mozilla_Corporation',\n",
              " 'http://dbpedia.org/resource/Trần_Dụ_Tông',\n",
              " 'http://dbpedia.org/resource/Ukrainian_Premier_League',\n",
              " 'http://dbpedia.org/resource/Maria_Vladimirovna,_Grand_Duchess_of_Russia',\n",
              " 'http://dbpedia.org/resource/John_Barrasso',\n",
              " 'http://dbpedia.org/resource/Shenzhou_9',\n",
              " 'http://dbpedia.org/resource/Order_of_the_Garter',\n",
              " 'http://dbpedia.org/resource/Brigitte_Lin',\n",
              " 'http://dbpedia.org/resource/Workable_FC',\n",
              " 'http://dbpedia.org/resource/William_Ewart_Gladstone',\n",
              " 'http://dbpedia.org/resource/Kawanehon',\n",
              " 'http://dbpedia.org/resource/See-Saw',\n",
              " 'http://dbpedia.org/resource/Ministry_of_Industry_and_Information_Technology',\n",
              " \"http://dbpedia.org/resource/Ippolito_II_d'Este\",\n",
              " 'http://dbpedia.org/resource/Windows_Server_2003',\n",
              " 'http://dbpedia.org/resource/Emperor_Entertainment_Group',\n",
              " 'http://dbpedia.org/resource/Niš',\n",
              " 'http://dbpedia.org/resource/Ailee',\n",
              " 'http://dbpedia.org/resource/Singapore_Airlines',\n",
              " 'http://dbpedia.org/resource/Drum_and_bass',\n",
              " 'http://dbpedia.org/resource/Xiao_Xun',\n",
              " 'http://dbpedia.org/resource/Medellín,_Spain',\n",
              " 'http://dbpedia.org/resource/Bulgarian_language',\n",
              " 'http://dbpedia.org/resource/Laramie,_Wyoming',\n",
              " 'http://dbpedia.org/resource/Joseph_Desha',\n",
              " 'http://dbpedia.org/resource/Adnan_Januzaj',\n",
              " 'http://dbpedia.org/resource/Do_As_Infinity',\n",
              " 'http://dbpedia.org/resource/Minami-Alps,_Yamanashi',\n",
              " 'http://dbpedia.org/resource/Mikan_(song)',\n",
              " 'http://dbpedia.org/resource/Tang_Shaoyi',\n",
              " 'http://dbpedia.org/resource/Aurelius_of_Asturias',\n",
              " 'http://dbpedia.org/resource/Abdullah_al-Thani',\n",
              " 'http://dbpedia.org/resource/Los_Angeles_International_Airport',\n",
              " 'http://dbpedia.org/resource/Su_Yu',\n",
              " 'http://dbpedia.org/resource/Colin_Trevorrow',\n",
              " 'http://dbpedia.org/resource/Nicholas_of_Cusa',\n",
              " 'http://dbpedia.org/resource/Ahmad_Zahid_Hamidi',\n",
              " 'http://dbpedia.org/resource/Leiden',\n",
              " \"http://dbpedia.org/resource/Nine_Years'_War\",\n",
              " 'http://dbpedia.org/resource/Belgium_national_under-21_football_team',\n",
              " 'http://dbpedia.org/resource/Philips_Stadion',\n",
              " 'http://dbpedia.org/resource/Dream_of_Love_(Adventure_Time)',\n",
              " 'http://dbpedia.org/resource/Confessions_on_a_Dance_Floor',\n",
              " 'http://dbpedia.org/resource/Durham,_North_Carolina',\n",
              " 'http://dbpedia.org/resource/Delft',\n",
              " 'http://dbpedia.org/resource/Lavrentiy_Beria',\n",
              " 'http://dbpedia.org/resource/Austrian_German',\n",
              " 'http://dbpedia.org/resource/Carol_II_of_Romania',\n",
              " 'http://dbpedia.org/resource/Beep!!_(Superfly_song)',\n",
              " 'http://dbpedia.org/resource/Emmanuel_Levinas',\n",
              " 'http://dbpedia.org/resource/Mr._Taxi',\n",
              " 'http://dbpedia.org/resource/Sistema_Central',\n",
              " 'http://dbpedia.org/resource/Paul_Simon',\n",
              " 'http://dbpedia.org/resource/Árpád_Göncz',\n",
              " 'http://dbpedia.org/resource/Croatian_First_Football_League',\n",
              " 'http://dbpedia.org/resource/Ateneo_de_Manila_University',\n",
              " 'http://dbpedia.org/resource/Crisis_Core:_Final_Fantasy_VII',\n",
              " 'http://dbpedia.org/resource/Pope_Hormisdas',\n",
              " 'http://dbpedia.org/resource/Gijón',\n",
              " 'http://dbpedia.org/resource/Sven_Bender',\n",
              " 'http://dbpedia.org/resource/Russia_national_under-21_football_team',\n",
              " 'http://dbpedia.org/resource/Dragon_Ash',\n",
              " 'http://dbpedia.org/resource/2PM',\n",
              " 'http://dbpedia.org/resource/Leon_Lai',\n",
              " 'http://dbpedia.org/resource/Medinaceli',\n",
              " 'http://dbpedia.org/resource/Airbus_A300',\n",
              " 'http://dbpedia.org/resource/Cebuano_language',\n",
              " 'http://dbpedia.org/resource/Eddy_Francis',\n",
              " 'http://dbpedia.org/resource/Dundee_United_F.C.',\n",
              " 'http://dbpedia.org/resource/Toyota,_Aichi',\n",
              " 'http://dbpedia.org/resource/Khalil_Fong',\n",
              " 'http://dbpedia.org/resource/Jin_Chinese',\n",
              " 'http://dbpedia.org/resource/Dish_Network',\n",
              " 'http://dbpedia.org/resource/HTC_One_Max',\n",
              " 'http://dbpedia.org/resource/Vitória_S.C.',\n",
              " 'http://dbpedia.org/resource/Bülent_Ecevit',\n",
              " 'http://dbpedia.org/resource/Chivas_USA',\n",
              " 'http://dbpedia.org/resource/Cao_Huan',\n",
              " 'http://dbpedia.org/resource/Progressive_Party_of_Working_People',\n",
              " 'http://dbpedia.org/resource/Cali',\n",
              " 'http://dbpedia.org/resource/Maltese_language',\n",
              " 'http://dbpedia.org/resource/Persian_Gulf_Pro_League',\n",
              " 'http://dbpedia.org/resource/Uverworld',\n",
              " 'http://dbpedia.org/resource/Ich_tu_dir_weh',\n",
              " 'http://dbpedia.org/resource/Samsung_Galaxy_S4',\n",
              " 'http://dbpedia.org/resource/Malta',\n",
              " 'http://dbpedia.org/resource/Audi_RSQ',\n",
              " 'http://dbpedia.org/resource/William_I_of_the_Netherlands',\n",
              " 'http://dbpedia.org/resource/Toni_Polster',\n",
              " 'http://dbpedia.org/resource/Russian_Soviet_Federative_Socialist_Republic',\n",
              " 'http://dbpedia.org/resource/Tony_Blair',\n",
              " 'http://dbpedia.org/resource/Gulf_of_Mexico',\n",
              " 'http://dbpedia.org/resource/Village_Roadshow_Pictures',\n",
              " 'http://dbpedia.org/resource/So_into_You_(Kumi_Koda_song)',\n",
              " 'http://dbpedia.org/resource/Steven_Spielberg',\n",
              " 'http://dbpedia.org/resource/Moments_(Ayumi_Hamasaki_song)',\n",
              " 'http://dbpedia.org/resource/The_Who',\n",
              " 'http://dbpedia.org/resource/ITunes_Store',\n",
              " 'http://dbpedia.org/resource/Engine_Sentai_Go-onger',\n",
              " 'http://dbpedia.org/resource/Second_French_Empire',\n",
              " 'http://dbpedia.org/resource/Eliot_Spitzer',\n",
              " 'http://dbpedia.org/resource/Tiye',\n",
              " 'http://dbpedia.org/resource/Sizzo,_Prince_of_Schwarzburg',\n",
              " 'http://dbpedia.org/resource/Yang_Jing',\n",
              " 'http://dbpedia.org/resource/Jeremy_Corbyn',\n",
              " 'http://dbpedia.org/resource/Royal_Victorian_Order',\n",
              " 'http://dbpedia.org/resource/Foshan',\n",
              " 'http://dbpedia.org/resource/Tianjin_Tuanbo_Football_Stadium',\n",
              " 'http://dbpedia.org/resource/Yasuharu_Takanashi',\n",
              " 'http://dbpedia.org/resource/Jigme_Singye_Wangchuck',\n",
              " 'http://dbpedia.org/resource/Cao_Kun',\n",
              " 'http://dbpedia.org/resource/Maggie_Gyllenhaal',\n",
              " 'http://dbpedia.org/resource/Mao_Anqing',\n",
              " 'http://dbpedia.org/resource/Logic_Pro',\n",
              " 'http://dbpedia.org/resource/Wars_of_In-laws',\n",
              " 'http://dbpedia.org/resource/William_Des_Vœux',\n",
              " 'http://dbpedia.org/resource/List_of_counties_in_Florida',\n",
              " 'http://dbpedia.org/resource/Krystal_Jung',\n",
              " 'http://dbpedia.org/resource/Emma_Thompson',\n",
              " 'http://dbpedia.org/resource/Buckinghamshire',\n",
              " 'http://dbpedia.org/resource/Hiranuma_Kiichirō',\n",
              " 'http://dbpedia.org/resource/The_Beginning_of_the_End_(Lost)',\n",
              " 'http://dbpedia.org/resource/Parti_Socialiste_(Belgium)',\n",
              " 'http://dbpedia.org/resource/Lin_Chen-yi',\n",
              " 'http://dbpedia.org/resource/Musashi-Kosugi_Station',\n",
              " 'http://dbpedia.org/resource/Zheng_Jing',\n",
              " 'http://dbpedia.org/resource/Coalition_Provisional_Authority',\n",
              " 'http://dbpedia.org/resource/Quake_III_Arena',\n",
              " 'http://dbpedia.org/resource/Tocharian_languages',\n",
              " 'http://dbpedia.org/resource/Ashikaga_Yoshimitsu',\n",
              " 'http://dbpedia.org/resource/MeeGo',\n",
              " 'http://dbpedia.org/resource/Lublin',\n",
              " 'http://dbpedia.org/resource/Sauli_Niinistö',\n",
              " 'http://dbpedia.org/resource/Monarchy_of_Canada',\n",
              " 'http://dbpedia.org/resource/Ramiz_Alia',\n",
              " 'http://dbpedia.org/resource/Chiu_Yu_Ming',\n",
              " 'http://dbpedia.org/resource/Deus_Ex',\n",
              " 'http://dbpedia.org/resource/Hun_Sen',\n",
              " 'http://dbpedia.org/resource/Lorene_Ren',\n",
              " 'http://dbpedia.org/resource/Chile',\n",
              " 'http://dbpedia.org/resource/SC_Sagamihara',\n",
              " 'http://dbpedia.org/resource/Sultanate_of_Nejd',\n",
              " 'http://dbpedia.org/resource/Chatichai_Choonhavan',\n",
              " 'http://dbpedia.org/resource/Frank_O._Horton',\n",
              " 'http://dbpedia.org/resource/Nabataean_alphabet',\n",
              " 'http://dbpedia.org/resource/Twu_Shiing-jer',\n",
              " 'http://dbpedia.org/resource/Tokugawa_Yoshiyori',\n",
              " 'http://dbpedia.org/resource/Wayne_Chua',\n",
              " 'http://dbpedia.org/resource/Didier_Drogba',\n",
              " 'http://dbpedia.org/resource/Meadow_Mari_language',\n",
              " 'http://dbpedia.org/resource/Royal_Borough_of_Windsor_and_Maidenhead',\n",
              " 'http://dbpedia.org/resource/Jetstar_Airways',\n",
              " 'http://dbpedia.org/resource/Abdul_Halim_of_Kedah',\n",
              " 'http://dbpedia.org/resource/La_Palma',\n",
              " 'http://dbpedia.org/resource/Jōetsu_Shinkansen',\n",
              " 'http://dbpedia.org/resource/University_of_Chicago',\n",
              " 'http://dbpedia.org/resource/Reading_F.C.',\n",
              " 'http://dbpedia.org/resource/Rais_Yatim',\n",
              " 'http://dbpedia.org/resource/Tomoya_Nagase',\n",
              " 'http://dbpedia.org/resource/Archduke_Franz_Karl_of_Austria',\n",
              " 'http://dbpedia.org/resource/Judeo-Moroccan_Arabic',\n",
              " 'http://dbpedia.org/resource/Great_Dividing_Range',\n",
              " 'http://dbpedia.org/resource/Wen_Jiabao',\n",
              " 'http://dbpedia.org/resource/River_of_No_Return_(song)',\n",
              " 'http://dbpedia.org/resource/Jersey_City,_New_Jersey',\n",
              " 'http://dbpedia.org/resource/Joseph_Sung',\n",
              " 'http://dbpedia.org/resource/Kanji',\n",
              " 'http://dbpedia.org/resource/Apache_Software_Foundation',\n",
              " 'http://dbpedia.org/resource/Auvergne-Rhône-Alpes',\n",
              " 'http://dbpedia.org/resource/Playful_Kiss',\n",
              " 'http://dbpedia.org/resource/Delaware',\n",
              " 'http://dbpedia.org/resource/Bernex,_Switzerland',\n",
              " 'http://dbpedia.org/resource/Leland_Stanford',\n",
              " 'http://dbpedia.org/resource/Subrata_Pal',\n",
              " 'http://dbpedia.org/resource/Lim_Jeong-hee',\n",
              " 'http://dbpedia.org/resource/South_Ossetia',\n",
              " 'http://dbpedia.org/resource/Nami_Tamaki',\n",
              " 'http://dbpedia.org/resource/Greenland',\n",
              " 'http://dbpedia.org/resource/Mark_Jansen',\n",
              " 'http://dbpedia.org/resource/Sporting_Kansas_City',\n",
              " 'http://dbpedia.org/resource/Pope_Innocent_II',\n",
              " 'http://dbpedia.org/resource/Cádiz_CF',\n",
              " 'http://dbpedia.org/resource/Lakhdar_Brahimi',\n",
              " 'http://dbpedia.org/resource/Fred_Cheng',\n",
              " 'http://dbpedia.org/resource/José_Antonio_Reyes',\n",
              " 'http://dbpedia.org/resource/Wanzhou_Railway_Bridge',\n",
              " 'http://dbpedia.org/resource/Anne_of_Brittany',\n",
              " 'http://dbpedia.org/resource/Murad_II',\n",
              " 'http://dbpedia.org/resource/Toledo,_Spain',\n",
              " 'http://dbpedia.org/resource/Herbie_Hancock',\n",
              " 'http://dbpedia.org/resource/Toulouse_FC',\n",
              " 'http://dbpedia.org/resource/Mariah_Carey_(album)',\n",
              " 'http://dbpedia.org/resource/Bury_F.C.',\n",
              " 'http://dbpedia.org/resource/Libor_Sionko',\n",
              " 'http://dbpedia.org/resource/Du_Wei_(footballer)',\n",
              " 'http://dbpedia.org/resource/Hakone',\n",
              " 'http://dbpedia.org/resource/London_School_of_Economics',\n",
              " 'http://dbpedia.org/resource/Robert_Gibbs',\n",
              " 'http://dbpedia.org/resource/Jo_Kwon',\n",
              " 'http://dbpedia.org/resource/Arashi_No.1_Ichigou:_Arashi_wa_Arashi_o_Yobu!',\n",
              " 'http://dbpedia.org/resource/Quito',\n",
              " 'http://dbpedia.org/resource/Android_Lollipop',\n",
              " 'http://dbpedia.org/resource/Awadhi_language',\n",
              " 'http://dbpedia.org/resource/Changjo',\n",
              " 'http://dbpedia.org/resource/Lincoln_Township,_Butler_County,_Kansas',\n",
              " 'http://dbpedia.org/resource/Ahmad_Qavam',\n",
              " 'http://dbpedia.org/resource/Eleanor_of_Aquitaine',\n",
              " 'http://dbpedia.org/resource/Pope_Eleuterus',\n",
              " 'http://dbpedia.org/resource/Scottish_Football_League_Second_Division',\n",
              " 'http://dbpedia.org/resource/Whig_Party_(United_States)',\n",
              " 'http://dbpedia.org/resource/Pyrénées-Orientales',\n",
              " 'http://dbpedia.org/resource/Oxfordshire',\n",
              " 'http://dbpedia.org/resource/Wu_Qing_(footballer)',\n",
              " 'http://dbpedia.org/resource/Wang_Qishan',\n",
              " 'http://dbpedia.org/resource/Masahiro_Tanaka',\n",
              " 'http://dbpedia.org/resource/Kriegsmarine',\n",
              " 'http://dbpedia.org/resource/The_Oath_(TV_series)',\n",
              " 'http://dbpedia.org/resource/Ministry_of_Railways_(China)',\n",
              " 'http://dbpedia.org/resource/Kingdom_of_Bohemia',\n",
              " 'http://dbpedia.org/resource/Frankie_Lam',\n",
              " 'http://dbpedia.org/resource/Ashikaga,_Tochigi',\n",
              " 'http://dbpedia.org/resource/Sandro_Pertini',\n",
              " 'http://dbpedia.org/resource/Lake_Biwa',\n",
              " 'http://dbpedia.org/resource/Pensacola,_Florida',\n",
              " 'http://dbpedia.org/resource/Grow_into_One',\n",
              " 'http://dbpedia.org/resource/West_Himalayish_languages',\n",
              " 'http://dbpedia.org/resource/Newcastle_Jets_FC',\n",
              " 'http://dbpedia.org/resource/Gurung_language',\n",
              " 'http://dbpedia.org/resource/Yu_Hung-Chun',\n",
              " 'http://dbpedia.org/resource/Cheikh_Anta_Diop_University',\n",
              " 'http://dbpedia.org/resource/Fukaya,_Saitama',\n",
              " 'http://dbpedia.org/resource/Santa_Cruz_de_Tenerife',\n",
              " 'http://dbpedia.org/resource/Newton_Booth',\n",
              " 'http://dbpedia.org/resource/Sorbian_languages',\n",
              " 'http://dbpedia.org/resource/Ruby_Lin',\n",
              " 'http://dbpedia.org/resource/Incheon_International_Airport',\n",
              " 'http://dbpedia.org/resource/Lee_Jung-soo',\n",
              " 'http://dbpedia.org/resource/Jia_Nailiang',\n",
              " \"http://dbpedia.org/resource/It's_Not_Me,_It's_You\",\n",
              " 'http://dbpedia.org/resource/Boeing_CH-47_Chinook',\n",
              " 'http://dbpedia.org/resource/Charles_de_Freycinet',\n",
              " 'http://dbpedia.org/resource/Ob-Ugric_languages',\n",
              " 'http://dbpedia.org/resource/Stabæk_Fotball',\n",
              " 'http://dbpedia.org/resource/Shunroku_Hata',\n",
              " 'http://dbpedia.org/resource/Natural_(Orange_Range_album)',\n",
              " 'http://dbpedia.org/resource/Tan_Yankai',\n",
              " 'http://dbpedia.org/resource/Emperor_Gaozong_of_Tang',\n",
              " 'http://dbpedia.org/resource/Norway_national_under-21_football_team',\n",
              " 'http://dbpedia.org/resource/Beiyang_government',\n",
              " 'http://dbpedia.org/resource/Brian_May',\n",
              " 'http://dbpedia.org/resource/Tupolev_Tu-154',\n",
              " 'http://dbpedia.org/resource/Alamgir_II',\n",
              " 'http://dbpedia.org/resource/Northern_Wei',\n",
              " 'http://dbpedia.org/resource/Princess_Victoria_Melita_of_Saxe-Coburg_and_Gotha',\n",
              " 'http://dbpedia.org/resource/Bruno_Mars',\n",
              " 'http://dbpedia.org/resource/Bandai_Namco_Entertainment',\n",
              " 'http://dbpedia.org/resource/Kirarin_Revolution',\n",
              " 'http://dbpedia.org/resource/Soviet_occupation_zone',\n",
              " 'http://dbpedia.org/resource/Yamagata_Prefecture',\n",
              " 'http://dbpedia.org/resource/New_South_Wales',\n",
              " 'http://dbpedia.org/resource/Toyama,_Toyama',\n",
              " 'http://dbpedia.org/resource/Ittihad_FC',\n",
              " 'http://dbpedia.org/resource/Olav_V_of_Norway',\n",
              " 'http://dbpedia.org/resource/International_Organization_for_Standardization',\n",
              " 'http://dbpedia.org/resource/Isle_of_Man',\n",
              " 'http://dbpedia.org/resource/Samsung_Galaxy_S_III',\n",
              " 'http://dbpedia.org/resource/Seattle_University',\n",
              " 'http://dbpedia.org/resource/New_Line_Cinema',\n",
              " 'http://dbpedia.org/resource/Gediminas_Kirkilas',\n",
              " 'http://dbpedia.org/resource/Shanwei',\n",
              " 'http://dbpedia.org/resource/Dwight_Howard',\n",
              " \"http://dbpedia.org/resource/St_Thomas'_Hospital\",\n",
              " 'http://dbpedia.org/resource/Belgium_national_football_team',\n",
              " 'http://dbpedia.org/resource/Richard_Hammond',\n",
              " 'http://dbpedia.org/resource/Guntis_Ulmanis',\n",
              " 'http://dbpedia.org/resource/Jilin_City',\n",
              " 'http://dbpedia.org/resource/Alfonso_XIII_of_Spain',\n",
              " 'http://dbpedia.org/resource/St_Albans',\n",
              " 'http://dbpedia.org/resource/Progressive_metal',\n",
              " 'http://dbpedia.org/resource/Dutch_Americans',\n",
              " 'http://dbpedia.org/resource/Polish_government-in-exile',\n",
              " 'http://dbpedia.org/resource/BlackBerry',\n",
              " 'http://dbpedia.org/resource/Vasco_Joaquim_Rocha_Vieira',\n",
              " 'http://dbpedia.org/resource/City_of_Auburn',\n",
              " 'http://dbpedia.org/resource/João_Pereira_(Portuguese_footballer)',\n",
              " 'http://dbpedia.org/resource/EA_Canada',\n",
              " 'http://dbpedia.org/resource/Iwate_Prefecture',\n",
              " 'http://dbpedia.org/resource/Jalkhanz_Khutagt_Sodnomyn_Damdinbazar',\n",
              " 'http://dbpedia.org/resource/John_Prescott',\n",
              " 'http://dbpedia.org/resource/AMD_K8',\n",
              " 'http://dbpedia.org/resource/Haakon_VI_of_Norway',\n",
              " 'http://dbpedia.org/resource/Samsung_Galaxy_Note_3',\n",
              " 'http://dbpedia.org/resource/Kelly_Ayotte',\n",
              " 'http://dbpedia.org/resource/Sanming',\n",
              " 'http://dbpedia.org/resource/Apple_A6',\n",
              " 'http://dbpedia.org/resource/Kunigami_language',\n",
              " 'http://dbpedia.org/resource/Gilles_Deleuze',\n",
              " 'http://dbpedia.org/resource/Chen-Ning_Yang',\n",
              " 'http://dbpedia.org/resource/Giovanni_Lanza',\n",
              " 'http://dbpedia.org/resource/Kōki_Hirota',\n",
              " 'http://dbpedia.org/resource/Klaas-Jan_Huntelaar',\n",
              " 'http://dbpedia.org/resource/Tenshōin',\n",
              " 'http://dbpedia.org/resource/Ante_Rebić',\n",
              " 'http://dbpedia.org/resource/Hino,_Tokyo',\n",
              " 'http://dbpedia.org/resource/Club_Universidad_Nacional',\n",
              " 'http://dbpedia.org/resource/Alexander_Hamilton',\n",
              " 'http://dbpedia.org/resource/Mariner_9',\n",
              " 'http://dbpedia.org/resource/Kaohsiung_International_Airport',\n",
              " 'http://dbpedia.org/resource/Gloria_Yip',\n",
              " 'http://dbpedia.org/resource/John_Backus',\n",
              " 'http://dbpedia.org/resource/Ayutthaya_Kingdom',\n",
              " 'http://dbpedia.org/resource/McDonnell_Douglas_DC-9',\n",
              " 'http://dbpedia.org/resource/Empress_Xiaoyichun',\n",
              " 'http://dbpedia.org/resource/Lord_John_Cavendish',\n",
              " 'http://dbpedia.org/resource/Maximinus_II',\n",
              " 'http://dbpedia.org/resource/Gyeonggi_Province',\n",
              " 'http://dbpedia.org/resource/Rawlins,_Wyoming',\n",
              " 'http://dbpedia.org/resource/Mohammad_Reza_Rahimi',\n",
              " 'http://dbpedia.org/resource/Great_white_shark',\n",
              " 'http://dbpedia.org/resource/This_Is_It_(Michael_Jackson_song)',\n",
              " 'http://dbpedia.org/resource/Nightwish',\n",
              " 'http://dbpedia.org/resource/Institute_for_Advanced_Study',\n",
              " 'http://dbpedia.org/resource/Marathi_language',\n",
              " 'http://dbpedia.org/resource/Royal_Netherlands_Air_Force',\n",
              " 'http://dbpedia.org/resource/Douglas_DC-4',\n",
              " 'http://dbpedia.org/resource/Saga_Prefecture',\n",
              " 'http://dbpedia.org/resource/Music_Box_(Mariah_Carey_album)',\n",
              " 'http://dbpedia.org/resource/Columbus_Crew_SC',\n",
              " 'http://dbpedia.org/resource/René_Coty',\n",
              " 'http://dbpedia.org/resource/Prime_Minister_of_Russia',\n",
              " 'http://dbpedia.org/resource/Najib_Razak',\n",
              " 'http://dbpedia.org/resource/Enoggera,_Queensland',\n",
              " 'http://dbpedia.org/resource/FC_Dallas',\n",
              " 'http://dbpedia.org/resource/Michihiro_Yasuda',\n",
              " 'http://dbpedia.org/resource/Ma_Su_(actress)',\n",
              " 'http://dbpedia.org/resource/Ben_Cardin',\n",
              " 'http://dbpedia.org/resource/Hugh_Capet',\n",
              " 'http://dbpedia.org/resource/Charles_Dickens',\n",
              " 'http://dbpedia.org/resource/Nicki_Minaj',\n",
              " 'http://dbpedia.org/resource/Hiratsuka,_Kanagawa',\n",
              " 'http://dbpedia.org/resource/Wong_Cho-lam',\n",
              " 'http://dbpedia.org/resource/Emperor_Go-Kōgon',\n",
              " 'http://dbpedia.org/resource/Mexico_national_football_team',\n",
              " 'http://dbpedia.org/resource/Koko_de_Kiss_Shite',\n",
              " 'http://dbpedia.org/resource/Hainan',\n",
              " 'http://dbpedia.org/resource/Bruges',\n",
              " 'http://dbpedia.org/resource/Ilkhanate',\n",
              " 'http://dbpedia.org/resource/IKON_(South_Korean_band)',\n",
              " 'http://dbpedia.org/resource/Super_Snoops',\n",
              " 'http://dbpedia.org/resource/Charles_Augustus,_Hereditary_Grand_Duke_of_Saxe-Weimar-Eisenach_(1844–1894)',\n",
              " 'http://dbpedia.org/resource/Starship_Entertainment',\n",
              " 'http://dbpedia.org/resource/Ikimono-gakari',\n",
              " 'http://dbpedia.org/resource/Bodawpaya',\n",
              " 'http://dbpedia.org/resource/Muya_language',\n",
              " 'http://dbpedia.org/resource/Gilan_Province',\n",
              " 'http://dbpedia.org/resource/Argentine_Primera_División',\n",
              " 'http://dbpedia.org/resource/Zhao_Xuri',\n",
              " 'http://dbpedia.org/resource/DC_Comics',\n",
              " 'http://dbpedia.org/resource/Billings,_Montana',\n",
              " 'http://dbpedia.org/resource/SeeYa',\n",
              " 'http://dbpedia.org/resource/Jane_Dee_Hull',\n",
              " 'http://dbpedia.org/resource/Kofi_Annan',\n",
              " 'http://dbpedia.org/resource/Charles_the_Simple',\n",
              " 'http://dbpedia.org/resource/Nivkh_language',\n",
              " 'http://dbpedia.org/resource/Charles_Edward,_Duke_of_Saxe-Coburg_and_Gotha',\n",
              " 'http://dbpedia.org/resource/David_Martin_(footballer,_born_1986)',\n",
              " 'http://dbpedia.org/resource/List_of_Jewelpet_Twinkle_episodes',\n",
              " 'http://dbpedia.org/resource/Henry_Dearborn',\n",
              " 'http://dbpedia.org/resource/Sally_Yeh',\n",
              " 'http://dbpedia.org/resource/Oregon_State_University',\n",
              " 'http://dbpedia.org/resource/Sunjong_of_Korea',\n",
              " 'http://dbpedia.org/resource/Luigi_Facta',\n",
              " 'http://dbpedia.org/resource/Viet_Cong',\n",
              " 'http://dbpedia.org/resource/Shire_of_Flinders_(Queensland)',\n",
              " 'http://dbpedia.org/resource/Córdoba,_Andalusia',\n",
              " 'http://dbpedia.org/resource/Lee_Jong-hyun',\n",
              " 'http://dbpedia.org/resource/Higashi-Maizuru_Station',\n",
              " 'http://dbpedia.org/resource/Shaun_Donovan',\n",
              " 'http://dbpedia.org/resource/Rupprecht,_Crown_Prince_of_Bavaria',\n",
              " 'http://dbpedia.org/resource/European_United_Left–Nordic_Green_Left',\n",
              " 'http://dbpedia.org/resource/Winter_Bells',\n",
              " 'http://dbpedia.org/resource/Allied-occupied_Germany',\n",
              " 'http://dbpedia.org/resource/Yonezawa,_Yamagata',\n",
              " 'http://dbpedia.org/resource/Janice_Vidal',\n",
              " 'http://dbpedia.org/resource/B_(programming_language)',\n",
              " 'http://dbpedia.org/resource/Tatarstan',\n",
              " 'http://dbpedia.org/resource/Shin_Hyung-min',\n",
              " 'http://dbpedia.org/resource/Chyi_Chin',\n",
              " 'http://dbpedia.org/resource/Yoshihiko_Noda',\n",
              " 'http://dbpedia.org/resource/States_and_union_territories_of_India',\n",
              " 'http://dbpedia.org/resource/Sergei_Winogradsky',\n",
              " \"http://dbpedia.org/resource/L'Arc-en-Ciel\",\n",
              " 'http://dbpedia.org/resource/Dijon_FCO',\n",
              " 'http://dbpedia.org/resource/Craig_L._Thomas',\n",
              " 'http://dbpedia.org/resource/Shannon_Lee',\n",
              " 'http://dbpedia.org/resource/Yokkaichi,_Mie',\n",
              " 'http://dbpedia.org/resource/England_national_under-17_football_team',\n",
              " 'http://dbpedia.org/resource/Bai_Chongxi',\n",
              " 'http://dbpedia.org/resource/Emperor_Wen_of_Sui',\n",
              " 'http://dbpedia.org/resource/Victor_Entertainment',\n",
              " 'http://dbpedia.org/resource/Guangzhou_East_Railway_Station_(metro)',\n",
              " 'http://dbpedia.org/resource/Cerritos,_California',\n",
              " 'http://dbpedia.org/resource/Tony_Brown_(basketball)',\n",
              " 'http://dbpedia.org/resource/Pope_Felix_III',\n",
              " 'http://dbpedia.org/resource/Crossrail',\n",
              " 'http://dbpedia.org/resource/Palauan_language',\n",
              " 'http://dbpedia.org/resource/Game_Boy_Advance',\n",
              " 'http://dbpedia.org/resource/Betty_Ford',\n",
              " 'http://dbpedia.org/resource/Society_of_Jesus',\n",
              " 'http://dbpedia.org/resource/Versoix',\n",
              " 'http://dbpedia.org/resource/Miguel_Monteiro',\n",
              " 'http://dbpedia.org/resource/Tyronn_Lue',\n",
              " 'http://dbpedia.org/resource/Funk',\n",
              " 'http://dbpedia.org/resource/Plaid_Cymru',\n",
              " 'http://dbpedia.org/resource/Yang_Lan',\n",
              " 'http://dbpedia.org/resource/County_Longford',\n",
              " 'http://dbpedia.org/resource/Alan_Stephenson_Boyd',\n",
              " 'http://dbpedia.org/resource/1968–69_European_Cup',\n",
              " 'http://dbpedia.org/resource/Chinese_Canadians',\n",
              " 'http://dbpedia.org/resource/Austrian_Football_Bundesliga',\n",
              " 'http://dbpedia.org/resource/Sergio_Ramos',\n",
              " 'http://dbpedia.org/resource/Sakata,_Yamagata',\n",
              " 'http://dbpedia.org/resource/FC_Dordoi_Bishkek',\n",
              " 'http://dbpedia.org/resource/Mostar',\n",
              " 'http://dbpedia.org/resource/Stockport_County_F.C.',\n",
              " 'http://dbpedia.org/resource/Southwest_Airlines',\n",
              " 'http://dbpedia.org/resource/Medal_of_Honor_(series)',\n",
              " 'http://dbpedia.org/resource/Hannah_Arendt',\n",
              " 'http://dbpedia.org/resource/Ri_Sang-chol',\n",
              " 'http://dbpedia.org/resource/Hainanese',\n",
              " 'http://dbpedia.org/resource/Shaw_Communications',\n",
              " 'http://dbpedia.org/resource/Variety_(Tokyo_Jihen_album)',\n",
              " \"http://dbpedia.org/resource/Supreme_People's_Assembly\",\n",
              " 'http://dbpedia.org/resource/League_of_Ireland_Premier_Division',\n",
              " 'http://dbpedia.org/resource/John_Abbott',\n",
              " 'http://dbpedia.org/resource/Gold_Typhoon',\n",
              " 'http://dbpedia.org/resource/Göran_Persson',\n",
              " 'http://dbpedia.org/resource/Michael_Bay',\n",
              " 'http://dbpedia.org/resource/BET',\n",
              " 'http://dbpedia.org/resource/Vivien_Yeo',\n",
              " \"http://dbpedia.org/resource/Dina_bint_'Abdu'l-Hamid\",\n",
              " 'http://dbpedia.org/resource/J._Lawton_Collins',\n",
              " 'http://dbpedia.org/resource/Hong_Kong_Island',\n",
              " 'http://dbpedia.org/resource/Feel_My_Soul_(song)',\n",
              " 'http://dbpedia.org/resource/Gene_Wolfe',\n",
              " 'http://dbpedia.org/resource/Lothar_Matthäus',\n",
              " 'http://dbpedia.org/resource/To_the_Beautiful_You',\n",
              " 'http://dbpedia.org/resource/Jalandhar_district',\n",
              " 'http://dbpedia.org/resource/Burhanuddin_Rabbani',\n",
              " 'http://dbpedia.org/resource/Order_of_Saint_John_(chartered_1888)',\n",
              " 'http://dbpedia.org/resource/Boeing_F/A-18E/F_Super_Hornet',\n",
              " 'http://dbpedia.org/resource/Jerry_Yan',\n",
              " 'http://dbpedia.org/resource/Erik_Edman',\n",
              " 'http://dbpedia.org/resource/Astro_Xi_Yue_HD',\n",
              " \"http://dbpedia.org/resource/Christ's_Hospital\",\n",
              " 'http://dbpedia.org/resource/Lily_of_the_valley',\n",
              " 'http://dbpedia.org/resource/Gustaf_V_of_Sweden',\n",
              " 'http://dbpedia.org/resource/Real_Emotion/1000_no_Kotoba',\n",
              " 'http://dbpedia.org/resource/Low_Thia_Khiang',\n",
              " 'http://dbpedia.org/resource/House_of_Representatives_(Netherlands)',\n",
              " 'http://dbpedia.org/resource/Passion_(Utada_Hikaru_song)',\n",
              " 'http://dbpedia.org/resource/Snow_Pink',\n",
              " 'http://dbpedia.org/resource/Thomas_Hobbes',\n",
              " 'http://dbpedia.org/resource/Ruhrstadion',\n",
              " 'http://dbpedia.org/resource/Polish_Air_Force',\n",
              " 'http://dbpedia.org/resource/Wang_Gungwu',\n",
              " 'http://dbpedia.org/resource/Iraq_War',\n",
              " 'http://dbpedia.org/resource/The_Sweet_Escape',\n",
              " 'http://dbpedia.org/resource/Jinan',\n",
              " 'http://dbpedia.org/resource/Kiseki_(Kumi_Koda_song)',\n",
              " 'http://dbpedia.org/resource/Paul_Wolfowitz',\n",
              " 'http://dbpedia.org/resource/Calatayud',\n",
              " 'http://dbpedia.org/resource/Kim_Ju-young',\n",
              " 'http://dbpedia.org/resource/Stanisław_Leszczyński',\n",
              " 'http://dbpedia.org/resource/Even_If_(Ken_Hirai_song)',\n",
              " 'http://dbpedia.org/resource/PAS_Giannina_F.C.',\n",
              " 'http://dbpedia.org/resource/Gallo-Romance_languages',\n",
              " 'http://dbpedia.org/resource/Beijing–Guangzhou_Railway',\n",
              " 'http://dbpedia.org/resource/Star_Awards_2004',\n",
              " 'http://dbpedia.org/resource/The_Hague',\n",
              " 'http://dbpedia.org/resource/Sōnan',\n",
              " 'http://dbpedia.org/resource/S7_Airlines',\n",
              " 'http://dbpedia.org/resource/Khmer_Empire',\n",
              " 'http://dbpedia.org/resource/Fanny_Law',\n",
              " 'http://dbpedia.org/resource/Ichibu_to_Zenbu/Dive',\n",
              " 'http://dbpedia.org/resource/Stade_Brestois_29',\n",
              " 'http://dbpedia.org/resource/David_Lange',\n",
              " 'http://dbpedia.org/resource/Watford_F.C.',\n",
              " 'http://dbpedia.org/resource/Monthly_Comp_Ace',\n",
              " 'http://dbpedia.org/resource/Iker_Casillas',\n",
              " 'http://dbpedia.org/resource/Everton_Park,_Queensland',\n",
              " 'http://dbpedia.org/resource/Urasoe_Castle',\n",
              " 'http://dbpedia.org/resource/Selangor',\n",
              " 'http://dbpedia.org/resource/McDonnell_Douglas_DC-10',\n",
              " 'http://dbpedia.org/resource/President_pro_tempore_of_the_United_States_Senate',\n",
              " 'http://dbpedia.org/resource/Giuseppe_Saragat',\n",
              " 'http://dbpedia.org/resource/Glasgow_Caledonian_University',\n",
              " 'http://dbpedia.org/resource/Saint_Paul,_Minnesota',\n",
              " 'http://dbpedia.org/resource/Abdol-Hossein_Farmanfarma',\n",
              " 'http://dbpedia.org/resource/Natsukashii_Mirai_(Longing_Future)',\n",
              " 'http://dbpedia.org/resource/Council_for_Economic_Planning_and_Development',\n",
              " 'http://dbpedia.org/resource/Józef_Pińkowski',\n",
              " 'http://dbpedia.org/resource/Ximen_Station',\n",
              " 'http://dbpedia.org/resource/University_of_Notre_Dame',\n",
              " 'http://dbpedia.org/resource/Irohanihoheto',\n",
              " 'http://dbpedia.org/resource/Candy_Girl_(Mika_Nakashima_song)',\n",
              " 'http://dbpedia.org/resource/Muhammad_Iqbal',\n",
              " 'http://dbpedia.org/resource/Emperor_Takakura',\n",
              " 'http://dbpedia.org/resource/Malaysia_Premier_League',\n",
              " 'http://dbpedia.org/resource/LabVIEW',\n",
              " 'http://dbpedia.org/resource/Ferdinand_I_of_Romania',\n",
              " 'http://dbpedia.org/resource/Liu_Shan',\n",
              " 'http://dbpedia.org/resource/West_Sumatra',\n",
              " 'http://dbpedia.org/resource/Cheltenham',\n",
              " 'http://dbpedia.org/resource/Adaílton_José_dos_Santos_Filho',\n",
              " 'http://dbpedia.org/resource/Arthur_Griffith',\n",
              " 'http://dbpedia.org/resource/Sri_Lanka',\n",
              " 'http://dbpedia.org/resource/Lu_Xun',\n",
              " 'http://dbpedia.org/resource/Edmund_Burke',\n",
              " 'http://dbpedia.org/resource/Accrington_Stanley_F.C.',\n",
              " \"http://dbpedia.org/resource/Monster_(B'z_album)\",\n",
              " 'http://dbpedia.org/resource/Rose_Bowl_(stadium)',\n",
              " 'http://dbpedia.org/resource/Benyoucef_Benkhedda',\n",
              " 'http://dbpedia.org/resource/Gothic_metal',\n",
              " 'http://dbpedia.org/resource/Pascal_(programming_language)',\n",
              " 'http://dbpedia.org/resource/David_Connolly',\n",
              " 'http://dbpedia.org/resource/Borut_Pahor',\n",
              " 'http://dbpedia.org/resource/Ashley_Cole',\n",
              " 'http://dbpedia.org/resource/Victor_Emmanuel_III_of_Italy',\n",
              " 'http://dbpedia.org/resource/Hirofumi_Hirano',\n",
              " 'http://dbpedia.org/resource/James_Barbour',\n",
              " 'http://dbpedia.org/resource/F._J._Robinson,_1st_Viscount_Goderich',\n",
              " 'http://dbpedia.org/resource/University_of_Lausanne',\n",
              " 'http://dbpedia.org/resource/Friends_(season_7)',\n",
              " 'http://dbpedia.org/resource/Windows_10',\n",
              " 'http://dbpedia.org/resource/Feel_My_Mind',\n",
              " 'http://dbpedia.org/resource/Major_League_Baseball',\n",
              " 'http://dbpedia.org/resource/Huang_Xiaoming',\n",
              " 'http://dbpedia.org/resource/John_Carew',\n",
              " 'http://dbpedia.org/resource/Kao_Hua-chu',\n",
              " 'http://dbpedia.org/resource/Mean_Mr._Mustard',\n",
              " 'http://dbpedia.org/resource/Alessandro_Gamberini',\n",
              " 'http://dbpedia.org/resource/Copa_do_Brasil',\n",
              " 'http://dbpedia.org/resource/Robert_I,_Duke_of_Parma',\n",
              " 'http://dbpedia.org/resource/Lydia_Dunn,_Baroness_Dunn',\n",
              " 'http://dbpedia.org/resource/Natalie_Tong',\n",
              " 'http://dbpedia.org/resource/Sledgehammer_Games',\n",
              " 'http://dbpedia.org/resource/San_Diu_people',\n",
              " 'http://dbpedia.org/resource/N.E.C._(football_club)',\n",
              " 'http://dbpedia.org/resource/Ali_Benflis',\n",
              " 'http://dbpedia.org/resource/Daegu_FC',\n",
              " 'http://dbpedia.org/resource/Agent_Carter_(TV_series)',\n",
              " 'http://dbpedia.org/resource/Empire_of_Japan',\n",
              " 'http://dbpedia.org/resource/Ernst,_Prince_of_Saxe-Meiningen',\n",
              " 'http://dbpedia.org/resource/Black_Widow_(Natasha_Romanova)',\n",
              " 'http://dbpedia.org/resource/The_O.C._(season_3)',\n",
              " 'http://dbpedia.org/resource/Republic_of_Korea_Armed_Forces',\n",
              " 'http://dbpedia.org/resource/Tropical_Storm_Edouard_(2008)',\n",
              " 'http://dbpedia.org/resource/Pondicherry',\n",
              " 'http://dbpedia.org/resource/Sony_Xperia_Z',\n",
              " 'http://dbpedia.org/resource/Mediacorp_Channel_8',\n",
              " 'http://dbpedia.org/resource/1989–90_UEFA_Cup',\n",
              " 'http://dbpedia.org/resource/Hokuto,_Yamanashi',\n",
              " 'http://dbpedia.org/resource/Hans_Geiger',\n",
              " 'http://dbpedia.org/resource/Kosuke_Ota',\n",
              " 'http://dbpedia.org/resource/Naoyuki_Fujita',\n",
              " 'http://dbpedia.org/resource/One_Life_(Mai_Kuraki_album)',\n",
              " 'http://dbpedia.org/resource/JAR_(file_format)',\n",
              " 'http://dbpedia.org/resource/Federal_Reserve_System',\n",
              " 'http://dbpedia.org/resource/Letizia_Ramolino',\n",
              " 'http://dbpedia.org/resource/Space_rock',\n",
              " 'http://dbpedia.org/resource/NHK_World',\n",
              " \"http://dbpedia.org/resource/Alfonso_I_d'Este,_Duke_of_Ferrara\",\n",
              " 'http://dbpedia.org/resource/Sony_Xperia_V',\n",
              " 'http://dbpedia.org/resource/Sarikoli_language',\n",
              " 'http://dbpedia.org/resource/Idlib_Governorate',\n",
              " 'http://dbpedia.org/resource/Obviously',\n",
              " 'http://dbpedia.org/resource/Śāradā_script',\n",
              " 'http://dbpedia.org/resource/South_Pacific_Mandate',\n",
              " 'http://dbpedia.org/resource/Ulla_Schmidt',\n",
              " 'http://dbpedia.org/resource/Rockstar_London',\n",
              " 'http://dbpedia.org/resource/Marie_Antoinette',\n",
              " 'http://dbpedia.org/resource/Elio_Di_Rupo',\n",
              " 'http://dbpedia.org/resource/Bamir_Topi',\n",
              " 'http://dbpedia.org/resource/Sempron',\n",
              " 'http://dbpedia.org/resource/Vlad_Filat',\n",
              " 'http://dbpedia.org/resource/Angelo_Peruzzi',\n",
              " 'http://dbpedia.org/resource/Mr._Hankey,_the_Christmas_Poo',\n",
              " 'http://dbpedia.org/resource/A_Complete:_All_Singles',\n",
              " 'http://dbpedia.org/resource/Andreas_Hinkel',\n",
              " 'http://dbpedia.org/resource/Du_hast',\n",
              " 'http://dbpedia.org/resource/Park_Geun-hye',\n",
              " 'http://dbpedia.org/resource/Martin_Harnik',\n",
              " 'http://dbpedia.org/resource/United_Kingdom_of_Great_Britain_and_Ireland',\n",
              " 'http://dbpedia.org/resource/Cicero',\n",
              " 'http://dbpedia.org/resource/Harry_S._Truman',\n",
              " 'http://dbpedia.org/resource/Luzhniki_Stadium',\n",
              " 'http://dbpedia.org/resource/John_Ballance',\n",
              " 'http://dbpedia.org/resource/Steven_Pienaar',\n",
              " 'http://dbpedia.org/resource/Black_Sea',\n",
              " 'http://dbpedia.org/resource/Rosen_Plevneliev',\n",
              " 'http://dbpedia.org/resource/Google_Web_Toolkit',\n",
              " 'http://dbpedia.org/resource/Xi_County,_Henan',\n",
              " 'http://dbpedia.org/resource/Lien_Chan',\n",
              " 'http://dbpedia.org/resource/City_of_Botany_Bay',\n",
              " 'http://dbpedia.org/resource/Kentucky',\n",
              " 'http://dbpedia.org/resource/Khakas_people',\n",
              " 'http://dbpedia.org/resource/Aimee_Chan',\n",
              " 'http://dbpedia.org/resource/Saudi_Arabia',\n",
              " 'http://dbpedia.org/resource/Hunter_S._Thompson',\n",
              " \"http://dbpedia.org/resource/Mirror's_Edge\",\n",
              " 'http://dbpedia.org/resource/Love,_Day_After_Tomorrow',\n",
              " 'http://dbpedia.org/resource/Israeli_Labor_Party',\n",
              " 'http://dbpedia.org/resource/Barbados',\n",
              " 'http://dbpedia.org/resource/Kurt_Alder',\n",
              " \"http://dbpedia.org/resource/People's_Party_for_Freedom_and_Democracy\",\n",
              " 'http://dbpedia.org/resource/Newark_Liberty_International_Airport',\n",
              " 'http://dbpedia.org/resource/Prime_Minister_of_Canada',\n",
              " 'http://dbpedia.org/resource/Alexis_Tsipras',\n",
              " 'http://dbpedia.org/resource/United_States_Secretary_of_State',\n",
              " 'http://dbpedia.org/resource/Friedrich_Nietzsche',\n",
              " 'http://dbpedia.org/resource/NHK_General_TV',\n",
              " 'http://dbpedia.org/resource/Pauleta',\n",
              " 'http://dbpedia.org/resource/Lucifer_(Shinee_album)',\n",
              " 'http://dbpedia.org/resource/Guangxu_Emperor',\n",
              " 'http://dbpedia.org/resource/Jung-in',\n",
              " 'http://dbpedia.org/resource/Saterland_Frisian_language',\n",
              " 'http://dbpedia.org/resource/Pune',\n",
              " 'http://dbpedia.org/resource/Assam',\n",
              " 'http://dbpedia.org/resource/Augusta_Victoria_of_Schleswig-Holstein',\n",
              " 'http://dbpedia.org/resource/Milan_Kundera',\n",
              " 'http://dbpedia.org/resource/Dress_to_Kill_(After_School_album)',\n",
              " 'http://dbpedia.org/resource/Frienger',\n",
              " 'http://dbpedia.org/resource/Jiangxi_Liansheng_F.C.',\n",
              " 'http://dbpedia.org/resource/Fredrik_Ljungberg',\n",
              " 'http://dbpedia.org/resource/David_Guetta',\n",
              " 'http://dbpedia.org/resource/Nikolai_Luzin',\n",
              " 'http://dbpedia.org/resource/Botswana',\n",
              " 'http://dbpedia.org/resource/Hangzhou_East_Railway_Station',\n",
              " 'http://dbpedia.org/resource/Abdol_Majid_Mirza',\n",
              " 'http://dbpedia.org/resource/Star_(Mika_Nakashima_album)',\n",
              " 'http://dbpedia.org/resource/Detective_Investigation_Files_II',\n",
              " 'http://dbpedia.org/resource/Kazuyoshi_Miura',\n",
              " 'http://dbpedia.org/resource/Nicolas_Cage',\n",
              " 'http://dbpedia.org/resource/William_Lai',\n",
              " 'http://dbpedia.org/resource/Jason_Brown_(footballer)',\n",
              " 'http://dbpedia.org/resource/Dan_Boren',\n",
              " 'http://dbpedia.org/resource/Boston_College',\n",
              " 'http://dbpedia.org/resource/Kara_Hui',\n",
              " 'http://dbpedia.org/resource/NHK_World_Premium',\n",
              " 'http://dbpedia.org/resource/No_Doubt',\n",
              " 'http://dbpedia.org/resource/Anton_Yugov',\n",
              " 'http://dbpedia.org/resource/Crimean_War',\n",
              " 'http://dbpedia.org/resource/Mauro_Boselli',\n",
              " 'http://dbpedia.org/resource/Julia_the_Elder',\n",
              " 'http://dbpedia.org/resource/FC_Lorient',\n",
              " 'http://dbpedia.org/resource/Pakistan_Peoples_Party',\n",
              " 'http://dbpedia.org/resource/Gustav_Ludwig_Hertz',\n",
              " 'http://dbpedia.org/resource/Nvidia',\n",
              " 'http://dbpedia.org/resource/White_(CNBLUE_song)',\n",
              " 'http://dbpedia.org/resource/Prince_Claus_of_the_Netherlands',\n",
              " 'http://dbpedia.org/resource/Nursultan_Nazarbayev',\n",
              " 'http://dbpedia.org/resource/Emperor_Motion_Pictures',\n",
              " 'http://dbpedia.org/resource/Kim_Jong-pil',\n",
              " 'http://dbpedia.org/resource/Enrico_Letta',\n",
              " 'http://dbpedia.org/resource/Angela_Merkel',\n",
              " 'http://dbpedia.org/resource/Alan_Greenspan',\n",
              " 'http://dbpedia.org/resource/Dogsomyn_Bodoo',\n",
              " 'http://dbpedia.org/resource/Auckland',\n",
              " 'http://dbpedia.org/resource/Fábio_Aurélio',\n",
              " 'http://dbpedia.org/resource/Filipino_language',\n",
              " 'http://dbpedia.org/resource/Mohamed_Tchité',\n",
              " ...]"
            ]
          },
          "metadata": {},
          "execution_count": 27
        }
      ]
    },
    {
      "cell_type": "code",
      "source": [
        "batch_size = 100\n",
        "vec_batches = np.array_split(z_en[cluster_1], len(z_en[cluster_1]) // batch_size)"
      ],
      "metadata": {
        "id": "I9qU-_fi3M7v"
      },
      "execution_count": 28,
      "outputs": []
    },
    {
      "cell_type": "code",
      "source": [
        "vec_batches[0]"
      ],
      "metadata": {
        "colab": {
          "base_uri": "https://localhost:8080/"
        },
        "id": "RAYtVhVtiF8W",
        "outputId": "4d05ea94-9565-4905-a036-486f0ff374eb"
      },
      "execution_count": 29,
      "outputs": [
        {
          "output_type": "execute_result",
          "data": {
            "text/plain": [
              "array([[0.06863983, 0.        , 0.11366706, ..., 0.01682202, 0.00612498,\n",
              "        0.01705503],\n",
              "       [0.11404971, 0.        , 0.10578506, ..., 0.01520989, 0.04383544,\n",
              "        0.01306958],\n",
              "       [0.        , 0.00507557, 0.04449937, ..., 0.01979863, 0.01703046,\n",
              "        0.        ],\n",
              "       ...,\n",
              "       [0.02907931, 0.26299125, 0.11273725, ..., 0.05608227, 0.05850654,\n",
              "        0.07812214],\n",
              "       [0.        , 0.        , 0.05425391, ..., 0.01434737, 0.        ,\n",
              "        0.03035101],\n",
              "       [0.16017208, 0.        , 0.        , ..., 0.00762014, 0.        ,\n",
              "        0.0297224 ]], dtype=float32)"
            ]
          },
          "metadata": {},
          "execution_count": 29
        }
      ]
    },
    {
      "cell_type": "code",
      "source": [
        "\n",
        "from  tqdm.auto import tqdm\n",
        "\n",
        "threshold = 0.8\n",
        "similar_nodes = []\n",
        "num_batches = len(vec_batches)\n",
        "\n",
        "# Intra-batch similarity\n",
        "for batch_idx in tqdm(range(num_batches)):\n",
        "    vec_batch = vec_batches[batch_idx]\n",
        "    batch_size = len(vec_batch)\n",
        "    similarities = sim_handler(vec_batch, vec_batch, k=10, nums_threads=4)\n",
        "    for i in range(batch_size):\n",
        "        for j in range(i+1, batch_size):\n",
        "            if similarities[i][j] > threshold:\n",
        "                similar_nodes.append((cluster_1[batch_idx*batch_size + i], cluster_1[batch_idx*batch_size + j]))\n"
      ],
      "metadata": {
        "colab": {
          "base_uri": "https://localhost:8080/",
          "height": 49,
          "referenced_widgets": [
            "c7a8b3dc6f5b4428bfa686fffebd1ca8",
            "87f5aaf32f304457a762e788fe2daf7b",
            "ffe74e2c94cf47d39818d886c296a792",
            "a2e26088ad934b659cb10cfdd77a0b21",
            "a22e889a2a7e4556a59521536cc682d8",
            "c1f8cf4659694bcb8c4dc2f783110412",
            "c54a2fc83c9040c284928d1cbd449318",
            "8177156d6ac14149b3b681c70d79bbf1",
            "0690349343094cf4969438d886753d37",
            "50475e50ddab4697a659d229073b51d4",
            "10acf05da3274cb6a24830a8f5146c7d"
          ]
        },
        "id": "bOjRUpQ8gib-",
        "outputId": "58518733-3bde-4eeb-aa0a-2efa69ae716b"
      },
      "execution_count": 30,
      "outputs": [
        {
          "output_type": "display_data",
          "data": {
            "text/plain": [
              "  0%|          | 0/195 [00:00<?, ?it/s]"
            ],
            "application/vnd.jupyter.widget-view+json": {
              "version_major": 2,
              "version_minor": 0,
              "model_id": "c7a8b3dc6f5b4428bfa686fffebd1ca8"
            }
          },
          "metadata": {}
        }
      ]
    },
    {
      "cell_type": "code",
      "source": [
        "similar_nodes_dict = {}\n",
        "\n",
        "for node_pair in similar_nodes:\n",
        "    node1, node2 = node_pair\n",
        "    if node1 not in similar_nodes_dict:\n",
        "        similar_nodes_dict[node1] = set()\n",
        "    if node2 not in similar_nodes_dict:\n",
        "        similar_nodes_dict[node2] = set()\n",
        "    similar_nodes_dict[node1].add(node2)\n",
        "    similar_nodes_dict[node2].add(node1)"
      ],
      "metadata": {
        "id": "phOcDPBIgrQe"
      },
      "execution_count": 31,
      "outputs": []
    },
    {
      "cell_type": "code",
      "source": [
        "import matplotlib.pyplot as plt\n",
        "\n",
        "\n",
        "colors = ['b', 'g', 'r', 'c', 'm', 'y', 'k']  # You can customize the colors\n",
        "\n",
        "fig, ax = plt.subplots()\n",
        "\n",
        "for i, node in enumerate(similar_nodes_dict.keys()):\n",
        "    embedding = z_en_pca[node]\n",
        "    group = -1  # Assign a default group number\n",
        "    for j, (group_nodes, nodes_set) in enumerate(similar_nodes_dict.items()):\n",
        "        if node in nodes_set:\n",
        "            group = j\n",
        "            break\n",
        "    color = colors[group % len(colors)]  # Choose a color for the group\n",
        "    ax.scatter(embedding[0], embedding[1], color=color)\n",
        "\n",
        "plt.show()"
      ],
      "metadata": {
        "colab": {
          "base_uri": "https://localhost:8080/",
          "height": 265
        },
        "id": "oag3p6wRgu01",
        "outputId": "b436a500-e9f6-4945-b50d-9c25e20b7572"
      },
      "execution_count": 32,
      "outputs": [
        {
          "output_type": "display_data",
          "data": {
            "text/plain": [
              "<Figure size 432x288 with 1 Axes>"
            ],
            "image/png": "[encoded data removed]"
          },
          "metadata": {
            "needs_background": "light"
          }
        }
      ]
    },
    {
      "cell_type": "code",
      "source": [
        "my_list = np.unique([set([k, *v]) for k, v in similar_nodes_dict.items()])\n",
        "my_list"
      ],
      "metadata": {
        "colab": {
          "base_uri": "https://localhost:8080/"
        },
        "id": "qqgeNE7thVxe",
        "outputId": "1e43d681-d1f9-4606-a204-877a5ec0ee46"
      },
      "execution_count": 33,
      "outputs": [
        {
          "output_type": "execute_result",
          "data": {
            "text/plain": [
              "array([{10549, 10511}, {33200, 33252}, {33201, 33229}, ...,\n",
              "       {29905, 29975}, {20995, 20964}, {38880, 38878}], dtype=object)"
            ]
          },
          "metadata": {},
          "execution_count": 33
        }
      ]
    },
    {
      "cell_type": "code",
      "source": [
        "\n",
        "groups_labled=[]\n",
        "\n",
        "for s in my_list:\n",
        "  group=[]\n",
        "  for id in s :\n",
        "    if str(id) in my_dict.keys():\n",
        "      group.append(my_dict[str(id)])\n",
        "  if len(group)!=0:\n",
        "    groups_labled.append(set(group))\n",
        "\n",
        "groups_labled[0:10]"
      ],
      "metadata": {
        "id": "70Qzs2U-hqpm",
        "outputId": "66f0deff-2f94-40d9-d839-6f52706bca31",
        "colab": {
          "base_uri": "https://localhost:8080/"
        }
      },
      "execution_count": 34,
      "outputs": [
        {
          "output_type": "execute_result",
          "data": {
            "text/plain": [
              "[{'http://dbpedia.org/resource/Chris_Paul',\n",
              "  'http://dbpedia.org/resource/John_Wall_(basketball)'},\n",
              " {'http://dbpedia.org/resource/Su_Huan-chih',\n",
              "  'http://dbpedia.org/resource/Summer_Time_Gone'},\n",
              " {'http://dbpedia.org/resource/Delhi_Dynamos_FC',\n",
              "  'http://dbpedia.org/resource/Jin_Renqing'},\n",
              " {'http://dbpedia.org/resource/Prince_Louis_of_Luxembourg',\n",
              "  \"http://dbpedia.org/resource/Tom_Clancy's_Ghost_Recon:_Shadow_Wars\"},\n",
              " {'http://dbpedia.org/resource/Chibi_City',\n",
              "  'http://dbpedia.org/resource/Obama_Line'},\n",
              " {'http://dbpedia.org/resource/Kim_Hye-seong',\n",
              "  'http://dbpedia.org/resource/Tomadoi_Nagara'},\n",
              " {'http://dbpedia.org/resource/Chicago',\n",
              "  'http://dbpedia.org/resource/Eita',\n",
              "  'http://dbpedia.org/resource/Shire_of_Hinchinbrook'},\n",
              " {'http://dbpedia.org/resource/Dost_Mohammad_Khan_(Emir_of_Afghanistan)',\n",
              "  'http://dbpedia.org/resource/Yahya_Ould_Ahmed_El_Waghef'},\n",
              " {'http://dbpedia.org/resource/Noriko_Senge',\n",
              "  'http://dbpedia.org/resource/SpVgg_Greuther_Fürth'},\n",
              " {'http://dbpedia.org/resource/Harris_County,_Texas',\n",
              "  'http://dbpedia.org/resource/Kim_Hye-seong',\n",
              "  'http://dbpedia.org/resource/Tomadoi_Nagara',\n",
              "  'http://dbpedia.org/resource/Volvo'}]"
            ]
          },
          "metadata": {},
          "execution_count": 34
        }
      ]
    },
    {
      "cell_type": "code",
      "source": [],
      "metadata": {
        "id": "mcI4b_Pp-40h"
      },
      "execution_count": null,
      "outputs": []
    }
  ],
  "metadata": {
    "kernelspec": {
      "display_name": "Python 3",
      "language": "python",
      "name": "python3"
    },
    "language_info": {
      "codemirror_mode": {
        "name": "ipython",
        "version": 3
      },
      "file_extension": ".py",
      "mimetype": "text/x-python",
      "name": "python",
      "nbconvert_exporter": "python",
      "pygments_lexer": "ipython3",
      "version": "3.6.5"
    },
    "colab": {
      "provenance": [],
      "machine_shape": "hm",
      "include_colab_link": true
    },
    "accelerator": "GPU",
    "gpuClass": "premium",
    "widgets": {
      "application/vnd.jupyter.widget-state+json": {
        "914058e90b294415a24a63f8002424dd": {
          "model_module": "@jupyter-widgets/controls",
          "model_name": "HBoxModel",
          "model_module_version": "1.5.0",
          "state": {
            "_dom_classes": [],
            "_model_module": "@jupyter-widgets/controls",
            "_model_module_version": "1.5.0",
            "_model_name": "HBoxModel",
            "_view_count": null,
            "_view_module": "@jupyter-widgets/controls",
            "_view_module_version": "1.5.0",
            "_view_name": "HBoxView",
            "box_style": "",
            "children": [
              "IPY_MODEL_0dc52ada6da943a29c036708be4d97c4",
              "IPY_MODEL_a4f56e7ff86a44a290c96be1a6aed933",
              "IPY_MODEL_fde7d82a61734a78bd48fe33ede6bb57"
            ],
            "layout": "IPY_MODEL_6f84424b4c1747569f6a336f2fbf1afa"
          }
        },
        "0dc52ada6da943a29c036708be4d97c4": {
          "model_module": "@jupyter-widgets/controls",
          "model_name": "HTMLModel",
          "model_module_version": "1.5.0",
          "state": {
            "_dom_classes": [],
            "_model_module": "@jupyter-widgets/controls",
            "_model_module_version": "1.5.0",
            "_model_name": "HTMLModel",
            "_view_count": null,
            "_view_module": "@jupyter-widgets/controls",
            "_view_module_version": "1.5.0",
            "_view_name": "HTMLView",
            "description": "",
            "description_tooltip": null,
            "layout": "IPY_MODEL_63050e9d96e34a1c93af8a6238b9200d",
            "placeholder": "​",
            "style": "IPY_MODEL_35836df3bb1946b88d7f20e6e0d8032f",
            "value": "  8%"
          }
        },
        "a4f56e7ff86a44a290c96be1a6aed933": {
          "model_module": "@jupyter-widgets/controls",
          "model_name": "FloatProgressModel",
          "model_module_version": "1.5.0",
          "state": {
            "_dom_classes": [],
            "_model_module": "@jupyter-widgets/controls",
            "_model_module_version": "1.5.0",
            "_model_name": "FloatProgressModel",
            "_view_count": null,
            "_view_module": "@jupyter-widgets/controls",
            "_view_module_version": "1.5.0",
            "_view_name": "ProgressView",
            "bar_style": "danger",
            "description": "",
            "description_tooltip": null,
            "layout": "IPY_MODEL_b44083ed7bda40c7a3bc0a5944a62f57",
            "max": 389,
            "min": 0,
            "orientation": "horizontal",
            "style": "IPY_MODEL_f1a0d355b6f840219a94b2ee74a6a79b",
            "value": 31
          }
        },
        "fde7d82a61734a78bd48fe33ede6bb57": {
          "model_module": "@jupyter-widgets/controls",
          "model_name": "HTMLModel",
          "model_module_version": "1.5.0",
          "state": {
            "_dom_classes": [],
            "_model_module": "@jupyter-widgets/controls",
            "_model_module_version": "1.5.0",
            "_model_name": "HTMLModel",
            "_view_count": null,
            "_view_module": "@jupyter-widgets/controls",
            "_view_module_version": "1.5.0",
            "_view_name": "HTMLView",
            "description": "",
            "description_tooltip": null,
            "layout": "IPY_MODEL_02087e2286c94a82a8dc163126cd49e7",
            "placeholder": "​",
            "style": "IPY_MODEL_6a4202183d7a4849a40267de4d77a609",
            "value": " 31/389 [00:12&lt;02:22,  2.51it/s]"
          }
        },
        "6f84424b4c1747569f6a336f2fbf1afa": {
          "model_module": "@jupyter-widgets/base",
          "model_name": "LayoutModel",
          "model_module_version": "1.2.0",
          "state": {
            "_model_module": "@jupyter-widgets/base",
            "_model_module_version": "1.2.0",
            "_model_name": "LayoutModel",
            "_view_count": null,
            "_view_module": "@jupyter-widgets/base",
            "_view_module_version": "1.2.0",
            "_view_name": "LayoutView",
            "align_content": null,
            "align_items": null,
            "align_self": null,
            "border": null,
            "bottom": null,
            "display": null,
            "flex": null,
            "flex_flow": null,
            "grid_area": null,
            "grid_auto_columns": null,
            "grid_auto_flow": null,
            "grid_auto_rows": null,
            "grid_column": null,
            "grid_gap": null,
            "grid_row": null,
            "grid_template_areas": null,
            "grid_template_columns": null,
            "grid_template_rows": null,
            "height": null,
            "justify_content": null,
            "justify_items": null,
            "left": null,
            "margin": null,
            "max_height": null,
            "max_width": null,
            "min_height": null,
            "min_width": null,
            "object_fit": null,
            "object_position": null,
            "order": null,
            "overflow": null,
            "overflow_x": null,
            "overflow_y": null,
            "padding": null,
            "right": null,
            "top": null,
            "visibility": null,
            "width": null
          }
        },
        "63050e9d96e34a1c93af8a6238b9200d": {
          "model_module": "@jupyter-widgets/base",
          "model_name": "LayoutModel",
          "model_module_version": "1.2.0",
          "state": {
            "_model_module": "@jupyter-widgets/base",
            "_model_module_version": "1.2.0",
            "_model_name": "LayoutModel",
            "_view_count": null,
            "_view_module": "@jupyter-widgets/base",
            "_view_module_version": "1.2.0",
            "_view_name": "LayoutView",
            "align_content": null,
            "align_items": null,
            "align_self": null,
            "border": null,
            "bottom": null,
            "display": null,
            "flex": null,
            "flex_flow": null,
            "grid_area": null,
            "grid_auto_columns": null,
            "grid_auto_flow": null,
            "grid_auto_rows": null,
            "grid_column": null,
            "grid_gap": null,
            "grid_row": null,
            "grid_template_areas": null,
            "grid_template_columns": null,
            "grid_template_rows": null,
            "height": null,
            "justify_content": null,
            "justify_items": null,
            "left": null,
            "margin": null,
            "max_height": null,
            "max_width": null,
            "min_height": null,
            "min_width": null,
            "object_fit": null,
            "object_position": null,
            "order": null,
            "overflow": null,
            "overflow_x": null,
            "overflow_y": null,
            "padding": null,
            "right": null,
            "top": null,
            "visibility": null,
            "width": null
          }
        },
        "35836df3bb1946b88d7f20e6e0d8032f": {
          "model_module": "@jupyter-widgets/controls",
          "model_name": "DescriptionStyleModel",
          "model_module_version": "1.5.0",
          "state": {
            "_model_module": "@jupyter-widgets/controls",
            "_model_module_version": "1.5.0",
            "_model_name": "DescriptionStyleModel",
            "_view_count": null,
            "_view_module": "@jupyter-widgets/base",
            "_view_module_version": "1.2.0",
            "_view_name": "StyleView",
            "description_width": ""
          }
        },
        "b44083ed7bda40c7a3bc0a5944a62f57": {
          "model_module": "@jupyter-widgets/base",
          "model_name": "LayoutModel",
          "model_module_version": "1.2.0",
          "state": {
            "_model_module": "@jupyter-widgets/base",
            "_model_module_version": "1.2.0",
            "_model_name": "LayoutModel",
            "_view_count": null,
            "_view_module": "@jupyter-widgets/base",
            "_view_module_version": "1.2.0",
            "_view_name": "LayoutView",
            "align_content": null,
            "align_items": null,
            "align_self": null,
            "border": null,
            "bottom": null,
            "display": null,
            "flex": null,
            "flex_flow": null,
            "grid_area": null,
            "grid_auto_columns": null,
            "grid_auto_flow": null,
            "grid_auto_rows": null,
            "grid_column": null,
            "grid_gap": null,
            "grid_row": null,
            "grid_template_areas": null,
            "grid_template_columns": null,
            "grid_template_rows": null,
            "height": null,
            "justify_content": null,
            "justify_items": null,
            "left": null,
            "margin": null,
            "max_height": null,
            "max_width": null,
            "min_height": null,
            "min_width": null,
            "object_fit": null,
            "object_position": null,
            "order": null,
            "overflow": null,
            "overflow_x": null,
            "overflow_y": null,
            "padding": null,
            "right": null,
            "top": null,
            "visibility": null,
            "width": null
          }
        },
        "f1a0d355b6f840219a94b2ee74a6a79b": {
          "model_module": "@jupyter-widgets/controls",
          "model_name": "ProgressStyleModel",
          "model_module_version": "1.5.0",
          "state": {
            "_model_module": "@jupyter-widgets/controls",
            "_model_module_version": "1.5.0",
            "_model_name": "ProgressStyleModel",
            "_view_count": null,
            "_view_module": "@jupyter-widgets/base",
            "_view_module_version": "1.2.0",
            "_view_name": "StyleView",
            "bar_color": null,
            "description_width": ""
          }
        },
        "02087e2286c94a82a8dc163126cd49e7": {
          "model_module": "@jupyter-widgets/base",
          "model_name": "LayoutModel",
          "model_module_version": "1.2.0",
          "state": {
            "_model_module": "@jupyter-widgets/base",
            "_model_module_version": "1.2.0",
            "_model_name": "LayoutModel",
            "_view_count": null,
            "_view_module": "@jupyter-widgets/base",
            "_view_module_version": "1.2.0",
            "_view_name": "LayoutView",
            "align_content": null,
            "align_items": null,
            "align_self": null,
            "border": null,
            "bottom": null,
            "display": null,
            "flex": null,
            "flex_flow": null,
            "grid_area": null,
            "grid_auto_columns": null,
            "grid_auto_flow": null,
            "grid_auto_rows": null,
            "grid_column": null,
            "grid_gap": null,
            "grid_row": null,
            "grid_template_areas": null,
            "grid_template_columns": null,
            "grid_template_rows": null,
            "height": null,
            "justify_content": null,
            "justify_items": null,
            "left": null,
            "margin": null,
            "max_height": null,
            "max_width": null,
            "min_height": null,
            "min_width": null,
            "object_fit": null,
            "object_position": null,
            "order": null,
            "overflow": null,
            "overflow_x": null,
            "overflow_y": null,
            "padding": null,
            "right": null,
            "top": null,
            "visibility": null,
            "width": null
          }
        },
        "6a4202183d7a4849a40267de4d77a609": {
          "model_module": "@jupyter-widgets/controls",
          "model_name": "DescriptionStyleModel",
          "model_module_version": "1.5.0",
          "state": {
            "_model_module": "@jupyter-widgets/controls",
            "_model_module_version": "1.5.0",
            "_model_name": "DescriptionStyleModel",
            "_view_count": null,
            "_view_module": "@jupyter-widgets/base",
            "_view_module_version": "1.2.0",
            "_view_name": "StyleView",
            "description_width": ""
          }
        },
        "c7a8b3dc6f5b4428bfa686fffebd1ca8": {
          "model_module": "@jupyter-widgets/controls",
          "model_name": "HBoxModel",
          "model_module_version": "1.5.0",
          "state": {
            "_dom_classes": [],
            "_model_module": "@jupyter-widgets/controls",
            "_model_module_version": "1.5.0",
            "_model_name": "HBoxModel",
            "_view_count": null,
            "_view_module": "@jupyter-widgets/controls",
            "_view_module_version": "1.5.0",
            "_view_name": "HBoxView",
            "box_style": "",
            "children": [
              "IPY_MODEL_87f5aaf32f304457a762e788fe2daf7b",
              "IPY_MODEL_ffe74e2c94cf47d39818d886c296a792",
              "IPY_MODEL_a2e26088ad934b659cb10cfdd77a0b21"
            ],
            "layout": "IPY_MODEL_a22e889a2a7e4556a59521536cc682d8"
          }
        },
        "87f5aaf32f304457a762e788fe2daf7b": {
          "model_module": "@jupyter-widgets/controls",
          "model_name": "HTMLModel",
          "model_module_version": "1.5.0",
          "state": {
            "_dom_classes": [],
            "_model_module": "@jupyter-widgets/controls",
            "_model_module_version": "1.5.0",
            "_model_name": "HTMLModel",
            "_view_count": null,
            "_view_module": "@jupyter-widgets/controls",
            "_view_module_version": "1.5.0",
            "_view_name": "HTMLView",
            "description": "",
            "description_tooltip": null,
            "layout": "IPY_MODEL_c1f8cf4659694bcb8c4dc2f783110412",
            "placeholder": "​",
            "style": "IPY_MODEL_c54a2fc83c9040c284928d1cbd449318",
            "value": "100%"
          }
        },
        "ffe74e2c94cf47d39818d886c296a792": {
          "model_module": "@jupyter-widgets/controls",
          "model_name": "FloatProgressModel",
          "model_module_version": "1.5.0",
          "state": {
            "_dom_classes": [],
            "_model_module": "@jupyter-widgets/controls",
            "_model_module_version": "1.5.0",
            "_model_name": "FloatProgressModel",
            "_view_count": null,
            "_view_module": "@jupyter-widgets/controls",
            "_view_module_version": "1.5.0",
            "_view_name": "ProgressView",
            "bar_style": "success",
            "description": "",
            "description_tooltip": null,
            "layout": "IPY_MODEL_8177156d6ac14149b3b681c70d79bbf1",
            "max": 195,
            "min": 0,
            "orientation": "horizontal",
            "style": "IPY_MODEL_0690349343094cf4969438d886753d37",
            "value": 195
          }
        },
        "a2e26088ad934b659cb10cfdd77a0b21": {
          "model_module": "@jupyter-widgets/controls",
          "model_name": "HTMLModel",
          "model_module_version": "1.5.0",
          "state": {
            "_dom_classes": [],
            "_model_module": "@jupyter-widgets/controls",
            "_model_module_version": "1.5.0",
            "_model_name": "HTMLModel",
            "_view_count": null,
            "_view_module": "@jupyter-widgets/controls",
            "_view_module_version": "1.5.0",
            "_view_name": "HTMLView",
            "description": "",
            "description_tooltip": null,
            "layout": "IPY_MODEL_50475e50ddab4697a659d229073b51d4",
            "placeholder": "​",
            "style": "IPY_MODEL_10acf05da3274cb6a24830a8f5146c7d",
            "value": " 195/195 [01:55&lt;00:00,  1.69it/s]"
          }
        },
        "a22e889a2a7e4556a59521536cc682d8": {
          "model_module": "@jupyter-widgets/base",
          "model_name": "LayoutModel",
          "model_module_version": "1.2.0",
          "state": {
            "_model_module": "@jupyter-widgets/base",
            "_model_module_version": "1.2.0",
            "_model_name": "LayoutModel",
            "_view_count": null,
            "_view_module": "@jupyter-widgets/base",
            "_view_module_version": "1.2.0",
            "_view_name": "LayoutView",
            "align_content": null,
            "align_items": null,
            "align_self": null,
            "border": null,
            "bottom": null,
            "display": null,
            "flex": null,
            "flex_flow": null,
            "grid_area": null,
            "grid_auto_columns": null,
            "grid_auto_flow": null,
            "grid_auto_rows": null,
            "grid_column": null,
            "grid_gap": null,
            "grid_row": null,
            "grid_template_areas": null,
            "grid_template_columns": null,
            "grid_template_rows": null,
            "height": null,
            "justify_content": null,
            "justify_items": null,
            "left": null,
            "margin": null,
            "max_height": null,
            "max_width": null,
            "min_height": null,
            "min_width": null,
            "object_fit": null,
            "object_position": null,
            "order": null,
            "overflow": null,
            "overflow_x": null,
            "overflow_y": null,
            "padding": null,
            "right": null,
            "top": null,
            "visibility": null,
            "width": null
          }
        },
        "c1f8cf4659694bcb8c4dc2f783110412": {
          "model_module": "@jupyter-widgets/base",
          "model_name": "LayoutModel",
          "model_module_version": "1.2.0",
          "state": {
            "_model_module": "@jupyter-widgets/base",
            "_model_module_version": "1.2.0",
            "_model_name": "LayoutModel",
            "_view_count": null,
            "_view_module": "@jupyter-widgets/base",
            "_view_module_version": "1.2.0",
            "_view_name": "LayoutView",
            "align_content": null,
            "align_items": null,
            "align_self": null,
            "border": null,
            "bottom": null,
            "display": null,
            "flex": null,
            "flex_flow": null,
            "grid_area": null,
            "grid_auto_columns": null,
            "grid_auto_flow": null,
            "grid_auto_rows": null,
            "grid_column": null,
            "grid_gap": null,
            "grid_row": null,
            "grid_template_areas": null,
            "grid_template_columns": null,
            "grid_template_rows": null,
            "height": null,
            "justify_content": null,
            "justify_items": null,
            "left": null,
            "margin": null,
            "max_height": null,
            "max_width": null,
            "min_height": null,
            "min_width": null,
            "object_fit": null,
            "object_position": null,
            "order": null,
            "overflow": null,
            "overflow_x": null,
            "overflow_y": null,
            "padding": null,
            "right": null,
            "top": null,
            "visibility": null,
            "width": null
          }
        },
        "c54a2fc83c9040c284928d1cbd449318": {
          "model_module": "@jupyter-widgets/controls",
          "model_name": "DescriptionStyleModel",
          "model_module_version": "1.5.0",
          "state": {
            "_model_module": "@jupyter-widgets/controls",
            "_model_module_version": "1.5.0",
            "_model_name": "DescriptionStyleModel",
            "_view_count": null,
            "_view_module": "@jupyter-widgets/base",
            "_view_module_version": "1.2.0",
            "_view_name": "StyleView",
            "description_width": ""
          }
        },
        "8177156d6ac14149b3b681c70d79bbf1": {
          "model_module": "@jupyter-widgets/base",
          "model_name": "LayoutModel",
          "model_module_version": "1.2.0",
          "state": {
            "_model_module": "@jupyter-widgets/base",
            "_model_module_version": "1.2.0",
            "_model_name": "LayoutModel",
            "_view_count": null,
            "_view_module": "@jupyter-widgets/base",
            "_view_module_version": "1.2.0",
            "_view_name": "LayoutView",
            "align_content": null,
            "align_items": null,
            "align_self": null,
            "border": null,
            "bottom": null,
            "display": null,
            "flex": null,
            "flex_flow": null,
            "grid_area": null,
            "grid_auto_columns": null,
            "grid_auto_flow": null,
            "grid_auto_rows": null,
            "grid_column": null,
            "grid_gap": null,
            "grid_row": null,
            "grid_template_areas": null,
            "grid_template_columns": null,
            "grid_template_rows": null,
            "height": null,
            "justify_content": null,
            "justify_items": null,
            "left": null,
            "margin": null,
            "max_height": null,
            "max_width": null,
            "min_height": null,
            "min_width": null,
            "object_fit": null,
            "object_position": null,
            "order": null,
            "overflow": null,
            "overflow_x": null,
            "overflow_y": null,
            "padding": null,
            "right": null,
            "top": null,
            "visibility": null,
            "width": null
          }
        },
        "0690349343094cf4969438d886753d37": {
          "model_module": "@jupyter-widgets/controls",
          "model_name": "ProgressStyleModel",
          "model_module_version": "1.5.0",
          "state": {
            "_model_module": "@jupyter-widgets/controls",
            "_model_module_version": "1.5.0",
            "_model_name": "ProgressStyleModel",
            "_view_count": null,
            "_view_module": "@jupyter-widgets/base",
            "_view_module_version": "1.2.0",
            "_view_name": "StyleView",
            "bar_color": null,
            "description_width": ""
          }
        },
        "50475e50ddab4697a659d229073b51d4": {
          "model_module": "@jupyter-widgets/base",
          "model_name": "LayoutModel",
          "model_module_version": "1.2.0",
          "state": {
            "_model_module": "@jupyter-widgets/base",
            "_model_module_version": "1.2.0",
            "_model_name": "LayoutModel",
            "_view_count": null,
            "_view_module": "@jupyter-widgets/base",
            "_view_module_version": "1.2.0",
            "_view_name": "LayoutView",
            "align_content": null,
            "align_items": null,
            "align_self": null,
            "border": null,
            "bottom": null,
            "display": null,
            "flex": null,
            "flex_flow": null,
            "grid_area": null,
            "grid_auto_columns": null,
            "grid_auto_flow": null,
            "grid_auto_rows": null,
            "grid_column": null,
            "grid_gap": null,
            "grid_row": null,
            "grid_template_areas": null,
            "grid_template_columns": null,
            "grid_template_rows": null,
            "height": null,
            "justify_content": null,
            "justify_items": null,
            "left": null,
            "margin": null,
            "max_height": null,
            "max_width": null,
            "min_height": null,
            "min_width": null,
            "object_fit": null,
            "object_position": null,
            "order": null,
            "overflow": null,
            "overflow_x": null,
            "overflow_y": null,
            "padding": null,
            "right": null,
            "top": null,
            "visibility": null,
            "width": null
          }
        },
        "10acf05da3274cb6a24830a8f5146c7d": {
          "model_module": "@jupyter-widgets/controls",
          "model_name": "DescriptionStyleModel",
          "model_module_version": "1.5.0",
          "state": {
            "_model_module": "@jupyter-widgets/controls",
            "_model_module_version": "1.5.0",
            "_model_name": "DescriptionStyleModel",
            "_view_count": null,
            "_view_module": "@jupyter-widgets/base",
            "_view_module_version": "1.2.0",
            "_view_name": "StyleView",
            "description_width": ""
          }
        }
      }
    }
  },
  "nbformat": 4,
  "nbformat_minor": 0
}